{
  "cells": [
    {
      "cell_type": "code",
      "execution_count": 1,
      "id": "c738f224",
      "metadata": {
        "colab": {
          "base_uri": "https://localhost:8080/"
        },
        "id": "c738f224",
        "outputId": "94b01d72-e0f3-44df-fe5b-0d7687e65e4d"
      },
      "outputs": [
        {
          "output_type": "execute_result",
          "data": {
            "text/plain": [
              "1"
            ]
          },
          "metadata": {},
          "execution_count": 1
        }
      ],
      "source": [
        "1 #Int Data Point"
      ]
    },
    {
      "cell_type": "code",
      "execution_count": 2,
      "id": "e7b26d37",
      "metadata": {
        "colab": {
          "base_uri": "https://localhost:8080/"
        },
        "id": "e7b26d37",
        "outputId": "246cc93d-92f9-479d-b8f2-a4ee22149468"
      },
      "outputs": [
        {
          "output_type": "execute_result",
          "data": {
            "text/plain": [
              "1.0"
            ]
          },
          "metadata": {},
          "execution_count": 2
        }
      ],
      "source": [
        "1.0 #Float Data Point"
      ]
    },
    {
      "cell_type": "code",
      "execution_count": 3,
      "id": "267c0596",
      "metadata": {
        "colab": {
          "base_uri": "https://localhost:8080/"
        },
        "id": "267c0596",
        "outputId": "f5966def-df56-4902-9fa1-cf65c7dffa5e"
      },
      "outputs": [
        {
          "output_type": "execute_result",
          "data": {
            "text/plain": [
              "int"
            ]
          },
          "metadata": {},
          "execution_count": 3
        }
      ],
      "source": [
        "#type() is a built-in function that returns the type of the objects/data elements stored in any data type\n",
        "#or returns a new type object depending on the arguments passed to the function.\n",
        "#The Python type() function prints what type of data structures are used to store the data elements in a program.\n",
        "\n",
        "type(1)"
      ]
    },
    {
      "cell_type": "code",
      "execution_count": 4,
      "id": "dce6f208",
      "metadata": {
        "colab": {
          "base_uri": "https://localhost:8080/"
        },
        "id": "dce6f208",
        "outputId": "cdc8b92e-fbfd-4857-b465-06d927872ac1"
      },
      "outputs": [
        {
          "output_type": "execute_result",
          "data": {
            "text/plain": [
              "float"
            ]
          },
          "metadata": {},
          "execution_count": 4
        }
      ],
      "source": [
        "type(1.0)"
      ]
    },
    {
      "cell_type": "code",
      "execution_count": 5,
      "id": "14f4890d",
      "metadata": {
        "colab": {
          "base_uri": "https://localhost:8080/"
        },
        "id": "14f4890d",
        "outputId": "5cab31ea-9e1e-4678-cd8a-bc16f9622193"
      },
      "outputs": [
        {
          "output_type": "execute_result",
          "data": {
            "text/plain": [
              "3"
            ]
          },
          "metadata": {},
          "execution_count": 5
        }
      ],
      "source": [
        "1 + 2 #Addition"
      ]
    },
    {
      "cell_type": "code",
      "source": [
        "4 - 2 #Subtraction"
      ],
      "metadata": {
        "colab": {
          "base_uri": "https://localhost:8080/"
        },
        "id": "iLNuXQrtZ3H1",
        "outputId": "2f1e66b3-97d2-4577-ed97-98ebb84ccb73"
      },
      "id": "iLNuXQrtZ3H1",
      "execution_count": 6,
      "outputs": [
        {
          "output_type": "execute_result",
          "data": {
            "text/plain": [
              "2"
            ]
          },
          "metadata": {},
          "execution_count": 6
        }
      ]
    },
    {
      "cell_type": "code",
      "execution_count": 7,
      "id": "57a2e945",
      "metadata": {
        "colab": {
          "base_uri": "https://localhost:8080/"
        },
        "id": "57a2e945",
        "outputId": "a2412e63-a6aa-4992-dc91-ca0483082de4"
      },
      "outputs": [
        {
          "output_type": "execute_result",
          "data": {
            "text/plain": [
              "3"
            ]
          },
          "metadata": {},
          "execution_count": 7
        }
      ],
      "source": [
        "1 * 3 #Multiplication"
      ]
    },
    {
      "cell_type": "code",
      "execution_count": 8,
      "id": "a4fc6095",
      "metadata": {
        "colab": {
          "base_uri": "https://localhost:8080/"
        },
        "id": "a4fc6095",
        "outputId": "58b64c76-8ec6-4e69-8615-97ddba3218bd"
      },
      "outputs": [
        {
          "output_type": "execute_result",
          "data": {
            "text/plain": [
              "0.5"
            ]
          },
          "metadata": {},
          "execution_count": 8
        }
      ],
      "source": [
        "1 / 2 #Division"
      ]
    },
    {
      "cell_type": "code",
      "execution_count": 9,
      "id": "b1e62523",
      "metadata": {
        "colab": {
          "base_uri": "https://localhost:8080/"
        },
        "id": "b1e62523",
        "outputId": "aae48d1b-d7d5-45fc-b741-f05501c6ef19"
      },
      "outputs": [
        {
          "output_type": "execute_result",
          "data": {
            "text/plain": [
              "16"
            ]
          },
          "metadata": {},
          "execution_count": 9
        }
      ],
      "source": [
        "2 ** 4 #Exponentiation"
      ]
    },
    {
      "cell_type": "code",
      "execution_count": 10,
      "id": "f73d79b2",
      "metadata": {
        "colab": {
          "base_uri": "https://localhost:8080/"
        },
        "id": "f73d79b2",
        "outputId": "139b1acc-54dd-4d1a-a982-057244ee146c"
      },
      "outputs": [
        {
          "output_type": "execute_result",
          "data": {
            "text/plain": [
              "0"
            ]
          },
          "metadata": {},
          "execution_count": 10
        }
      ],
      "source": [
        "4 % 2 #Modulus"
      ]
    },
    {
      "cell_type": "code",
      "execution_count": 11,
      "id": "40fad984",
      "metadata": {
        "colab": {
          "base_uri": "https://localhost:8080/"
        },
        "id": "40fad984",
        "outputId": "378dcca4-a393-459c-a4be-a516b5407272"
      },
      "outputs": [
        {
          "output_type": "execute_result",
          "data": {
            "text/plain": [
              "0"
            ]
          },
          "metadata": {},
          "execution_count": 11
        }
      ],
      "source": [
        "5 % 1 #Modulus"
      ]
    },
    {
      "cell_type": "code",
      "execution_count": 12,
      "id": "5f515053",
      "metadata": {
        "colab": {
          "base_uri": "https://localhost:8080/"
        },
        "id": "5f515053",
        "outputId": "b5620225-d0bf-47b1-aa62-5436a045e4ab"
      },
      "outputs": [
        {
          "output_type": "execute_result",
          "data": {
            "text/plain": [
              "22"
            ]
          },
          "metadata": {},
          "execution_count": 12
        }
      ],
      "source": [
        "2 + 3 * 5 + 5"
      ]
    },
    {
      "cell_type": "code",
      "execution_count": 13,
      "id": "cd651529",
      "metadata": {
        "colab": {
          "base_uri": "https://localhost:8080/"
        },
        "id": "cd651529",
        "outputId": "bc486fee-028f-472c-ee28-ff909c3cb77c"
      },
      "outputs": [
        {
          "output_type": "execute_result",
          "data": {
            "text/plain": [
              "50"
            ]
          },
          "metadata": {},
          "execution_count": 13
        }
      ],
      "source": [
        "(2 + 3) * (5 + 5)"
      ]
    },
    {
      "cell_type": "code",
      "execution_count": 14,
      "id": "97f3c178",
      "metadata": {
        "id": "97f3c178"
      },
      "outputs": [],
      "source": [
        "#Variables are containers for storing data values.\n",
        "#Python has no command for declaring a variable.\n",
        "#A variable is created the moment you first assign a value to it.\n",
        "\n",
        "name_of_var = 2 "
      ]
    },
    {
      "cell_type": "code",
      "execution_count": 15,
      "id": "bdf2106c",
      "metadata": {
        "id": "bdf2106c"
      },
      "outputs": [],
      "source": [
        "x = 1\n",
        "y = 2"
      ]
    },
    {
      "cell_type": "code",
      "execution_count": 16,
      "id": "5af6bae3",
      "metadata": {
        "colab": {
          "base_uri": "https://localhost:8080/"
        },
        "id": "5af6bae3",
        "outputId": "6da989dc-9cf6-4e54-be35-7bcb2e645c74"
      },
      "outputs": [
        {
          "output_type": "execute_result",
          "data": {
            "text/plain": [
              "3"
            ]
          },
          "metadata": {},
          "execution_count": 16
        }
      ],
      "source": [
        "x + y"
      ]
    },
    {
      "cell_type": "code",
      "execution_count": 17,
      "id": "96a37e0f",
      "metadata": {
        "colab": {
          "base_uri": "https://localhost:8080/",
          "height": 36
        },
        "id": "96a37e0f",
        "outputId": "e128c903-df3b-4ef5-946f-bea4f390776d"
      },
      "outputs": [
        {
          "output_type": "execute_result",
          "data": {
            "text/plain": [
              "'string'"
            ],
            "application/vnd.google.colaboratory.intrinsic+json": {
              "type": "string"
            }
          },
          "metadata": {},
          "execution_count": 17
        }
      ],
      "source": [
        "#Strings in python are surrounded by either single quotation marks, or double quotation marks.\n",
        "\n",
        "'string'"
      ]
    },
    {
      "cell_type": "code",
      "execution_count": 18,
      "id": "aa0deb37",
      "metadata": {
        "colab": {
          "base_uri": "https://localhost:8080/",
          "height": 36
        },
        "id": "aa0deb37",
        "outputId": "51be5629-5b55-42ab-e4f1-3460e4ee901a"
      },
      "outputs": [
        {
          "output_type": "execute_result",
          "data": {
            "text/plain": [
              "'double'"
            ],
            "application/vnd.google.colaboratory.intrinsic+json": {
              "type": "string"
            }
          },
          "metadata": {},
          "execution_count": 18
        }
      ],
      "source": [
        "\"double\""
      ]
    },
    {
      "cell_type": "code",
      "execution_count": 19,
      "id": "3befef8d",
      "metadata": {
        "colab": {
          "base_uri": "https://localhost:8080/",
          "height": 36
        },
        "id": "3befef8d",
        "outputId": "9c4db33e-34e8-4915-e154-d70abebe06a5"
      },
      "outputs": [
        {
          "output_type": "execute_result",
          "data": {
            "text/plain": [
              "\"I don't like that\""
            ],
            "application/vnd.google.colaboratory.intrinsic+json": {
              "type": "string"
            }
          },
          "metadata": {},
          "execution_count": 19
        }
      ],
      "source": [
        "\"I don't like that\""
      ]
    },
    {
      "cell_type": "code",
      "execution_count": 20,
      "id": "8b53a9d9",
      "metadata": {
        "colab": {
          "base_uri": "https://localhost:8080/"
        },
        "id": "8b53a9d9",
        "outputId": "4f832cb2-0513-4ace-e8a1-afbb56b724f0"
      },
      "outputs": [
        {
          "output_type": "stream",
          "name": "stdout",
          "text": [
            "Hello\n"
          ]
        }
      ],
      "source": [
        "#The print() function prints the specified message to the screen, or other standard output device.\n",
        "#The message can be a string, or any other object,\n",
        "#the object will be converted into a string before written to the screen.\n",
        "\n",
        "print(\"Hello\")"
      ]
    },
    {
      "cell_type": "code",
      "execution_count": 21,
      "id": "fa19c958",
      "metadata": {
        "colab": {
          "base_uri": "https://localhost:8080/",
          "height": 36
        },
        "id": "fa19c958",
        "outputId": "b524a5c5-15a6-4b30-abfa-9d9ff744e68a"
      },
      "outputs": [
        {
          "output_type": "execute_result",
          "data": {
            "text/plain": [
              "'Hello'"
            ],
            "application/vnd.google.colaboratory.intrinsic+json": {
              "type": "string"
            }
          },
          "metadata": {},
          "execution_count": 21
        }
      ],
      "source": [
        "\"Hello\""
      ]
    },
    {
      "cell_type": "code",
      "execution_count": 22,
      "id": "de7ec891",
      "metadata": {
        "colab": {
          "base_uri": "https://localhost:8080/"
        },
        "id": "de7ec891",
        "outputId": "339be821-54d2-452a-8356-8793a00973f5"
      },
      "outputs": [
        {
          "output_type": "stream",
          "name": "stdout",
          "text": [
            "My name is Vijay.\n"
          ]
        }
      ],
      "source": [
        "#The format() method formats the specified value(s) and insert them inside the string's placeholder\n",
        "\n",
        "print(\"My name is {}.\".format(\"Vijay\"))"
      ]
    },
    {
      "cell_type": "code",
      "execution_count": 23,
      "id": "51f70201",
      "metadata": {
        "colab": {
          "base_uri": "https://localhost:8080/"
        },
        "id": "51f70201",
        "outputId": "89e3c068-0462-41f8-e819-8ecda583094e"
      },
      "outputs": [
        {
          "output_type": "stream",
          "name": "stdout",
          "text": [
            "My name is Vijay and I live in Mumbai.\n"
          ]
        }
      ],
      "source": [
        "#The placeholder is defined using curly brackets: {}.\n",
        "#The placeholders can be identified using named indexes {price},\n",
        "#numbered indexes {0}, or even empty placeholders {}.\n",
        "\n",
        "print(\"My name is {} and I live in {}.\".format(\"Vijay\", \"Mumbai\"))"
      ]
    },
    {
      "cell_type": "code",
      "execution_count": 24,
      "id": "881c9893",
      "metadata": {
        "colab": {
          "base_uri": "https://localhost:8080/"
        },
        "id": "881c9893",
        "outputId": "78b6aea1-0218-4522-bf4f-9a50033be3c2"
      },
      "outputs": [
        {
          "output_type": "stream",
          "name": "stdout",
          "text": [
            "I'm learning Python with Udemy.\n"
          ]
        }
      ],
      "source": [
        "print(\"I'm learning {x} with {y}.\".format(x=\"Python\", y=\"Udemy\"))"
      ]
    },
    {
      "cell_type": "code",
      "source": [
        "#Python Collections (Arrays)\n",
        "#There are four collection data types in the Python programming language:\n",
        "#List is a collection which is ordered and changeable. Allows duplicate members.\n",
        "#Tuple is a collection which is ordered and unchangeable. Allows duplicate members.\n",
        "#Set is a collection which is unordered, unchangeable*, and unindexed. No duplicate members.\n",
        "#Dictionary is a collection which is ordered** and changeable. No duplicate members."
      ],
      "metadata": {
        "id": "l19pw9aR2e5D"
      },
      "id": "l19pw9aR2e5D",
      "execution_count": 25,
      "outputs": []
    },
    {
      "cell_type": "code",
      "execution_count": 26,
      "id": "53657a9b",
      "metadata": {
        "colab": {
          "base_uri": "https://localhost:8080/"
        },
        "id": "53657a9b",
        "outputId": "b458debf-2373-440a-f2fa-a422dc0faab9"
      },
      "outputs": [
        {
          "output_type": "execute_result",
          "data": {
            "text/plain": [
              "[1, 2, 3]"
            ]
          },
          "metadata": {},
          "execution_count": 26
        }
      ],
      "source": [
        "#Lists are used to store multiple items in a single variable.\n",
        "#Lists are one of 4 built-in data types in Python used to store collections of data.\n",
        "#Lists are created using square brackets:\n",
        "#List items are ordered, changeable, and allow duplicate values.\n",
        "#When we say that lists are ordered, it means that the items have a defined order, and that order will not change.\n",
        "#If you add new items to a list, the new items will be placed at the end of the list.\n",
        "#Since lists are indexed, lists can have items with the same value\n",
        "\n",
        "[1,2,3]"
      ]
    },
    {
      "cell_type": "code",
      "execution_count": 27,
      "id": "88e3d19a",
      "metadata": {
        "colab": {
          "base_uri": "https://localhost:8080/"
        },
        "id": "88e3d19a",
        "outputId": "d8d0b773-1ec0-48ba-a786-72f5cd582a65"
      },
      "outputs": [
        {
          "output_type": "execute_result",
          "data": {
            "text/plain": [
              "['a', 'b']"
            ]
          },
          "metadata": {},
          "execution_count": 27
        }
      ],
      "source": [
        "[\"a\", \"b\"]"
      ]
    },
    {
      "cell_type": "code",
      "execution_count": 28,
      "id": "a58ec0ed",
      "metadata": {
        "colab": {
          "base_uri": "https://localhost:8080/"
        },
        "id": "a58ec0ed",
        "outputId": "49918a40-795c-4b06-a9cb-1ceb3ddb5fc2"
      },
      "outputs": [
        {
          "output_type": "execute_result",
          "data": {
            "text/plain": [
              "[1, 'a', 2, 'b']"
            ]
          },
          "metadata": {},
          "execution_count": 28
        }
      ],
      "source": [
        "[1, \"a\", 2, \"b\"]"
      ]
    },
    {
      "cell_type": "code",
      "execution_count": 29,
      "id": "6a0ee581",
      "metadata": {
        "id": "6a0ee581"
      },
      "outputs": [],
      "source": [
        "mylist = [\"a\", \"b\", \"c\"]"
      ]
    },
    {
      "cell_type": "code",
      "execution_count": 30,
      "id": "9377e2dd",
      "metadata": {
        "colab": {
          "base_uri": "https://localhost:8080/",
          "height": 36
        },
        "id": "9377e2dd",
        "outputId": "5f781383-8e4f-4dea-cc3f-3fc9002d6e1f"
      },
      "outputs": [
        {
          "output_type": "execute_result",
          "data": {
            "text/plain": [
              "'a'"
            ],
            "application/vnd.google.colaboratory.intrinsic+json": {
              "type": "string"
            }
          },
          "metadata": {},
          "execution_count": 30
        }
      ],
      "source": [
        "#List items are indexed, the first item has index [0], the second item has index [1] etc.\n",
        "\n",
        "mylist[0]"
      ]
    },
    {
      "cell_type": "code",
      "execution_count": 31,
      "id": "aa62ae7a",
      "metadata": {
        "colab": {
          "base_uri": "https://localhost:8080/",
          "height": 36
        },
        "id": "aa62ae7a",
        "outputId": "fe9ebd72-64c1-459e-e2ac-9748e8e3261e"
      },
      "outputs": [
        {
          "output_type": "execute_result",
          "data": {
            "text/plain": [
              "'c'"
            ],
            "application/vnd.google.colaboratory.intrinsic+json": {
              "type": "string"
            }
          },
          "metadata": {},
          "execution_count": 31
        }
      ],
      "source": [
        "mylist[-1]"
      ]
    },
    {
      "cell_type": "code",
      "execution_count": 32,
      "id": "3db0b7ec",
      "metadata": {
        "id": "3db0b7ec"
      },
      "outputs": [],
      "source": [
        "#The list is changeable, meaning that we can change, add, and remove items in a list after it has been created.\n",
        "\n",
        "mylist[0] = \"New\""
      ]
    },
    {
      "cell_type": "code",
      "execution_count": 33,
      "id": "7addbc2e",
      "metadata": {
        "id": "7addbc2e"
      },
      "outputs": [],
      "source": [
        "mylist.append(\"d\")"
      ]
    },
    {
      "cell_type": "code",
      "execution_count": 34,
      "id": "3410d82b",
      "metadata": {
        "colab": {
          "base_uri": "https://localhost:8080/"
        },
        "id": "3410d82b",
        "outputId": "0642ed02-84c0-4e07-bf98-d7c80bf666b1"
      },
      "outputs": [
        {
          "output_type": "execute_result",
          "data": {
            "text/plain": [
              "['New', 'b', 'c', 'd']"
            ]
          },
          "metadata": {},
          "execution_count": 34
        }
      ],
      "source": [
        "mylist"
      ]
    },
    {
      "cell_type": "code",
      "execution_count": 35,
      "id": "a161c5a3",
      "metadata": {
        "id": "a161c5a3"
      },
      "outputs": [],
      "source": [
        "mylist = [1, 2, [100, 200]]"
      ]
    },
    {
      "cell_type": "code",
      "execution_count": 36,
      "id": "2968aed8",
      "metadata": {
        "colab": {
          "base_uri": "https://localhost:8080/"
        },
        "id": "2968aed8",
        "outputId": "59675e05-06ff-40fc-d78a-89cb0ead57bc"
      },
      "outputs": [
        {
          "output_type": "execute_result",
          "data": {
            "text/plain": [
              "200"
            ]
          },
          "metadata": {},
          "execution_count": 36
        }
      ],
      "source": [
        "mylist[2][1]"
      ]
    },
    {
      "cell_type": "code",
      "execution_count": 37,
      "id": "b6a0cc2e",
      "metadata": {
        "id": "b6a0cc2e"
      },
      "outputs": [],
      "source": [
        "#Dictionaries are used to store data values in key:value pairs.\n",
        "#A dictionary is a collection which is ordered*, changeable and do not allow duplicates.\n",
        "#As of Python version 3.7, dictionaries are ordered. In Python 3.6 and earlier, dictionaries are unordered.\n",
        "\n",
        "d = {\"key1\" : 'value1', \"key2\" : \"value2\"}"
      ]
    },
    {
      "cell_type": "code",
      "execution_count": 38,
      "id": "abc0540f",
      "metadata": {
        "colab": {
          "base_uri": "https://localhost:8080/",
          "height": 36
        },
        "id": "abc0540f",
        "outputId": "4cd9cc3c-440a-4e37-8b75-450d4eda1be1"
      },
      "outputs": [
        {
          "output_type": "execute_result",
          "data": {
            "text/plain": [
              "'value1'"
            ],
            "application/vnd.google.colaboratory.intrinsic+json": {
              "type": "string"
            }
          },
          "metadata": {},
          "execution_count": 38
        }
      ],
      "source": [
        "d[\"key1\"]"
      ]
    },
    {
      "cell_type": "code",
      "execution_count": 39,
      "id": "84f216e8",
      "metadata": {
        "colab": {
          "base_uri": "https://localhost:8080/",
          "height": 36
        },
        "id": "84f216e8",
        "outputId": "f4029e01-02cc-49df-fd9d-50eb44a9ffcb"
      },
      "outputs": [
        {
          "output_type": "execute_result",
          "data": {
            "text/plain": [
              "'value2'"
            ],
            "application/vnd.google.colaboratory.intrinsic+json": {
              "type": "string"
            }
          },
          "metadata": {},
          "execution_count": 39
        }
      ],
      "source": [
        "d[\"key2\"]"
      ]
    },
    {
      "cell_type": "code",
      "execution_count": 40,
      "id": "5486cc0a",
      "metadata": {
        "colab": {
          "base_uri": "https://localhost:8080/"
        },
        "id": "5486cc0a",
        "outputId": "09456e28-a481-4d81-8b7c-4fc0dc2f6c61"
      },
      "outputs": [
        {
          "output_type": "stream",
          "name": "stdout",
          "text": [
            "{'key1': 'value1', 'key2': 'value2'}\n"
          ]
        }
      ],
      "source": [
        "print(d)"
      ]
    },
    {
      "cell_type": "code",
      "execution_count": 41,
      "id": "a58f8440",
      "metadata": {
        "colab": {
          "base_uri": "https://localhost:8080/"
        },
        "id": "a58f8440",
        "outputId": "0184fea0-94f4-4a5a-8dcb-77eeb5e1f01a"
      },
      "outputs": [
        {
          "output_type": "execute_result",
          "data": {
            "text/plain": [
              "True"
            ]
          },
          "metadata": {},
          "execution_count": 41
        }
      ],
      "source": [
        "#Booleans represent one of two values: True or False.\n",
        "\n",
        "True"
      ]
    },
    {
      "cell_type": "code",
      "execution_count": 42,
      "id": "4c22d1fb",
      "metadata": {
        "colab": {
          "base_uri": "https://localhost:8080/"
        },
        "id": "4c22d1fb",
        "outputId": "37ed1133-3fb4-4b4c-eac9-7634a6a16576"
      },
      "outputs": [
        {
          "output_type": "execute_result",
          "data": {
            "text/plain": [
              "False"
            ]
          },
          "metadata": {},
          "execution_count": 42
        }
      ],
      "source": [
        "False"
      ]
    },
    {
      "cell_type": "code",
      "execution_count": 43,
      "id": "f3762c69",
      "metadata": {
        "id": "f3762c69"
      },
      "outputs": [],
      "source": [
        "#Tuples are used to store multiple items in a single variable.\n",
        "#Tuples are written with round brackets.\n",
        "#Tuple items are ordered, unchangeable, and allow duplicate values.\n",
        "#Tuple items are indexed, the first item has index [0], the second item has index [1] etc.\n",
        "#When we say that tuples are ordered, it means that the items have a defined order, and that order will not change.\n",
        "#Tuples are unchangeable, meaning that we cannot change, add or remove items after the tuple has been created.\n",
        "#Since tuples are indexed, they can have items with the same value\n",
        "\n",
        "t = (1,2,3)"
      ]
    },
    {
      "cell_type": "code",
      "execution_count": 47,
      "id": "14809f74",
      "metadata": {
        "colab": {
          "base_uri": "https://localhost:8080/"
        },
        "id": "14809f74",
        "outputId": "c7540cc5-3e84-4780-c1cd-4b8be3f5c75f"
      },
      "outputs": [
        {
          "output_type": "execute_result",
          "data": {
            "text/plain": [
              "{1, 2, 3, 4}"
            ]
          },
          "metadata": {},
          "execution_count": 47
        }
      ],
      "source": [
        "#Sets are used to store multiple items in a single variable.\n",
        "#Set items are unordered, unchangeable, and do not allow duplicate values.\n",
        "#Unordered means that the items in a set do not have a defined order.\n",
        "#Set items can appear in a different order every time you use them, and cannot be referred to by index or key.\n",
        "#Set items are unchangeable, meaning that we cannot change the items after the set has been created.\n",
        "#Once a set is created, you cannot change its items, but you can remove items and add new items.\n",
        "#Sets cannot have two items with the same value.\n",
        "\n",
        "{1,2,3,4}"
      ]
    },
    {
      "cell_type": "code",
      "execution_count": 45,
      "id": "0e14ef92",
      "metadata": {
        "colab": {
          "base_uri": "https://localhost:8080/"
        },
        "id": "0e14ef92",
        "outputId": "372ea8d7-aea2-49f1-d463-fcb826717e3a"
      },
      "outputs": [
        {
          "output_type": "execute_result",
          "data": {
            "text/plain": [
              "{1, 2, 3, 4}"
            ]
          },
          "metadata": {},
          "execution_count": 45
        }
      ],
      "source": [
        "{1,1,1,3,3,3,2,2,4,4,4,4,4}"
      ]
    },
    {
      "cell_type": "code",
      "execution_count": 46,
      "id": "3ef8e601",
      "metadata": {
        "id": "3ef8e601"
      },
      "outputs": [],
      "source": [
        "#End Of Code"
      ]
    }
  ],
  "metadata": {
    "kernelspec": {
      "display_name": "Python 3 (ipykernel)",
      "language": "python",
      "name": "python3"
    },
    "language_info": {
      "codemirror_mode": {
        "name": "ipython",
        "version": 3
      },
      "file_extension": ".py",
      "mimetype": "text/x-python",
      "name": "python",
      "nbconvert_exporter": "python",
      "pygments_lexer": "ipython3",
      "version": "3.10.4"
    },
    "colab": {
      "name": "01 Crash Course.ipynb",
      "provenance": [],
      "collapsed_sections": []
    }
  },
  "nbformat": 4,
  "nbformat_minor": 5
}
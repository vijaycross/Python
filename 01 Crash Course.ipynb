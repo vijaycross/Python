{
  "cells": [
    {
      "cell_type": "markdown",
      "metadata": {
        "id": "view-in-github",
        "colab_type": "text"
      },
      "source": [
        "<a href=\"https://colab.research.google.com/github/vijaycross/Python/blob/main/01%20Crash%20Course.ipynb\" target=\"_parent\"><img src=\"https://colab.research.google.com/assets/colab-badge.svg\" alt=\"Open In Colab\"/></a>"
      ]
    },
    {
      "cell_type": "code",
      "execution_count": 14,
      "id": "c738f224",
      "metadata": {
        "colab": {
          "base_uri": "https://localhost:8080/"
        },
        "id": "c738f224",
        "outputId": "8a179239-dd0e-4b6f-9959-8c0bf319febb"
      },
      "outputs": [
        {
          "output_type": "execute_result",
          "data": {
            "text/plain": [
              "1"
            ]
          },
          "metadata": {},
          "execution_count": 14
        }
      ],
      "source": [
        "1 #Int Data Point"
      ]
    },
    {
      "cell_type": "code",
      "execution_count": 15,
      "id": "e7b26d37",
      "metadata": {
        "colab": {
          "base_uri": "https://localhost:8080/"
        },
        "id": "e7b26d37",
        "outputId": "0429be42-2959-4262-8e8b-c26bc9fb5d88"
      },
      "outputs": [
        {
          "output_type": "execute_result",
          "data": {
            "text/plain": [
              "1.0"
            ]
          },
          "metadata": {},
          "execution_count": 15
        }
      ],
      "source": [
        "1.0 #Float Data Point"
      ]
    },
    {
      "cell_type": "code",
      "execution_count": 16,
      "id": "267c0596",
      "metadata": {
        "colab": {
          "base_uri": "https://localhost:8080/"
        },
        "id": "267c0596",
        "outputId": "d702bef9-7a4f-41af-b32e-96bde5dc3d33"
      },
      "outputs": [
        {
          "output_type": "execute_result",
          "data": {
            "text/plain": [
              "int"
            ]
          },
          "metadata": {},
          "execution_count": 16
        }
      ],
      "source": [
        "#type() is a built-in function that returns the type of the objects/data elements stored in any data type\n",
        "#or returns a new type object depending on the arguments passed to the function.\n",
        "#The Python type() function prints what type of data structures are used to store the data elements in a program.\n",
        "\n",
        "type(1)"
      ]
    },
    {
      "cell_type": "code",
      "execution_count": 17,
      "id": "dce6f208",
      "metadata": {
        "colab": {
          "base_uri": "https://localhost:8080/"
        },
        "id": "dce6f208",
        "outputId": "089d2558-fb64-4049-cf5e-95615bb691c6"
      },
      "outputs": [
        {
          "output_type": "execute_result",
          "data": {
            "text/plain": [
              "float"
            ]
          },
          "metadata": {},
          "execution_count": 17
        }
      ],
      "source": [
        "type(1.0)"
      ]
    },
    {
      "cell_type": "code",
      "execution_count": 18,
      "id": "14f4890d",
      "metadata": {
        "colab": {
          "base_uri": "https://localhost:8080/"
        },
        "id": "14f4890d",
        "outputId": "1c2b1cde-d8e1-4a78-a818-60695a72573c"
      },
      "outputs": [
        {
          "output_type": "execute_result",
          "data": {
            "text/plain": [
              "3"
            ]
          },
          "metadata": {},
          "execution_count": 18
        }
      ],
      "source": [
        "1 + 2 #Addition"
      ]
    },
    {
      "cell_type": "code",
      "source": [
        "4 - 2 #Subtraction"
      ],
      "metadata": {
        "colab": {
          "base_uri": "https://localhost:8080/"
        },
        "id": "iLNuXQrtZ3H1",
        "outputId": "bf904f4e-3991-46b6-f158-1634ba64a2a4"
      },
      "id": "iLNuXQrtZ3H1",
      "execution_count": 19,
      "outputs": [
        {
          "output_type": "execute_result",
          "data": {
            "text/plain": [
              "2"
            ]
          },
          "metadata": {},
          "execution_count": 19
        }
      ]
    },
    {
      "cell_type": "code",
      "execution_count": 20,
      "id": "57a2e945",
      "metadata": {
        "colab": {
          "base_uri": "https://localhost:8080/"
        },
        "id": "57a2e945",
        "outputId": "28e3421c-4ffa-4169-9701-27105520e241"
      },
      "outputs": [
        {
          "output_type": "execute_result",
          "data": {
            "text/plain": [
              "3"
            ]
          },
          "metadata": {},
          "execution_count": 20
        }
      ],
      "source": [
        "1 * 3 #Multiplication"
      ]
    },
    {
      "cell_type": "code",
      "execution_count": 21,
      "id": "a4fc6095",
      "metadata": {
        "colab": {
          "base_uri": "https://localhost:8080/"
        },
        "id": "a4fc6095",
        "outputId": "37937454-4d9d-4076-fd2b-1a5f7985b637"
      },
      "outputs": [
        {
          "output_type": "execute_result",
          "data": {
            "text/plain": [
              "0.5"
            ]
          },
          "metadata": {},
          "execution_count": 21
        }
      ],
      "source": [
        "1 / 2 #Division"
      ]
    },
    {
      "cell_type": "code",
      "execution_count": 22,
      "id": "b1e62523",
      "metadata": {
        "colab": {
          "base_uri": "https://localhost:8080/"
        },
        "id": "b1e62523",
        "outputId": "b4dd9597-afc5-4011-846b-aee8087d45e8"
      },
      "outputs": [
        {
          "output_type": "execute_result",
          "data": {
            "text/plain": [
              "16"
            ]
          },
          "metadata": {},
          "execution_count": 22
        }
      ],
      "source": [
        "2 ** 4 #Exponentiation"
      ]
    },
    {
      "cell_type": "code",
      "execution_count": 23,
      "id": "f73d79b2",
      "metadata": {
        "colab": {
          "base_uri": "https://localhost:8080/"
        },
        "id": "f73d79b2",
        "outputId": "42ed17c5-8ac1-4be8-a7c3-40dbd62d5cdb"
      },
      "outputs": [
        {
          "output_type": "execute_result",
          "data": {
            "text/plain": [
              "0"
            ]
          },
          "metadata": {},
          "execution_count": 23
        }
      ],
      "source": [
        "4 % 2 #Modulus"
      ]
    },
    {
      "cell_type": "code",
      "execution_count": 24,
      "id": "40fad984",
      "metadata": {
        "colab": {
          "base_uri": "https://localhost:8080/"
        },
        "id": "40fad984",
        "outputId": "053947d1-3751-45fd-b9df-5730119f5207"
      },
      "outputs": [
        {
          "output_type": "execute_result",
          "data": {
            "text/plain": [
              "0"
            ]
          },
          "metadata": {},
          "execution_count": 24
        }
      ],
      "source": [
        "5 % 1 #Modulus"
      ]
    },
    {
      "cell_type": "code",
      "execution_count": 25,
      "id": "5f515053",
      "metadata": {
        "colab": {
          "base_uri": "https://localhost:8080/"
        },
        "id": "5f515053",
        "outputId": "77094bbc-2b01-47ba-9934-13cc448f0af7"
      },
      "outputs": [
        {
          "output_type": "execute_result",
          "data": {
            "text/plain": [
              "22"
            ]
          },
          "metadata": {},
          "execution_count": 25
        }
      ],
      "source": [
        "2 + 3 * 5 + 5"
      ]
    },
    {
      "cell_type": "code",
      "execution_count": 26,
      "id": "cd651529",
      "metadata": {
        "colab": {
          "base_uri": "https://localhost:8080/"
        },
        "id": "cd651529",
        "outputId": "c6410993-aaca-4777-db00-9f8679d8d4e5"
      },
      "outputs": [
        {
          "output_type": "execute_result",
          "data": {
            "text/plain": [
              "50"
            ]
          },
          "metadata": {},
          "execution_count": 26
        }
      ],
      "source": [
        "(2 + 3) * (5 + 5)"
      ]
    },
    {
      "cell_type": "code",
      "execution_count": 27,
      "id": "97f3c178",
      "metadata": {
        "id": "97f3c178"
      },
      "outputs": [],
      "source": [
        "#Variables are containers for storing data values.\n",
        "#Python has no command for declaring a variable.\n",
        "#A variable is created the moment you first assign a value to it.\n",
        "\n",
        "name_of_var = 2 "
      ]
    },
    {
      "cell_type": "code",
      "execution_count": 28,
      "id": "bdf2106c",
      "metadata": {
        "id": "bdf2106c"
      },
      "outputs": [],
      "source": [
        "x = 1\n",
        "y = 2"
      ]
    },
    {
      "cell_type": "code",
      "execution_count": 29,
      "id": "5af6bae3",
      "metadata": {
        "colab": {
          "base_uri": "https://localhost:8080/"
        },
        "id": "5af6bae3",
        "outputId": "9f166d8e-3461-424f-b4b8-0fd5c74a789a"
      },
      "outputs": [
        {
          "output_type": "execute_result",
          "data": {
            "text/plain": [
              "3"
            ]
          },
          "metadata": {},
          "execution_count": 29
        }
      ],
      "source": [
        "x + y"
      ]
    },
    {
      "cell_type": "code",
      "execution_count": 30,
      "id": "96a37e0f",
      "metadata": {
        "colab": {
          "base_uri": "https://localhost:8080/",
          "height": 36
        },
        "id": "96a37e0f",
        "outputId": "a67f182a-acaf-4725-eaf1-7c96d0419b2b"
      },
      "outputs": [
        {
          "output_type": "execute_result",
          "data": {
            "text/plain": [
              "'string'"
            ],
            "application/vnd.google.colaboratory.intrinsic+json": {
              "type": "string"
            }
          },
          "metadata": {},
          "execution_count": 30
        }
      ],
      "source": [
        "#Strings in python are surrounded by either single quotation marks, or double quotation marks.\n",
        "\n",
        "'string'"
      ]
    },
    {
      "cell_type": "code",
      "execution_count": 31,
      "id": "aa0deb37",
      "metadata": {
        "colab": {
          "base_uri": "https://localhost:8080/",
          "height": 36
        },
        "id": "aa0deb37",
        "outputId": "76a6d931-53cd-438b-b268-7cfd11a9085a"
      },
      "outputs": [
        {
          "output_type": "execute_result",
          "data": {
            "text/plain": [
              "'double'"
            ],
            "application/vnd.google.colaboratory.intrinsic+json": {
              "type": "string"
            }
          },
          "metadata": {},
          "execution_count": 31
        }
      ],
      "source": [
        "\"double\""
      ]
    },
    {
      "cell_type": "code",
      "execution_count": 32,
      "id": "3befef8d",
      "metadata": {
        "colab": {
          "base_uri": "https://localhost:8080/",
          "height": 36
        },
        "id": "3befef8d",
        "outputId": "f5b0ae8d-a4a1-4e60-a7a2-da4d1a4f3d45"
      },
      "outputs": [
        {
          "output_type": "execute_result",
          "data": {
            "text/plain": [
              "\"I don't like that\""
            ],
            "application/vnd.google.colaboratory.intrinsic+json": {
              "type": "string"
            }
          },
          "metadata": {},
          "execution_count": 32
        }
      ],
      "source": [
        "\"I don't like that\""
      ]
    },
    {
      "cell_type": "code",
      "execution_count": 33,
      "id": "8b53a9d9",
      "metadata": {
        "colab": {
          "base_uri": "https://localhost:8080/"
        },
        "id": "8b53a9d9",
        "outputId": "2caa31de-5bdf-4291-cb78-d4dad38b4a17"
      },
      "outputs": [
        {
          "output_type": "stream",
          "name": "stdout",
          "text": [
            "Hello\n"
          ]
        }
      ],
      "source": [
        "#The print() function prints the specified message to the screen, or other standard output device.\n",
        "#The message can be a string, or any other object,\n",
        "#the object will be converted into a string before written to the screen.\n",
        "\n",
        "print(\"Hello\")"
      ]
    },
    {
      "cell_type": "code",
      "execution_count": 34,
      "id": "fa19c958",
      "metadata": {
        "colab": {
          "base_uri": "https://localhost:8080/",
          "height": 36
        },
        "id": "fa19c958",
        "outputId": "2802b7f2-3721-4b22-ff00-b1efc4e44b3f"
      },
      "outputs": [
        {
          "output_type": "execute_result",
          "data": {
            "text/plain": [
              "'Hello'"
            ],
            "application/vnd.google.colaboratory.intrinsic+json": {
              "type": "string"
            }
          },
          "metadata": {},
          "execution_count": 34
        }
      ],
      "source": [
        "\"Hello\""
      ]
    },
    {
      "cell_type": "code",
      "execution_count": 35,
      "id": "de7ec891",
      "metadata": {
        "colab": {
          "base_uri": "https://localhost:8080/"
        },
        "id": "de7ec891",
        "outputId": "05fa7c63-8774-4f78-8bf1-6683be04b28e"
      },
      "outputs": [
        {
          "output_type": "stream",
          "name": "stdout",
          "text": [
            "My name is Vijay.\n"
          ]
        }
      ],
      "source": [
        "#The format() method formats the specified value(s) and insert them inside the string's placeholder\n",
        "\n",
        "print(\"My name is {}.\".format(\"Vijay\"))"
      ]
    },
    {
      "cell_type": "code",
      "execution_count": 36,
      "id": "51f70201",
      "metadata": {
        "colab": {
          "base_uri": "https://localhost:8080/"
        },
        "id": "51f70201",
        "outputId": "2c9e804c-8d42-43af-f2b7-b72cdedff7f4"
      },
      "outputs": [
        {
          "output_type": "stream",
          "name": "stdout",
          "text": [
            "My name is Vijay and I live in Mumbai.\n"
          ]
        }
      ],
      "source": [
        "#The placeholder is defined using curly brackets: {}.\n",
        "#The placeholders can be identified using named indexes {price},\n",
        "#numbered indexes {0}, or even empty placeholders {}.\n",
        "\n",
        "print(\"My name is {} and I live in {}.\".format(\"Vijay\", \"Mumbai\"))"
      ]
    },
    {
      "cell_type": "code",
      "execution_count": 37,
      "id": "881c9893",
      "metadata": {
        "colab": {
          "base_uri": "https://localhost:8080/"
        },
        "id": "881c9893",
        "outputId": "3078cd48-9e56-4d81-c3d5-b82582e5437b"
      },
      "outputs": [
        {
          "output_type": "stream",
          "name": "stdout",
          "text": [
            "I'm learning Python with Udemy.\n"
          ]
        }
      ],
      "source": [
        "print(\"I'm learning {x} with {y}.\".format(x=\"Python\", y=\"Udemy\"))"
      ]
    },
    {
      "cell_type": "code",
      "source": [
        "#Python Collections (Arrays)\n",
        "#There are four collection data types in the Python programming language:\n",
        "#List is a collection which is ordered and changeable. Allows duplicate members.\n",
        "#Tuple is a collection which is ordered and unchangeable. Allows duplicate members.\n",
        "#Set is a collection which is unordered, unchangeable*, and unindexed. No duplicate members.\n",
        "#Dictionary is a collection which is ordered** and changeable. No duplicate members."
      ],
      "metadata": {
        "id": "l19pw9aR2e5D"
      },
      "id": "l19pw9aR2e5D",
      "execution_count": 38,
      "outputs": []
    },
    {
      "cell_type": "code",
      "execution_count": 39,
      "id": "53657a9b",
      "metadata": {
        "colab": {
          "base_uri": "https://localhost:8080/"
        },
        "id": "53657a9b",
        "outputId": "3efd5031-9a65-4b42-ed5f-1fc6bd965eba"
      },
      "outputs": [
        {
          "output_type": "execute_result",
          "data": {
            "text/plain": [
              "[1, 2, 3]"
            ]
          },
          "metadata": {},
          "execution_count": 39
        }
      ],
      "source": [
        "#Lists are used to store multiple items in a single variable.\n",
        "#Lists are one of 4 built-in data types in Python used to store collections of data.\n",
        "#Lists are created using square brackets:\n",
        "#List items are ordered, changeable, and allow duplicate values.\n",
        "#When we say that lists are ordered, it means that the items have a defined order, and that order will not change.\n",
        "#If you add new items to a list, the new items will be placed at the end of the list.\n",
        "#Since lists are indexed, lists can have items with the same value\n",
        "\n",
        "[1,2,3]"
      ]
    },
    {
      "cell_type": "code",
      "execution_count": 40,
      "id": "88e3d19a",
      "metadata": {
        "colab": {
          "base_uri": "https://localhost:8080/"
        },
        "id": "88e3d19a",
        "outputId": "216e511a-05f5-4103-d1bd-94cc7ccf18a8"
      },
      "outputs": [
        {
          "output_type": "execute_result",
          "data": {
            "text/plain": [
              "['a', 'b']"
            ]
          },
          "metadata": {},
          "execution_count": 40
        }
      ],
      "source": [
        "[\"a\", \"b\"]"
      ]
    },
    {
      "cell_type": "code",
      "execution_count": 41,
      "id": "a58ec0ed",
      "metadata": {
        "colab": {
          "base_uri": "https://localhost:8080/"
        },
        "id": "a58ec0ed",
        "outputId": "e6f5be14-c0a5-413c-b86d-8563f4ed1bda"
      },
      "outputs": [
        {
          "output_type": "execute_result",
          "data": {
            "text/plain": [
              "[1, 'a', 2, 'b']"
            ]
          },
          "metadata": {},
          "execution_count": 41
        }
      ],
      "source": [
        "[1, \"a\", 2, \"b\"]"
      ]
    },
    {
      "cell_type": "code",
      "execution_count": 42,
      "id": "6a0ee581",
      "metadata": {
        "id": "6a0ee581"
      },
      "outputs": [],
      "source": [
        "mylist = [\"a\", \"b\", \"c\"]"
      ]
    },
    {
      "cell_type": "code",
      "execution_count": 43,
      "id": "9377e2dd",
      "metadata": {
        "colab": {
          "base_uri": "https://localhost:8080/",
          "height": 36
        },
        "id": "9377e2dd",
        "outputId": "ee04cff2-c75c-4538-eac3-6aed83dc1f7a"
      },
      "outputs": [
        {
          "output_type": "execute_result",
          "data": {
            "text/plain": [
              "'a'"
            ],
            "application/vnd.google.colaboratory.intrinsic+json": {
              "type": "string"
            }
          },
          "metadata": {},
          "execution_count": 43
        }
      ],
      "source": [
        "#List items are indexed, the first item has index [0], the second item has index [1] etc.\n",
        "\n",
        "mylist[0]"
      ]
    },
    {
      "cell_type": "code",
      "execution_count": 44,
      "id": "aa62ae7a",
      "metadata": {
        "colab": {
          "base_uri": "https://localhost:8080/",
          "height": 36
        },
        "id": "aa62ae7a",
        "outputId": "b7e8a709-6d51-439c-d4f9-91b917d957c4"
      },
      "outputs": [
        {
          "output_type": "execute_result",
          "data": {
            "text/plain": [
              "'c'"
            ],
            "application/vnd.google.colaboratory.intrinsic+json": {
              "type": "string"
            }
          },
          "metadata": {},
          "execution_count": 44
        }
      ],
      "source": [
        "mylist[-1]"
      ]
    },
    {
      "cell_type": "code",
      "execution_count": 45,
      "id": "3db0b7ec",
      "metadata": {
        "id": "3db0b7ec"
      },
      "outputs": [],
      "source": [
        "#The list is changeable, meaning that we can change, add, and remove items in a list after it has been created.\n",
        "\n",
        "mylist[0] = \"New\""
      ]
    },
    {
      "cell_type": "code",
      "execution_count": 46,
      "id": "7addbc2e",
      "metadata": {
        "id": "7addbc2e"
      },
      "outputs": [],
      "source": [
        "mylist.append(\"d\")"
      ]
    },
    {
      "cell_type": "code",
      "execution_count": 47,
      "id": "3410d82b",
      "metadata": {
        "colab": {
          "base_uri": "https://localhost:8080/"
        },
        "id": "3410d82b",
        "outputId": "446a4d93-f3b3-46c6-ae75-da92d4c6b2da"
      },
      "outputs": [
        {
          "output_type": "execute_result",
          "data": {
            "text/plain": [
              "['New', 'b', 'c', 'd']"
            ]
          },
          "metadata": {},
          "execution_count": 47
        }
      ],
      "source": [
        "mylist"
      ]
    },
    {
      "cell_type": "code",
      "execution_count": 48,
      "id": "a161c5a3",
      "metadata": {
        "id": "a161c5a3"
      },
      "outputs": [],
      "source": [
        "mylist = [1, 2, [100, 200]]"
      ]
    },
    {
      "cell_type": "code",
      "execution_count": 49,
      "id": "2968aed8",
      "metadata": {
        "colab": {
          "base_uri": "https://localhost:8080/"
        },
        "id": "2968aed8",
        "outputId": "bf5bb940-de52-4fe1-a2fa-d4b3693bf56d"
      },
      "outputs": [
        {
          "output_type": "execute_result",
          "data": {
            "text/plain": [
              "200"
            ]
          },
          "metadata": {},
          "execution_count": 49
        }
      ],
      "source": [
        "mylist[2][1]"
      ]
    },
    {
      "cell_type": "code",
      "execution_count": 50,
      "id": "b6a0cc2e",
      "metadata": {
        "id": "b6a0cc2e"
      },
      "outputs": [],
      "source": [
        "#Dictionaries are used to store data values in key:value pairs.\n",
        "#A dictionary is a collection which is ordered*, changeable and do not allow duplicates.\n",
        "#As of Python version 3.7, dictionaries are ordered. In Python 3.6 and earlier, dictionaries are unordered.\n",
        "\n",
        "d = {\"key1\" : 'value1', \"key2\" : \"value2\"}"
      ]
    },
    {
      "cell_type": "code",
      "execution_count": 51,
      "id": "abc0540f",
      "metadata": {
        "colab": {
          "base_uri": "https://localhost:8080/",
          "height": 36
        },
        "id": "abc0540f",
        "outputId": "42c2b92e-7a61-4bc6-bf20-dfb1f7952157"
      },
      "outputs": [
        {
          "output_type": "execute_result",
          "data": {
            "text/plain": [
              "'value1'"
            ],
            "application/vnd.google.colaboratory.intrinsic+json": {
              "type": "string"
            }
          },
          "metadata": {},
          "execution_count": 51
        }
      ],
      "source": [
        "d[\"key1\"]"
      ]
    },
    {
      "cell_type": "code",
      "execution_count": 52,
      "id": "84f216e8",
      "metadata": {
        "colab": {
          "base_uri": "https://localhost:8080/",
          "height": 36
        },
        "id": "84f216e8",
        "outputId": "7f6a1c6c-703b-41d8-a821-d3a09c0b7265"
      },
      "outputs": [
        {
          "output_type": "execute_result",
          "data": {
            "text/plain": [
              "'value2'"
            ],
            "application/vnd.google.colaboratory.intrinsic+json": {
              "type": "string"
            }
          },
          "metadata": {},
          "execution_count": 52
        }
      ],
      "source": [
        "d[\"key2\"]"
      ]
    },
    {
      "cell_type": "code",
      "execution_count": 53,
      "id": "5486cc0a",
      "metadata": {
        "colab": {
          "base_uri": "https://localhost:8080/"
        },
        "id": "5486cc0a",
        "outputId": "25d419ce-4d4b-4ac6-dc10-4c35303373df"
      },
      "outputs": [
        {
          "output_type": "stream",
          "name": "stdout",
          "text": [
            "{'key1': 'value1', 'key2': 'value2'}\n"
          ]
        }
      ],
      "source": [
        "print(d)"
      ]
    },
    {
      "cell_type": "code",
      "execution_count": 54,
      "id": "a58f8440",
      "metadata": {
        "colab": {
          "base_uri": "https://localhost:8080/"
        },
        "id": "a58f8440",
        "outputId": "d8ec6ed6-1907-466b-fdfa-0b7e13e6125a"
      },
      "outputs": [
        {
          "output_type": "execute_result",
          "data": {
            "text/plain": [
              "True"
            ]
          },
          "metadata": {},
          "execution_count": 54
        }
      ],
      "source": [
        "#Booleans represent one of two values: True or False.\n",
        "\n",
        "True"
      ]
    },
    {
      "cell_type": "code",
      "execution_count": 55,
      "id": "4c22d1fb",
      "metadata": {
        "colab": {
          "base_uri": "https://localhost:8080/"
        },
        "id": "4c22d1fb",
        "outputId": "f3b9df94-c7fb-40d3-87e5-4c38696627d8"
      },
      "outputs": [
        {
          "output_type": "execute_result",
          "data": {
            "text/plain": [
              "False"
            ]
          },
          "metadata": {},
          "execution_count": 55
        }
      ],
      "source": [
        "False"
      ]
    },
    {
      "cell_type": "code",
      "execution_count": 56,
      "id": "f3762c69",
      "metadata": {
        "id": "f3762c69"
      },
      "outputs": [],
      "source": [
        "#Tuples are used to store multiple items in a single variable.\n",
        "#Tuples are written with round brackets.\n",
        "#Tuple items are ordered, unchangeable, and allow duplicate values.\n",
        "#Tuple items are indexed, the first item has index [0], the second item has index [1] etc.\n",
        "#When we say that tuples are ordered, it means that the items have a defined order, and that order will not change.\n",
        "#Tuples are unchangeable, meaning that we cannot change, add or remove items after the tuple has been created.\n",
        "#Since tuples are indexed, they can have items with the same value\n",
        "\n",
        "t = (1,2,3)"
      ]
    },
    {
      "cell_type": "code",
      "execution_count": 57,
      "id": "14809f74",
      "metadata": {
        "colab": {
          "base_uri": "https://localhost:8080/"
        },
        "id": "14809f74",
        "outputId": "ff3fe71f-b1e0-476b-f8e1-8b340e6c424d"
      },
      "outputs": [
        {
          "output_type": "execute_result",
          "data": {
            "text/plain": [
              "{1, 2, 3, 4}"
            ]
          },
          "metadata": {},
          "execution_count": 57
        }
      ],
      "source": [
        "#Sets are used to store multiple items in a single variable.\n",
        "#Set items are unordered, unchangeable, and do not allow duplicate values.\n",
        "#Unordered means that the items in a set do not have a defined order.\n",
        "#Set items can appear in a different order every time you use them, and cannot be referred to by index or key.\n",
        "#Set items are unchangeable, meaning that we cannot change the items after the set has been created.\n",
        "#Once a set is created, you cannot change its items, but you can remove items and add new items.\n",
        "#Sets cannot have two items with the same value.\n",
        "\n",
        "{1,2,3,4}"
      ]
    },
    {
      "cell_type": "code",
      "execution_count": 58,
      "id": "0e14ef92",
      "metadata": {
        "colab": {
          "base_uri": "https://localhost:8080/"
        },
        "id": "0e14ef92",
        "outputId": "f6474375-dd79-437b-f259-268547d19cfb"
      },
      "outputs": [
        {
          "output_type": "execute_result",
          "data": {
            "text/plain": [
              "{1, 2, 3, 4}"
            ]
          },
          "metadata": {},
          "execution_count": 58
        }
      ],
      "source": [
        "{1,1,1,3,3,3,2,2,4,4,4,4,4}"
      ]
    },
    {
      "cell_type": "code",
      "execution_count": 59,
      "id": "3ef8e601",
      "metadata": {
        "id": "3ef8e601"
      },
      "outputs": [],
      "source": [
        "#Operators are used to perform operations on variables and values.\n",
        "#Python divides the operators in the following groups:\n",
        "\n",
        "#Arithmetic operators\n",
        "#Assignment operators\n",
        "#Comparison operators\n",
        "#Logical operators\n",
        "#Identity operators\n",
        "#Membership operators\n",
        "##Bitwise operators"
      ]
    },
    {
      "cell_type": "code",
      "source": [
        "1 > 2"
      ],
      "metadata": {
        "colab": {
          "base_uri": "https://localhost:8080/"
        },
        "id": "1hnseeVnDmYo",
        "outputId": "25bdf1d4-d0d3-4fd7-867e-02be95868d88"
      },
      "id": "1hnseeVnDmYo",
      "execution_count": 60,
      "outputs": [
        {
          "output_type": "execute_result",
          "data": {
            "text/plain": [
              "False"
            ]
          },
          "metadata": {},
          "execution_count": 60
        }
      ]
    },
    {
      "cell_type": "code",
      "source": [
        "1 < 5"
      ],
      "metadata": {
        "colab": {
          "base_uri": "https://localhost:8080/"
        },
        "id": "_7YatihvDnsu",
        "outputId": "61bb7f18-27e6-49af-eeb4-0a4406319ed0"
      },
      "id": "_7YatihvDnsu",
      "execution_count": 61,
      "outputs": [
        {
          "output_type": "execute_result",
          "data": {
            "text/plain": [
              "True"
            ]
          },
          "metadata": {},
          "execution_count": 61
        }
      ]
    },
    {
      "cell_type": "code",
      "source": [
        "1 >= 4"
      ],
      "metadata": {
        "colab": {
          "base_uri": "https://localhost:8080/"
        },
        "id": "hZsEOLLADpDu",
        "outputId": "0f54958a-2517-4a79-c744-427ec7f65ca1"
      },
      "id": "hZsEOLLADpDu",
      "execution_count": 62,
      "outputs": [
        {
          "output_type": "execute_result",
          "data": {
            "text/plain": [
              "False"
            ]
          },
          "metadata": {},
          "execution_count": 62
        }
      ]
    },
    {
      "cell_type": "code",
      "source": [
        "1 <= 3"
      ],
      "metadata": {
        "colab": {
          "base_uri": "https://localhost:8080/"
        },
        "id": "45xuCHi4DqOd",
        "outputId": "f851542b-5b46-43d2-aa0b-872b1fd153a0"
      },
      "id": "45xuCHi4DqOd",
      "execution_count": 63,
      "outputs": [
        {
          "output_type": "execute_result",
          "data": {
            "text/plain": [
              "True"
            ]
          },
          "metadata": {},
          "execution_count": 63
        }
      ]
    },
    {
      "cell_type": "code",
      "source": [
        "1 == 1"
      ],
      "metadata": {
        "colab": {
          "base_uri": "https://localhost:8080/"
        },
        "id": "ekU4-buhDsAV",
        "outputId": "31d95664-6266-467a-adbc-b9d6238dee85"
      },
      "id": "ekU4-buhDsAV",
      "execution_count": 64,
      "outputs": [
        {
          "output_type": "execute_result",
          "data": {
            "text/plain": [
              "True"
            ]
          },
          "metadata": {},
          "execution_count": 64
        }
      ]
    },
    {
      "cell_type": "code",
      "source": [
        "\"a\" == \"a\""
      ],
      "metadata": {
        "colab": {
          "base_uri": "https://localhost:8080/"
        },
        "id": "JpHuS4CoDs-1",
        "outputId": "62275b5f-92e0-4af5-8522-0e9dab42291d"
      },
      "id": "JpHuS4CoDs-1",
      "execution_count": 65,
      "outputs": [
        {
          "output_type": "execute_result",
          "data": {
            "text/plain": [
              "True"
            ]
          },
          "metadata": {},
          "execution_count": 65
        }
      ]
    },
    {
      "cell_type": "code",
      "source": [
        "\"A\" == \"a\""
      ],
      "metadata": {
        "colab": {
          "base_uri": "https://localhost:8080/"
        },
        "id": "YCBD8hvrDuGF",
        "outputId": "49f79988-06e7-4aab-bb1a-27f3c34c8b02"
      },
      "id": "YCBD8hvrDuGF",
      "execution_count": 66,
      "outputs": [
        {
          "output_type": "execute_result",
          "data": {
            "text/plain": [
              "False"
            ]
          },
          "metadata": {},
          "execution_count": 66
        }
      ]
    },
    {
      "cell_type": "code",
      "source": [
        "1 != 2"
      ],
      "metadata": {
        "colab": {
          "base_uri": "https://localhost:8080/"
        },
        "id": "BNnKUoPMDvEF",
        "outputId": "18c7a3c5-8cbe-432a-c20b-8a1461cd8987"
      },
      "id": "BNnKUoPMDvEF",
      "execution_count": 67,
      "outputs": [
        {
          "output_type": "execute_result",
          "data": {
            "text/plain": [
              "True"
            ]
          },
          "metadata": {},
          "execution_count": 67
        }
      ]
    },
    {
      "cell_type": "code",
      "source": [
        "(1 == 2) and (\"a\" == \"a\")"
      ],
      "metadata": {
        "colab": {
          "base_uri": "https://localhost:8080/"
        },
        "id": "haaLvw83Dv_d",
        "outputId": "6f78f442-8e34-4691-b46d-fc080d695f02"
      },
      "id": "haaLvw83Dv_d",
      "execution_count": 68,
      "outputs": [
        {
          "output_type": "execute_result",
          "data": {
            "text/plain": [
              "False"
            ]
          },
          "metadata": {},
          "execution_count": 68
        }
      ]
    },
    {
      "cell_type": "code",
      "source": [
        "(1 == 2) or (\"a\" == \"a\")"
      ],
      "metadata": {
        "colab": {
          "base_uri": "https://localhost:8080/"
        },
        "id": "bzkGiAm1DxBV",
        "outputId": "1c4b9155-83e1-4b85-c8eb-3c03d81bf87a"
      },
      "id": "bzkGiAm1DxBV",
      "execution_count": 69,
      "outputs": [
        {
          "output_type": "execute_result",
          "data": {
            "text/plain": [
              "True"
            ]
          },
          "metadata": {},
          "execution_count": 69
        }
      ]
    },
    {
      "cell_type": "code",
      "source": [
        "#End Of Code"
      ],
      "metadata": {
        "id": "jOkTTANMDyCV"
      },
      "id": "jOkTTANMDyCV",
      "execution_count": 70,
      "outputs": []
    }
  ],
  "metadata": {
    "kernelspec": {
      "display_name": "Python 3 (ipykernel)",
      "language": "python",
      "name": "python3"
    },
    "language_info": {
      "codemirror_mode": {
        "name": "ipython",
        "version": 3
      },
      "file_extension": ".py",
      "mimetype": "text/x-python",
      "name": "python",
      "nbconvert_exporter": "python",
      "pygments_lexer": "ipython3",
      "version": "3.10.4"
    },
    "colab": {
      "name": "01 Crash Course.ipynb",
      "provenance": [],
      "collapsed_sections": [],
      "include_colab_link": true
    }
  },
  "nbformat": 4,
  "nbformat_minor": 5
}
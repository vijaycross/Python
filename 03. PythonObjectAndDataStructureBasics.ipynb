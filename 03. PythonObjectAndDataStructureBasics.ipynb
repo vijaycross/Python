{
  "cells": [
    {
      "cell_type": "markdown",
      "metadata": {
        "id": "xWHFf-mC3U00"
      },
      "source": [
        "# Basic Data Types"
      ]
    },
    {
      "cell_type": "markdown",
      "metadata": {
        "id": "87Boyw5w3aVQ"
      },
      "source": [
        "## Number"
      ]
    },
    {
      "cell_type": "code",
      "execution_count": 1,
      "metadata": {
        "colab": {
          "base_uri": "https://localhost:8080/"
        },
        "id": "VEYwk4oVTHHp",
        "outputId": "f8afb88b-f4b4-4d92-9726-787c66cd5976"
      },
      "outputs": [
        {
          "output_type": "execute_result",
          "data": {
            "text/plain": [
              "3"
            ]
          },
          "metadata": {},
          "execution_count": 1
        }
      ],
      "source": [
        "2+1"
      ]
    },
    {
      "cell_type": "code",
      "execution_count": 2,
      "metadata": {
        "colab": {
          "base_uri": "https://localhost:8080/"
        },
        "id": "MO4dfIOLTSsj",
        "outputId": "4c386cf4-6e1d-4b3f-c84e-81b8dacfcdd1"
      },
      "outputs": [
        {
          "output_type": "execute_result",
          "data": {
            "text/plain": [
              "1"
            ]
          },
          "metadata": {},
          "execution_count": 2
        }
      ],
      "source": [
        "2-1"
      ]
    },
    {
      "cell_type": "code",
      "execution_count": 3,
      "metadata": {
        "colab": {
          "base_uri": "https://localhost:8080/"
        },
        "id": "lum47Wn2bfFI",
        "outputId": "006f53be-3eb7-4c4b-a43b-ba819389a2d3"
      },
      "outputs": [
        {
          "output_type": "execute_result",
          "data": {
            "text/plain": [
              "4"
            ]
          },
          "metadata": {},
          "execution_count": 3
        }
      ],
      "source": [
        "2*2"
      ]
    },
    {
      "cell_type": "code",
      "execution_count": 4,
      "metadata": {
        "colab": {
          "base_uri": "https://localhost:8080/"
        },
        "id": "4dnRywcIbg8B",
        "outputId": "e12329bf-5255-4400-e8d4-de0c2e37917e"
      },
      "outputs": [
        {
          "output_type": "execute_result",
          "data": {
            "text/plain": [
              "1.5"
            ]
          },
          "metadata": {},
          "execution_count": 4
        }
      ],
      "source": [
        "3/2"
      ]
    },
    {
      "cell_type": "markdown",
      "metadata": {
        "id": "451mKBwkb2RT"
      },
      "source": [
        "# **Modulo or Mod Operator**"
      ]
    },
    {
      "cell_type": "code",
      "execution_count": 5,
      "metadata": {
        "id": "Cmrs8mRKb7vJ",
        "colab": {
          "base_uri": "https://localhost:8080/"
        },
        "outputId": "816f3d90-5a78-4bed-c037-8e89d2b0fc7a"
      },
      "outputs": [
        {
          "output_type": "execute_result",
          "data": {
            "text/plain": [
              "1.75"
            ]
          },
          "metadata": {},
          "execution_count": 5
        }
      ],
      "source": [
        "7 / 4"
      ]
    },
    {
      "cell_type": "code",
      "execution_count": 6,
      "metadata": {
        "id": "LtOadQ5LcEBM",
        "colab": {
          "base_uri": "https://localhost:8080/"
        },
        "outputId": "1c28f4cc-241e-4157-cfed-65f1e8280448"
      },
      "outputs": [
        {
          "output_type": "execute_result",
          "data": {
            "text/plain": [
              "3"
            ]
          },
          "metadata": {},
          "execution_count": 6
        }
      ],
      "source": [
        " 7 % 4"
      ]
    },
    {
      "cell_type": "code",
      "execution_count": 7,
      "metadata": {
        "id": "tECOGg-7cGEg",
        "colab": {
          "base_uri": "https://localhost:8080/"
        },
        "outputId": "cda8990c-39c7-49cf-9159-f29570f14bdf"
      },
      "outputs": [
        {
          "output_type": "execute_result",
          "data": {
            "text/plain": [
              "2"
            ]
          },
          "metadata": {},
          "execution_count": 7
        }
      ],
      "source": [
        "50 % 4"
      ]
    },
    {
      "cell_type": "code",
      "execution_count": 8,
      "metadata": {
        "id": "b8m3dVm3cOZ5",
        "colab": {
          "base_uri": "https://localhost:8080/"
        },
        "outputId": "f355d332-a2f7-4e4b-bc8a-b5abcfd573df"
      },
      "outputs": [
        {
          "output_type": "execute_result",
          "data": {
            "text/plain": [
              "1"
            ]
          },
          "metadata": {},
          "execution_count": 8
        }
      ],
      "source": [
        "23 % 2"
      ]
    },
    {
      "cell_type": "code",
      "execution_count": 9,
      "metadata": {
        "id": "XenSfE1acPy1",
        "colab": {
          "base_uri": "https://localhost:8080/"
        },
        "outputId": "d11d5777-503e-49d3-ecb3-f9cc34d87ade"
      },
      "outputs": [
        {
          "output_type": "execute_result",
          "data": {
            "text/plain": [
              "0"
            ]
          },
          "metadata": {},
          "execution_count": 9
        }
      ],
      "source": [
        "20 % 2"
      ]
    },
    {
      "cell_type": "code",
      "execution_count": 10,
      "metadata": {
        "id": "w3MWJbYhcWiT",
        "colab": {
          "base_uri": "https://localhost:8080/"
        },
        "outputId": "5793dfa3-9f7e-4d9b-b629-6cf8db4a3d04"
      },
      "outputs": [
        {
          "output_type": "execute_result",
          "data": {
            "text/plain": [
              "8"
            ]
          },
          "metadata": {},
          "execution_count": 10
        }
      ],
      "source": [
        "2 ** 3"
      ]
    },
    {
      "cell_type": "code",
      "execution_count": 11,
      "metadata": {
        "id": "U35ISrNXcZM6",
        "colab": {
          "base_uri": "https://localhost:8080/"
        },
        "outputId": "bfa51413-f1d6-4374-83c1-edeae1d5241d"
      },
      "outputs": [
        {
          "output_type": "execute_result",
          "data": {
            "text/plain": [
              "105"
            ]
          },
          "metadata": {},
          "execution_count": 11
        }
      ],
      "source": [
        "2 + 10 * 10 + 3"
      ]
    },
    {
      "cell_type": "code",
      "execution_count": 12,
      "metadata": {
        "id": "TMTRB_0Jcgab",
        "colab": {
          "base_uri": "https://localhost:8080/"
        },
        "outputId": "925f9e42-c584-4b3c-cc42-18431a2b57aa"
      },
      "outputs": [
        {
          "output_type": "execute_result",
          "data": {
            "text/plain": [
              "156"
            ]
          },
          "metadata": {},
          "execution_count": 12
        }
      ],
      "source": [
        "(2 + 10) * (10 + 3)"
      ]
    },
    {
      "cell_type": "markdown",
      "metadata": {
        "id": "Er1FABXy3sEM"
      },
      "source": [
        "## Variable Assignment"
      ]
    },
    {
      "cell_type": "code",
      "execution_count": 13,
      "metadata": {
        "id": "ycsRf7qgcrZ8"
      },
      "outputs": [],
      "source": [
        "a = 5"
      ]
    },
    {
      "cell_type": "code",
      "execution_count": 14,
      "metadata": {
        "id": "6hIOhJPasglm",
        "colab": {
          "base_uri": "https://localhost:8080/"
        },
        "outputId": "9ab7f7a4-3c39-419d-da0d-a4403f10b6e5"
      },
      "outputs": [
        {
          "output_type": "execute_result",
          "data": {
            "text/plain": [
              "5"
            ]
          },
          "metadata": {},
          "execution_count": 14
        }
      ],
      "source": [
        "a"
      ]
    },
    {
      "cell_type": "code",
      "execution_count": 15,
      "metadata": {
        "id": "2yRxO_MHshD_"
      },
      "outputs": [],
      "source": [
        "a = 10"
      ]
    },
    {
      "cell_type": "code",
      "execution_count": 16,
      "metadata": {
        "id": "U4PQuSoFsiXf",
        "colab": {
          "base_uri": "https://localhost:8080/"
        },
        "outputId": "0ac547b3-6d64-44ad-c3d0-b4b4f137fe68"
      },
      "outputs": [
        {
          "output_type": "execute_result",
          "data": {
            "text/plain": [
              "10"
            ]
          },
          "metadata": {},
          "execution_count": 16
        }
      ],
      "source": [
        "a"
      ]
    },
    {
      "cell_type": "code",
      "execution_count": 17,
      "metadata": {
        "id": "0WGtT_Yesioq",
        "colab": {
          "base_uri": "https://localhost:8080/"
        },
        "outputId": "aaa07249-6c79-4bdd-e645-5322790b01e6"
      },
      "outputs": [
        {
          "output_type": "execute_result",
          "data": {
            "text/plain": [
              "20"
            ]
          },
          "metadata": {},
          "execution_count": 17
        }
      ],
      "source": [
        "a + a"
      ]
    },
    {
      "cell_type": "code",
      "execution_count": 18,
      "metadata": {
        "id": "NJxn4ydFst_k",
        "colab": {
          "base_uri": "https://localhost:8080/"
        },
        "outputId": "f045e021-90ca-41a6-e1db-cc8909430d06"
      },
      "outputs": [
        {
          "output_type": "execute_result",
          "data": {
            "text/plain": [
              "10"
            ]
          },
          "metadata": {},
          "execution_count": 18
        }
      ],
      "source": [
        "a"
      ]
    },
    {
      "cell_type": "code",
      "execution_count": 19,
      "metadata": {
        "id": "C7K2Hz1UsuSX"
      },
      "outputs": [],
      "source": [
        "a = a + a"
      ]
    },
    {
      "cell_type": "code",
      "execution_count": 20,
      "metadata": {
        "id": "JqPkUZYsswgJ",
        "colab": {
          "base_uri": "https://localhost:8080/"
        },
        "outputId": "ec20a045-1f7a-4db2-c35f-f972561be5a8"
      },
      "outputs": [
        {
          "output_type": "execute_result",
          "data": {
            "text/plain": [
              "20"
            ]
          },
          "metadata": {},
          "execution_count": 20
        }
      ],
      "source": [
        "a"
      ]
    },
    {
      "cell_type": "code",
      "execution_count": 21,
      "metadata": {
        "id": "F4QMutNNsxMl",
        "colab": {
          "base_uri": "https://localhost:8080/"
        },
        "outputId": "3f0a3807-29a7-42a3-c90b-92de92e0fe06"
      },
      "outputs": [
        {
          "output_type": "execute_result",
          "data": {
            "text/plain": [
              "int"
            ]
          },
          "metadata": {},
          "execution_count": 21
        }
      ],
      "source": [
        "type(a)"
      ]
    },
    {
      "cell_type": "code",
      "execution_count": 22,
      "metadata": {
        "id": "uAdm3Wh3s9gz"
      },
      "outputs": [],
      "source": [
        "a = 30.1"
      ]
    },
    {
      "cell_type": "code",
      "execution_count": 23,
      "metadata": {
        "id": "mY64icF6tAQp",
        "colab": {
          "base_uri": "https://localhost:8080/"
        },
        "outputId": "7ec46465-2b3a-47a4-b3d6-d814746cab68"
      },
      "outputs": [
        {
          "output_type": "execute_result",
          "data": {
            "text/plain": [
              "float"
            ]
          },
          "metadata": {},
          "execution_count": 23
        }
      ],
      "source": [
        "type(a)"
      ]
    },
    {
      "cell_type": "code",
      "execution_count": 24,
      "metadata": {
        "id": "PpfhT0Z5tBIx"
      },
      "outputs": [],
      "source": [
        "my_income = 100\n",
        "\n",
        "tax_rate = 0.1\n",
        "\n",
        "my_taxes = my_income * tax_rate"
      ]
    },
    {
      "cell_type": "code",
      "execution_count": 25,
      "metadata": {
        "id": "o4WGkUp8trcU",
        "colab": {
          "base_uri": "https://localhost:8080/"
        },
        "outputId": "8e4e9c0b-92bd-49af-e4f8-fd834fc3effd"
      },
      "outputs": [
        {
          "output_type": "execute_result",
          "data": {
            "text/plain": [
              "10.0"
            ]
          },
          "metadata": {},
          "execution_count": 25
        }
      ],
      "source": [
        "my_taxes"
      ]
    },
    {
      "cell_type": "markdown",
      "metadata": {
        "id": "fZV3tW0h38sH"
      },
      "source": [
        "## Strings"
      ]
    },
    {
      "cell_type": "code",
      "execution_count": 26,
      "metadata": {
        "id": "QT7qQIpAtuSj",
        "colab": {
          "base_uri": "https://localhost:8080/",
          "height": 36
        },
        "outputId": "90b4ad07-d06f-4dcd-ff80-c8b31173f7a5"
      },
      "outputs": [
        {
          "output_type": "execute_result",
          "data": {
            "text/plain": [
              "'Hello'"
            ],
            "application/vnd.google.colaboratory.intrinsic+json": {
              "type": "string"
            }
          },
          "metadata": {},
          "execution_count": 26
        }
      ],
      "source": [
        "'Hello'"
      ]
    },
    {
      "cell_type": "code",
      "execution_count": 27,
      "metadata": {
        "id": "9NTwrMdTxiOk",
        "colab": {
          "base_uri": "https://localhost:8080/",
          "height": 36
        },
        "outputId": "7e7c892a-a3da-49d1-849d-fddf601e8f01"
      },
      "outputs": [
        {
          "output_type": "execute_result",
          "data": {
            "text/plain": [
              "'World'"
            ],
            "application/vnd.google.colaboratory.intrinsic+json": {
              "type": "string"
            }
          },
          "metadata": {},
          "execution_count": 27
        }
      ],
      "source": [
        "\"World\""
      ]
    },
    {
      "cell_type": "code",
      "execution_count": 28,
      "metadata": {
        "id": "h4iGpQ7_xjTU",
        "colab": {
          "base_uri": "https://localhost:8080/",
          "height": 36
        },
        "outputId": "39afc93e-9519-44bd-b71d-1ea79aa99e88"
      },
      "outputs": [
        {
          "output_type": "execute_result",
          "data": {
            "text/plain": [
              "'This is also an String'"
            ],
            "application/vnd.google.colaboratory.intrinsic+json": {
              "type": "string"
            }
          },
          "metadata": {},
          "execution_count": 28
        }
      ],
      "source": [
        "\"This is also an String\""
      ]
    },
    {
      "cell_type": "code",
      "execution_count": 29,
      "metadata": {
        "id": "RXvN-Uzqxoc3",
        "colab": {
          "base_uri": "https://localhost:8080/",
          "height": 36
        },
        "outputId": "9e6ce1ae-b34d-4461-aead-f44a6893d525"
      },
      "outputs": [
        {
          "output_type": "execute_result",
          "data": {
            "text/plain": [
              "\"I'm going on run.\""
            ],
            "application/vnd.google.colaboratory.intrinsic+json": {
              "type": "string"
            }
          },
          "metadata": {},
          "execution_count": 29
        }
      ],
      "source": [
        "\"I'm going on run.\""
      ]
    },
    {
      "cell_type": "code",
      "execution_count": 30,
      "metadata": {
        "id": "YlRVIRdox6Ij",
        "colab": {
          "base_uri": "https://localhost:8080/"
        },
        "outputId": "89b9ffe6-a05c-40de-f067-143aab48b236"
      },
      "outputs": [
        {
          "output_type": "stream",
          "name": "stdout",
          "text": [
            "Hello\n"
          ]
        }
      ],
      "source": [
        "print(\"Hello\")"
      ]
    },
    {
      "cell_type": "code",
      "execution_count": 31,
      "metadata": {
        "id": "8ss7N9uuyTg2",
        "colab": {
          "base_uri": "https://localhost:8080/"
        },
        "outputId": "ea30d278-4e42-4ca8-ed19-1bbc3e328888"
      },
      "outputs": [
        {
          "output_type": "stream",
          "name": "stdout",
          "text": [
            "Hello World One\n",
            "Hello World Two\n"
          ]
        }
      ],
      "source": [
        "print(\"Hello World One\")\n",
        "print(\"Hello World Two\")"
      ]
    },
    {
      "cell_type": "code",
      "execution_count": 32,
      "metadata": {
        "id": "w7WtETSByZ_P",
        "colab": {
          "base_uri": "https://localhost:8080/"
        },
        "outputId": "99b2354a-6663-49b3-fccf-e097f2381328"
      },
      "outputs": [
        {
          "output_type": "stream",
          "name": "stdout",
          "text": [
            "Hello \n",
            " World\n"
          ]
        }
      ],
      "source": [
        "print(\"Hello \\n World\") #Next Line"
      ]
    },
    {
      "cell_type": "code",
      "execution_count": 33,
      "metadata": {
        "id": "GQK0I82RyquH",
        "colab": {
          "base_uri": "https://localhost:8080/"
        },
        "outputId": "bd2912db-76ea-4d1c-b4b5-63ca9705d936"
      },
      "outputs": [
        {
          "output_type": "stream",
          "name": "stdout",
          "text": [
            "Hello \t World\n"
          ]
        }
      ],
      "source": [
        "print(\"Hello \\t World\") #Tab"
      ]
    },
    {
      "cell_type": "code",
      "execution_count": 34,
      "metadata": {
        "id": "5SPeBUAuyxxP",
        "colab": {
          "base_uri": "https://localhost:8080/"
        },
        "outputId": "ca9460be-777b-4217-dd10-50ff0acca421"
      },
      "outputs": [
        {
          "output_type": "execute_result",
          "data": {
            "text/plain": [
              "5"
            ]
          },
          "metadata": {},
          "execution_count": 34
        }
      ],
      "source": [
        "len(\"Hello\")"
      ]
    },
    {
      "cell_type": "code",
      "execution_count": 35,
      "metadata": {
        "id": "fPDukkm0zAFn",
        "colab": {
          "base_uri": "https://localhost:8080/"
        },
        "outputId": "500f0b6a-9193-4b40-e105-83dcdd826dd0"
      },
      "outputs": [
        {
          "output_type": "execute_result",
          "data": {
            "text/plain": [
              "4"
            ]
          },
          "metadata": {},
          "execution_count": 35
        }
      ],
      "source": [
        "len(\"I am\")"
      ]
    },
    {
      "cell_type": "markdown",
      "metadata": {
        "id": "oqNd3b_SASGW"
      },
      "source": [
        "# **Indexing & Slicing**"
      ]
    },
    {
      "cell_type": "code",
      "execution_count": 36,
      "metadata": {
        "id": "_MXG4DvOzB3K"
      },
      "outputs": [],
      "source": [
        "mystring = \"Hello World\""
      ]
    },
    {
      "cell_type": "code",
      "execution_count": 37,
      "metadata": {
        "id": "gQhNBnPq9LJn",
        "colab": {
          "base_uri": "https://localhost:8080/",
          "height": 36
        },
        "outputId": "03f9cd1a-597d-4ac7-e530-f1028aecdde6"
      },
      "outputs": [
        {
          "output_type": "execute_result",
          "data": {
            "text/plain": [
              "'Hello World'"
            ],
            "application/vnd.google.colaboratory.intrinsic+json": {
              "type": "string"
            }
          },
          "metadata": {},
          "execution_count": 37
        }
      ],
      "source": [
        "mystring"
      ]
    },
    {
      "cell_type": "code",
      "execution_count": 38,
      "metadata": {
        "id": "V0N52kiF9MW9",
        "colab": {
          "base_uri": "https://localhost:8080/",
          "height": 36
        },
        "outputId": "b7034004-d0d2-4a6a-fbed-3fbd13ad694b"
      },
      "outputs": [
        {
          "output_type": "execute_result",
          "data": {
            "text/plain": [
              "'H'"
            ],
            "application/vnd.google.colaboratory.intrinsic+json": {
              "type": "string"
            }
          },
          "metadata": {},
          "execution_count": 38
        }
      ],
      "source": [
        "#Indexing\n",
        "mystring[0]"
      ]
    },
    {
      "cell_type": "code",
      "execution_count": 39,
      "metadata": {
        "id": "vpqwXykf9Piy",
        "colab": {
          "base_uri": "https://localhost:8080/",
          "height": 36
        },
        "outputId": "19b08ceb-e4c8-4c0a-ea37-ae21aeca9b69"
      },
      "outputs": [
        {
          "output_type": "execute_result",
          "data": {
            "text/plain": [
              "'r'"
            ],
            "application/vnd.google.colaboratory.intrinsic+json": {
              "type": "string"
            }
          },
          "metadata": {},
          "execution_count": 39
        }
      ],
      "source": [
        "mystring[8]"
      ]
    },
    {
      "cell_type": "code",
      "execution_count": 40,
      "metadata": {
        "id": "5EcQaVg79Y9L",
        "colab": {
          "base_uri": "https://localhost:8080/",
          "height": 36
        },
        "outputId": "da7dd8ee-7953-40cb-b7c0-e7072b521cbf"
      },
      "outputs": [
        {
          "output_type": "execute_result",
          "data": {
            "text/plain": [
              "'l'"
            ],
            "application/vnd.google.colaboratory.intrinsic+json": {
              "type": "string"
            }
          },
          "metadata": {},
          "execution_count": 40
        }
      ],
      "source": [
        "mystring[9]"
      ]
    },
    {
      "cell_type": "code",
      "execution_count": 41,
      "metadata": {
        "id": "LZm2NFPu9jpL",
        "colab": {
          "base_uri": "https://localhost:8080/",
          "height": 36
        },
        "outputId": "1cece003-2f5f-4c02-b716-2d8eacc955b4"
      },
      "outputs": [
        {
          "output_type": "execute_result",
          "data": {
            "text/plain": [
              "'l'"
            ],
            "application/vnd.google.colaboratory.intrinsic+json": {
              "type": "string"
            }
          },
          "metadata": {},
          "execution_count": 41
        }
      ],
      "source": [
        "mystring[-2]"
      ]
    },
    {
      "cell_type": "code",
      "execution_count": 42,
      "metadata": {
        "id": "RvAW4uGw9li4"
      },
      "outputs": [],
      "source": [
        "newstring = \"abcdefghijk\""
      ]
    },
    {
      "cell_type": "code",
      "execution_count": 43,
      "metadata": {
        "id": "Rq2DRGba91Sm",
        "colab": {
          "base_uri": "https://localhost:8080/",
          "height": 36
        },
        "outputId": "3c48ce6c-cf7f-4d8a-b283-36d615c78414"
      },
      "outputs": [
        {
          "output_type": "execute_result",
          "data": {
            "text/plain": [
              "'cdefghijk'"
            ],
            "application/vnd.google.colaboratory.intrinsic+json": {
              "type": "string"
            }
          },
          "metadata": {},
          "execution_count": 43
        }
      ],
      "source": [
        "#Slicing\n",
        "newstring[2:]"
      ]
    },
    {
      "cell_type": "code",
      "execution_count": 44,
      "metadata": {
        "id": "Sl9F-xrP-A-c",
        "colab": {
          "base_uri": "https://localhost:8080/",
          "height": 36
        },
        "outputId": "6501292b-f3dd-442c-c1e9-63b41d0947de"
      },
      "outputs": [
        {
          "output_type": "execute_result",
          "data": {
            "text/plain": [
              "'abc'"
            ],
            "application/vnd.google.colaboratory.intrinsic+json": {
              "type": "string"
            }
          },
          "metadata": {},
          "execution_count": 44
        }
      ],
      "source": [
        "newstring[:3]"
      ]
    },
    {
      "cell_type": "code",
      "execution_count": 45,
      "metadata": {
        "id": "LBC0XKaW-NlY",
        "colab": {
          "base_uri": "https://localhost:8080/",
          "height": 36
        },
        "outputId": "3417492c-1adb-447a-8009-1146f4d6564a"
      },
      "outputs": [
        {
          "output_type": "execute_result",
          "data": {
            "text/plain": [
              "'def'"
            ],
            "application/vnd.google.colaboratory.intrinsic+json": {
              "type": "string"
            }
          },
          "metadata": {},
          "execution_count": 45
        }
      ],
      "source": [
        "newstring[3:6]"
      ]
    },
    {
      "cell_type": "code",
      "execution_count": 46,
      "metadata": {
        "id": "mMqtpvLc-t8s",
        "colab": {
          "base_uri": "https://localhost:8080/",
          "height": 36
        },
        "outputId": "3a91afdc-709c-4cb5-d5c2-b8628c8e2ac4"
      },
      "outputs": [
        {
          "output_type": "execute_result",
          "data": {
            "text/plain": [
              "'bc'"
            ],
            "application/vnd.google.colaboratory.intrinsic+json": {
              "type": "string"
            }
          },
          "metadata": {},
          "execution_count": 46
        }
      ],
      "source": [
        "newstring[1:3]"
      ]
    },
    {
      "cell_type": "code",
      "execution_count": 47,
      "metadata": {
        "id": "UdFlS6oU-1dM",
        "colab": {
          "base_uri": "https://localhost:8080/",
          "height": 36
        },
        "outputId": "b8c107d1-6801-4f51-f27e-67ce5d410a0d"
      },
      "outputs": [
        {
          "output_type": "execute_result",
          "data": {
            "text/plain": [
              "'acegik'"
            ],
            "application/vnd.google.colaboratory.intrinsic+json": {
              "type": "string"
            }
          },
          "metadata": {},
          "execution_count": 47
        }
      ],
      "source": [
        "#stepsize\n",
        "#[start : stop : stepsize]\n",
        "newstring[::2]"
      ]
    },
    {
      "cell_type": "code",
      "execution_count": 48,
      "metadata": {
        "id": "s8KcdFwa_Gnn",
        "colab": {
          "base_uri": "https://localhost:8080/",
          "height": 36
        },
        "outputId": "7e47f2cd-7ec4-41b9-eb58-2d787e4fefce"
      },
      "outputs": [
        {
          "output_type": "execute_result",
          "data": {
            "text/plain": [
              "'ceg'"
            ],
            "application/vnd.google.colaboratory.intrinsic+json": {
              "type": "string"
            }
          },
          "metadata": {},
          "execution_count": 48
        }
      ],
      "source": [
        "newstring[2:7:2]"
      ]
    },
    {
      "cell_type": "code",
      "execution_count": 49,
      "metadata": {
        "id": "l7n9GxSO_Yxd",
        "colab": {
          "base_uri": "https://localhost:8080/",
          "height": 36
        },
        "outputId": "acb948c3-e728-406e-8eae-8773fb796cf6"
      },
      "outputs": [
        {
          "output_type": "execute_result",
          "data": {
            "text/plain": [
              "'kjihgfedcba'"
            ],
            "application/vnd.google.colaboratory.intrinsic+json": {
              "type": "string"
            }
          },
          "metadata": {},
          "execution_count": 49
        }
      ],
      "source": [
        "#reverse\n",
        "newstring[::-1]"
      ]
    },
    {
      "cell_type": "markdown",
      "metadata": {
        "id": "Pj-zEcMa_7Yp"
      },
      "source": [
        "# **String Properties & Methods**"
      ]
    },
    {
      "cell_type": "markdown",
      "metadata": {
        "id": "8StSyedEAvT0"
      },
      "source": [
        "Immutability"
      ]
    },
    {
      "cell_type": "code",
      "execution_count": 50,
      "metadata": {
        "id": "T2VDSaCbAzTi"
      },
      "outputs": [],
      "source": [
        "name = \"Sam\""
      ]
    },
    {
      "cell_type": "code",
      "execution_count": 51,
      "metadata": {
        "id": "BpNhc9G_BFSw"
      },
      "outputs": [],
      "source": [
        "#name[0] = \"P\""
      ]
    },
    {
      "cell_type": "code",
      "execution_count": 52,
      "metadata": {
        "id": "v_XqN8H4BIFt"
      },
      "outputs": [],
      "source": [
        "#String Concatenation\n",
        "last_letters = name[1:]"
      ]
    },
    {
      "cell_type": "code",
      "execution_count": 53,
      "metadata": {
        "id": "tbJs0A1EBWGR",
        "colab": {
          "base_uri": "https://localhost:8080/",
          "height": 36
        },
        "outputId": "501fa3c5-7bf5-4304-bbf1-760f9ee43b96"
      },
      "outputs": [
        {
          "output_type": "execute_result",
          "data": {
            "text/plain": [
              "'am'"
            ],
            "application/vnd.google.colaboratory.intrinsic+json": {
              "type": "string"
            }
          },
          "metadata": {},
          "execution_count": 53
        }
      ],
      "source": [
        "last_letters"
      ]
    },
    {
      "cell_type": "code",
      "execution_count": 54,
      "metadata": {
        "id": "IpgQMJjABa4S",
        "colab": {
          "base_uri": "https://localhost:8080/",
          "height": 36
        },
        "outputId": "e1d9aefd-85d4-40d9-9dbf-ef50ac046930"
      },
      "outputs": [
        {
          "output_type": "execute_result",
          "data": {
            "text/plain": [
              "'Pam'"
            ],
            "application/vnd.google.colaboratory.intrinsic+json": {
              "type": "string"
            }
          },
          "metadata": {},
          "execution_count": 54
        }
      ],
      "source": [
        "\"P\" + last_letters"
      ]
    },
    {
      "cell_type": "code",
      "execution_count": 55,
      "metadata": {
        "id": "hiDrTCZ8Bj_N"
      },
      "outputs": [],
      "source": [
        "x = \"Hello World !\""
      ]
    },
    {
      "cell_type": "code",
      "execution_count": 56,
      "metadata": {
        "id": "FSsx2tfyB1kI",
        "colab": {
          "base_uri": "https://localhost:8080/",
          "height": 36
        },
        "outputId": "4eed87f7-5e37-405d-95cb-4edf4fe728f4"
      },
      "outputs": [
        {
          "output_type": "execute_result",
          "data": {
            "text/plain": [
              "'Hello World ! It is beautiful outside'"
            ],
            "application/vnd.google.colaboratory.intrinsic+json": {
              "type": "string"
            }
          },
          "metadata": {},
          "execution_count": 56
        }
      ],
      "source": [
        "x + \" It is beautiful outside\""
      ]
    },
    {
      "cell_type": "code",
      "execution_count": 57,
      "metadata": {
        "id": "MXriA4pmB5NC"
      },
      "outputs": [],
      "source": [
        "letter = \"z\""
      ]
    },
    {
      "cell_type": "code",
      "execution_count": 58,
      "metadata": {
        "id": "TTCAzKOnCNvQ",
        "colab": {
          "base_uri": "https://localhost:8080/",
          "height": 36
        },
        "outputId": "6af54e2e-aab1-4720-c9bb-882ab3d50021"
      },
      "outputs": [
        {
          "output_type": "execute_result",
          "data": {
            "text/plain": [
              "'zzzzzzzzzz'"
            ],
            "application/vnd.google.colaboratory.intrinsic+json": {
              "type": "string"
            }
          },
          "metadata": {},
          "execution_count": 58
        }
      ],
      "source": [
        "letter * 10"
      ]
    },
    {
      "cell_type": "code",
      "execution_count": 59,
      "metadata": {
        "id": "dzeMzuPMCPbv",
        "colab": {
          "base_uri": "https://localhost:8080/"
        },
        "outputId": "79cc96c6-6b72-4a4d-9fb8-805e20043316"
      },
      "outputs": [
        {
          "output_type": "execute_result",
          "data": {
            "text/plain": [
              "5"
            ]
          },
          "metadata": {},
          "execution_count": 59
        }
      ],
      "source": [
        "2 + 3"
      ]
    },
    {
      "cell_type": "code",
      "execution_count": 60,
      "metadata": {
        "id": "lhSaeSAoCaDx",
        "colab": {
          "base_uri": "https://localhost:8080/",
          "height": 36
        },
        "outputId": "2d44e18a-74b0-4a09-f60c-166308655183"
      },
      "outputs": [
        {
          "output_type": "execute_result",
          "data": {
            "text/plain": [
              "'23'"
            ],
            "application/vnd.google.colaboratory.intrinsic+json": {
              "type": "string"
            }
          },
          "metadata": {},
          "execution_count": 60
        }
      ],
      "source": [
        "\"2\" + \"3\""
      ]
    },
    {
      "cell_type": "code",
      "execution_count": 61,
      "metadata": {
        "id": "LU3ne89cCcfD"
      },
      "outputs": [],
      "source": [
        "x = \"Hello World\""
      ]
    },
    {
      "cell_type": "code",
      "execution_count": 62,
      "metadata": {
        "id": "ABrMZguCDOi4",
        "colab": {
          "base_uri": "https://localhost:8080/",
          "height": 36
        },
        "outputId": "b37dc0c4-5ebf-411f-a3fb-5b735cd94935"
      },
      "outputs": [
        {
          "output_type": "execute_result",
          "data": {
            "text/plain": [
              "'HELLO WORLD'"
            ],
            "application/vnd.google.colaboratory.intrinsic+json": {
              "type": "string"
            }
          },
          "metadata": {},
          "execution_count": 62
        }
      ],
      "source": [
        "x.upper()"
      ]
    },
    {
      "cell_type": "code",
      "execution_count": 63,
      "metadata": {
        "id": "Y2k-v-uLDiwt",
        "colab": {
          "base_uri": "https://localhost:8080/",
          "height": 36
        },
        "outputId": "ed8e538f-05d1-4225-f8ba-b4c332218758"
      },
      "outputs": [
        {
          "output_type": "execute_result",
          "data": {
            "text/plain": [
              "'hello world'"
            ],
            "application/vnd.google.colaboratory.intrinsic+json": {
              "type": "string"
            }
          },
          "metadata": {},
          "execution_count": 63
        }
      ],
      "source": [
        "x.lower()"
      ]
    },
    {
      "cell_type": "code",
      "execution_count": 64,
      "metadata": {
        "id": "UZ6cPzAcDyne",
        "colab": {
          "base_uri": "https://localhost:8080/"
        },
        "outputId": "1cd80a2e-ddd5-4d0d-a127-795e0bb4976b"
      },
      "outputs": [
        {
          "output_type": "execute_result",
          "data": {
            "text/plain": [
              "['Hello', 'World']"
            ]
          },
          "metadata": {},
          "execution_count": 64
        }
      ],
      "source": [
        "x.split()"
      ]
    },
    {
      "cell_type": "code",
      "execution_count": 65,
      "metadata": {
        "id": "Gf1yyP5HD2ED"
      },
      "outputs": [],
      "source": [
        "x = \"Hi this is a string\""
      ]
    },
    {
      "cell_type": "code",
      "execution_count": 66,
      "metadata": {
        "id": "KCp1EHJ3D-j0",
        "colab": {
          "base_uri": "https://localhost:8080/"
        },
        "outputId": "f46e1df0-4aa0-4ffe-9061-7c9463ec3fed"
      },
      "outputs": [
        {
          "output_type": "execute_result",
          "data": {
            "text/plain": [
              "['Hi', 'this', 'is', 'a', 'string']"
            ]
          },
          "metadata": {},
          "execution_count": 66
        }
      ],
      "source": [
        "x.split()"
      ]
    },
    {
      "cell_type": "code",
      "execution_count": 67,
      "metadata": {
        "id": "JTJMlUtdECKY",
        "colab": {
          "base_uri": "https://localhost:8080/"
        },
        "outputId": "5b3ae3b3-f4bc-4757-db32-5c6463077e69"
      },
      "outputs": [
        {
          "output_type": "execute_result",
          "data": {
            "text/plain": [
              "['H', ' th', 's ', 's a str', 'ng']"
            ]
          },
          "metadata": {},
          "execution_count": 67
        }
      ],
      "source": [
        "x.split(\"i\")"
      ]
    },
    {
      "cell_type": "markdown",
      "metadata": {
        "id": "XSNNifyREYIk"
      },
      "source": [
        "# String formatting with printing"
      ]
    },
    {
      "cell_type": "markdown",
      "metadata": {
        "id": "EvRanv50a1ru"
      },
      "source": [
        "Formatting with the .format() method"
      ]
    },
    {
      "cell_type": "code",
      "execution_count": 68,
      "metadata": {
        "id": "m0mmTk6ja8JL",
        "colab": {
          "base_uri": "https://localhost:8080/"
        },
        "outputId": "f61576dd-a0d9-4b87-8d08-f40806b6664f"
      },
      "outputs": [
        {
          "output_type": "stream",
          "name": "stdout",
          "text": [
            "This is a string INSERTED\n"
          ]
        }
      ],
      "source": [
        "print(\"This is a string {}\" .format(\"INSERTED\"))"
      ]
    },
    {
      "cell_type": "code",
      "execution_count": 69,
      "metadata": {
        "id": "xPP6zBeEbRnG",
        "colab": {
          "base_uri": "https://localhost:8080/"
        },
        "outputId": "f85e3ab5-232a-4a7c-d92f-8d57bbd93ef6"
      },
      "outputs": [
        {
          "output_type": "stream",
          "name": "stdout",
          "text": [
            "The Fox brown quick\n"
          ]
        }
      ],
      "source": [
        "print(\"The {} {} {}\" .format(\"Fox\", \"brown\", \"quick\"))"
      ]
    },
    {
      "cell_type": "code",
      "execution_count": 70,
      "metadata": {
        "id": "pXnyrVgqbpq9",
        "colab": {
          "base_uri": "https://localhost:8080/"
        },
        "outputId": "16c40edc-c95b-45ae-e605-8598d03fdabc"
      },
      "outputs": [
        {
          "output_type": "stream",
          "name": "stdout",
          "text": [
            "The quick brown Fox\n"
          ]
        }
      ],
      "source": [
        "print(\"The {2} {1} {0}\" .format(\"Fox\", \"brown\", \"quick\"))"
      ]
    },
    {
      "cell_type": "code",
      "execution_count": 71,
      "metadata": {
        "id": "d1m9pQoNb3S6",
        "colab": {
          "base_uri": "https://localhost:8080/"
        },
        "outputId": "e1d00a10-4942-42dd-ac34-6e40a99a56d8"
      },
      "outputs": [
        {
          "output_type": "stream",
          "name": "stdout",
          "text": [
            "The Fox Fox Fox\n"
          ]
        }
      ],
      "source": [
        "print(\"The {0} {0} {0}\" .format(\"Fox\", \"brown\", \"quick\"))"
      ]
    },
    {
      "cell_type": "code",
      "execution_count": 72,
      "metadata": {
        "id": "XrV2xG-nb6qS",
        "colab": {
          "base_uri": "https://localhost:8080/"
        },
        "outputId": "46c01e3d-bf95-4a4e-d210-a3f7a64a5d3c"
      },
      "outputs": [
        {
          "output_type": "stream",
          "name": "stdout",
          "text": [
            "The quick brown Fox\n"
          ]
        }
      ],
      "source": [
        "print(\"The {q} {b} {f}\" .format(f=\"Fox\", b=\"brown\", q=\"quick\"))"
      ]
    },
    {
      "cell_type": "markdown",
      "metadata": {
        "id": "TIh0QBj0c6pg"
      },
      "source": [
        "Float formatting follows \"{value:width:precision f}\""
      ]
    },
    {
      "cell_type": "code",
      "execution_count": 73,
      "metadata": {
        "id": "ZDKzMWtJdHe8"
      },
      "outputs": [],
      "source": [
        "result = 100 / 777"
      ]
    },
    {
      "cell_type": "code",
      "execution_count": 74,
      "metadata": {
        "id": "Rh2Ka--Pd4PQ",
        "colab": {
          "base_uri": "https://localhost:8080/"
        },
        "outputId": "d5670aea-6d3d-40c0-dfd2-4aad67b72554"
      },
      "outputs": [
        {
          "output_type": "execute_result",
          "data": {
            "text/plain": [
              "0.1287001287001287"
            ]
          },
          "metadata": {},
          "execution_count": 74
        }
      ],
      "source": [
        "result"
      ]
    },
    {
      "cell_type": "code",
      "execution_count": 75,
      "metadata": {
        "id": "1R4TYdMyd5AD",
        "colab": {
          "base_uri": "https://localhost:8080/"
        },
        "outputId": "0ba6063e-d6d3-4eda-cd3a-23cd687cb7a7"
      },
      "outputs": [
        {
          "output_type": "stream",
          "name": "stdout",
          "text": [
            "The result was 0.12870\n"
          ]
        }
      ],
      "source": [
        "print(\"The result was {r:1.5f}\" .format(r=result))"
      ]
    },
    {
      "cell_type": "code",
      "execution_count": 76,
      "metadata": {
        "id": "X6X3I6QPd_lH"
      },
      "outputs": [],
      "source": [
        "#f strings (formated strings literals)\n",
        "name = \"Vijay\""
      ]
    },
    {
      "cell_type": "code",
      "execution_count": 77,
      "metadata": {
        "id": "QAlT8DneetwI",
        "colab": {
          "base_uri": "https://localhost:8080/"
        },
        "outputId": "202b8175-71f4-4274-99b8-8d1b25e239b4"
      },
      "outputs": [
        {
          "output_type": "stream",
          "name": "stdout",
          "text": [
            "His name is Vijay\n"
          ]
        }
      ],
      "source": [
        "print(f\"His name is {name}\")"
      ]
    },
    {
      "cell_type": "code",
      "execution_count": 78,
      "metadata": {
        "id": "m3LJgFniezfW"
      },
      "outputs": [],
      "source": [
        "name = \"Vijay\"\n",
        "age = \"25\""
      ]
    },
    {
      "cell_type": "code",
      "execution_count": 79,
      "metadata": {
        "id": "UAMvnou-fQrj",
        "colab": {
          "base_uri": "https://localhost:8080/"
        },
        "outputId": "78405a8d-39d0-4c01-c222-248f7d7604b5"
      },
      "outputs": [
        {
          "output_type": "stream",
          "name": "stdout",
          "text": [
            "Vijay is 25 years old.\n"
          ]
        }
      ],
      "source": [
        "print(f\"{name} is {age} years old.\")"
      ]
    },
    {
      "cell_type": "markdown",
      "metadata": {
        "id": "bMpFBWHsfuOP"
      },
      "source": [
        "# Lists"
      ]
    },
    {
      "cell_type": "code",
      "execution_count": 80,
      "metadata": {
        "id": "mSRA959DfzW8"
      },
      "outputs": [],
      "source": [
        "my_list = [1,2,3]"
      ]
    },
    {
      "cell_type": "code",
      "execution_count": 81,
      "metadata": {
        "id": "-nU97v1FSqVZ"
      },
      "outputs": [],
      "source": [
        "my_list = [\"STRING\", 100, 23.2]"
      ]
    },
    {
      "cell_type": "code",
      "execution_count": 82,
      "metadata": {
        "id": "Tf7NrDVISxqT",
        "colab": {
          "base_uri": "https://localhost:8080/"
        },
        "outputId": "195fe51d-ea8c-44c3-e633-25360178d950"
      },
      "outputs": [
        {
          "output_type": "execute_result",
          "data": {
            "text/plain": [
              "3"
            ]
          },
          "metadata": {},
          "execution_count": 82
        }
      ],
      "source": [
        "len(my_list)"
      ]
    },
    {
      "cell_type": "code",
      "execution_count": 83,
      "metadata": {
        "id": "HeuApJMiS3B_"
      },
      "outputs": [],
      "source": [
        "mylist = [\"one\", \"two\", \"three\"]"
      ]
    },
    {
      "cell_type": "code",
      "execution_count": 84,
      "metadata": {
        "id": "A1uAyd4DTFdH",
        "colab": {
          "base_uri": "https://localhost:8080/",
          "height": 36
        },
        "outputId": "c011a6b5-7e87-43f1-db77-4f8b0fafce52"
      },
      "outputs": [
        {
          "output_type": "execute_result",
          "data": {
            "text/plain": [
              "'one'"
            ],
            "application/vnd.google.colaboratory.intrinsic+json": {
              "type": "string"
            }
          },
          "metadata": {},
          "execution_count": 84
        }
      ],
      "source": [
        "mylist[0]"
      ]
    },
    {
      "cell_type": "code",
      "execution_count": 85,
      "metadata": {
        "id": "v4Anl-zWTIi3",
        "colab": {
          "base_uri": "https://localhost:8080/"
        },
        "outputId": "4d22e4f6-2dd1-4973-d64d-9d7e8c51075a"
      },
      "outputs": [
        {
          "output_type": "execute_result",
          "data": {
            "text/plain": [
              "['two', 'three']"
            ]
          },
          "metadata": {},
          "execution_count": 85
        }
      ],
      "source": [
        "mylist[1:]"
      ]
    },
    {
      "cell_type": "code",
      "execution_count": 86,
      "metadata": {
        "id": "CMoVbVnNTL8L"
      },
      "outputs": [],
      "source": [
        "another_list = [\"four\", \"five\"]"
      ]
    },
    {
      "cell_type": "code",
      "execution_count": 87,
      "metadata": {
        "id": "sjA90OWXTT9s"
      },
      "outputs": [],
      "source": [
        "new_list = mylist + another_list"
      ]
    },
    {
      "cell_type": "code",
      "execution_count": 88,
      "metadata": {
        "id": "lYolER2fTYVg",
        "colab": {
          "base_uri": "https://localhost:8080/"
        },
        "outputId": "56106b13-605c-49e5-afd6-fab87c3b0c56"
      },
      "outputs": [
        {
          "output_type": "execute_result",
          "data": {
            "text/plain": [
              "['one', 'two', 'three', 'four', 'five']"
            ]
          },
          "metadata": {},
          "execution_count": 88
        }
      ],
      "source": [
        "new_list"
      ]
    },
    {
      "cell_type": "code",
      "execution_count": 89,
      "metadata": {
        "id": "ujd8G3jkTlYD"
      },
      "outputs": [],
      "source": [
        "new_list[0] = \"ONE ALL CAPS\""
      ]
    },
    {
      "cell_type": "code",
      "execution_count": 90,
      "metadata": {
        "id": "-C5EQ2M-T1ax",
        "colab": {
          "base_uri": "https://localhost:8080/"
        },
        "outputId": "b3d8a39b-9b5d-4068-e25e-7931631a9673"
      },
      "outputs": [
        {
          "output_type": "execute_result",
          "data": {
            "text/plain": [
              "['ONE ALL CAPS', 'two', 'three', 'four', 'five']"
            ]
          },
          "metadata": {},
          "execution_count": 90
        }
      ],
      "source": [
        "new_list"
      ]
    },
    {
      "cell_type": "code",
      "execution_count": 91,
      "metadata": {
        "id": "zaafV4heT21z"
      },
      "outputs": [],
      "source": [
        "new_list.append(\"six\")"
      ]
    },
    {
      "cell_type": "code",
      "execution_count": 92,
      "metadata": {
        "id": "XxOovtVBVvT4",
        "colab": {
          "base_uri": "https://localhost:8080/"
        },
        "outputId": "dade6a86-ef83-49aa-f711-acaafb611927"
      },
      "outputs": [
        {
          "output_type": "execute_result",
          "data": {
            "text/plain": [
              "['ONE ALL CAPS', 'two', 'three', 'four', 'five', 'six']"
            ]
          },
          "metadata": {},
          "execution_count": 92
        }
      ],
      "source": [
        "new_list"
      ]
    },
    {
      "cell_type": "code",
      "execution_count": 93,
      "metadata": {
        "id": "A7Aas1F0VwkC"
      },
      "outputs": [],
      "source": [
        "new_list.append(\"seven\")"
      ]
    },
    {
      "cell_type": "code",
      "execution_count": 94,
      "metadata": {
        "id": "O891qXkRWJ0B",
        "colab": {
          "base_uri": "https://localhost:8080/"
        },
        "outputId": "eb4c1ecf-5f5a-4177-84c8-8d37016fc631"
      },
      "outputs": [
        {
          "output_type": "execute_result",
          "data": {
            "text/plain": [
              "['ONE ALL CAPS', 'two', 'three', 'four', 'five', 'six', 'seven']"
            ]
          },
          "metadata": {},
          "execution_count": 94
        }
      ],
      "source": [
        "new_list"
      ]
    },
    {
      "cell_type": "code",
      "execution_count": 95,
      "metadata": {
        "id": "mjmTmLGHWLaH",
        "colab": {
          "base_uri": "https://localhost:8080/",
          "height": 36
        },
        "outputId": "70f0fda6-1442-433f-fe7e-f1e53aece84a"
      },
      "outputs": [
        {
          "output_type": "execute_result",
          "data": {
            "text/plain": [
              "'seven'"
            ],
            "application/vnd.google.colaboratory.intrinsic+json": {
              "type": "string"
            }
          },
          "metadata": {},
          "execution_count": 95
        }
      ],
      "source": [
        "new_list.pop()"
      ]
    },
    {
      "cell_type": "code",
      "execution_count": 96,
      "metadata": {
        "id": "g6a04q89WP4k",
        "colab": {
          "base_uri": "https://localhost:8080/"
        },
        "outputId": "030e0f4c-2141-4e63-d602-57a421aca12f"
      },
      "outputs": [
        {
          "output_type": "execute_result",
          "data": {
            "text/plain": [
              "['ONE ALL CAPS', 'two', 'three', 'four', 'five', 'six']"
            ]
          },
          "metadata": {},
          "execution_count": 96
        }
      ],
      "source": [
        "new_list"
      ]
    },
    {
      "cell_type": "code",
      "execution_count": 97,
      "metadata": {
        "id": "VQlQBr-YWRvo"
      },
      "outputs": [],
      "source": [
        "popped_item = new_list.pop()"
      ]
    },
    {
      "cell_type": "code",
      "execution_count": 98,
      "metadata": {
        "id": "E6jA21_3WoMu",
        "colab": {
          "base_uri": "https://localhost:8080/",
          "height": 36
        },
        "outputId": "773e3661-aae2-4210-e9c5-38115da820f1"
      },
      "outputs": [
        {
          "output_type": "execute_result",
          "data": {
            "text/plain": [
              "'six'"
            ],
            "application/vnd.google.colaboratory.intrinsic+json": {
              "type": "string"
            }
          },
          "metadata": {},
          "execution_count": 98
        }
      ],
      "source": [
        "popped_item"
      ]
    },
    {
      "cell_type": "code",
      "execution_count": 99,
      "metadata": {
        "id": "rW1Afo25WrUa",
        "colab": {
          "base_uri": "https://localhost:8080/"
        },
        "outputId": "87edf425-cf2a-4267-e4c1-58e627a6a110"
      },
      "outputs": [
        {
          "output_type": "execute_result",
          "data": {
            "text/plain": [
              "['ONE ALL CAPS', 'two', 'three', 'four', 'five']"
            ]
          },
          "metadata": {},
          "execution_count": 99
        }
      ],
      "source": [
        "new_list"
      ]
    },
    {
      "cell_type": "code",
      "execution_count": 100,
      "metadata": {
        "id": "U-RfOE0tWsV1",
        "colab": {
          "base_uri": "https://localhost:8080/",
          "height": 36
        },
        "outputId": "cf0ad1dd-108e-4023-9127-db1bcf6786ce"
      },
      "outputs": [
        {
          "output_type": "execute_result",
          "data": {
            "text/plain": [
              "'ONE ALL CAPS'"
            ],
            "application/vnd.google.colaboratory.intrinsic+json": {
              "type": "string"
            }
          },
          "metadata": {},
          "execution_count": 100
        }
      ],
      "source": [
        "new_list.pop(0)"
      ]
    },
    {
      "cell_type": "code",
      "execution_count": 101,
      "metadata": {
        "id": "sfwPtnleW49T",
        "colab": {
          "base_uri": "https://localhost:8080/"
        },
        "outputId": "837c2db4-7e20-4177-a112-a8b3f014f4a8"
      },
      "outputs": [
        {
          "output_type": "execute_result",
          "data": {
            "text/plain": [
              "['two', 'three', 'four', 'five']"
            ]
          },
          "metadata": {},
          "execution_count": 101
        }
      ],
      "source": [
        "new_list"
      ]
    },
    {
      "cell_type": "code",
      "execution_count": 102,
      "metadata": {
        "id": "6DaK2RCJW7aF"
      },
      "outputs": [],
      "source": [
        "new_list = [\"a\", \"e\", \"x\", \"b\", \"c\"]\n",
        "num_list = [4,1,8,3]"
      ]
    },
    {
      "cell_type": "code",
      "execution_count": 103,
      "metadata": {
        "id": "f6MyKTmSXRlJ"
      },
      "outputs": [],
      "source": [
        "new_list.sort()"
      ]
    },
    {
      "cell_type": "code",
      "execution_count": 104,
      "metadata": {
        "id": "eWvFeILZXbxV",
        "colab": {
          "base_uri": "https://localhost:8080/"
        },
        "outputId": "79c075dd-9ad0-468c-ed39-289b26137930"
      },
      "outputs": [
        {
          "output_type": "execute_result",
          "data": {
            "text/plain": [
              "['a', 'b', 'c', 'e', 'x']"
            ]
          },
          "metadata": {},
          "execution_count": 104
        }
      ],
      "source": [
        "new_list"
      ]
    },
    {
      "cell_type": "code",
      "execution_count": 105,
      "metadata": {
        "id": "ksXLnynHXdUF"
      },
      "outputs": [],
      "source": [
        "my_sorted_list = new_list.sort()"
      ]
    },
    {
      "cell_type": "code",
      "execution_count": 106,
      "metadata": {
        "id": "7qvWdB5qXpkn",
        "colab": {
          "base_uri": "https://localhost:8080/"
        },
        "outputId": "def26709-2bc1-4c77-9f39-4ae85c5767c9"
      },
      "outputs": [
        {
          "output_type": "execute_result",
          "data": {
            "text/plain": [
              "NoneType"
            ]
          },
          "metadata": {},
          "execution_count": 106
        }
      ],
      "source": [
        "type(my_sorted_list)"
      ]
    },
    {
      "cell_type": "code",
      "execution_count": 107,
      "metadata": {
        "id": "XvBIKn6dXsdT"
      },
      "outputs": [],
      "source": [
        "new_list.sort()\n",
        "my_sorted_list = new_list"
      ]
    },
    {
      "cell_type": "code",
      "execution_count": 108,
      "metadata": {
        "id": "s9lbmuVHYAF7",
        "colab": {
          "base_uri": "https://localhost:8080/"
        },
        "outputId": "ff275afc-fff9-46c1-edba-4a46e0753016"
      },
      "outputs": [
        {
          "output_type": "execute_result",
          "data": {
            "text/plain": [
              "['a', 'b', 'c', 'e', 'x']"
            ]
          },
          "metadata": {},
          "execution_count": 108
        }
      ],
      "source": [
        "my_sorted_list"
      ]
    },
    {
      "cell_type": "code",
      "execution_count": 109,
      "metadata": {
        "id": "EZnXv9dcYCR_"
      },
      "outputs": [],
      "source": [
        "num_list.sort()"
      ]
    },
    {
      "cell_type": "code",
      "execution_count": 110,
      "metadata": {
        "id": "2ZaULgQ-YHM2",
        "colab": {
          "base_uri": "https://localhost:8080/"
        },
        "outputId": "a10f949d-1256-44c6-eca0-f5940949d63b"
      },
      "outputs": [
        {
          "output_type": "execute_result",
          "data": {
            "text/plain": [
              "[1, 3, 4, 8]"
            ]
          },
          "metadata": {},
          "execution_count": 110
        }
      ],
      "source": [
        "num_list"
      ]
    },
    {
      "cell_type": "code",
      "execution_count": 111,
      "metadata": {
        "id": "hDFz2Z5pYJDi"
      },
      "outputs": [],
      "source": [
        "num_list.reverse()"
      ]
    },
    {
      "cell_type": "code",
      "execution_count": 112,
      "metadata": {
        "id": "J8m2DtSsYOBl",
        "colab": {
          "base_uri": "https://localhost:8080/"
        },
        "outputId": "e3d46e15-1eb9-414f-86b6-82369fbcc074"
      },
      "outputs": [
        {
          "output_type": "execute_result",
          "data": {
            "text/plain": [
              "[8, 4, 3, 1]"
            ]
          },
          "metadata": {},
          "execution_count": 112
        }
      ],
      "source": [
        "num_list"
      ]
    },
    {
      "cell_type": "markdown",
      "metadata": {
        "id": "AfUCfMESYdcu"
      },
      "source": [
        "# Dictionaries"
      ]
    },
    {
      "cell_type": "code",
      "execution_count": 113,
      "metadata": {
        "id": "xxJF3iQRYgwh"
      },
      "outputs": [],
      "source": [
        "my_dict = {\"key1\" : \"value1\", \"key2\" : \"value2\"}"
      ]
    },
    {
      "cell_type": "code",
      "execution_count": 114,
      "metadata": {
        "id": "I5-rhskfjYk2",
        "colab": {
          "base_uri": "https://localhost:8080/"
        },
        "outputId": "cf46a7c6-cdd9-4615-f2f7-6cc97a568ab4"
      },
      "outputs": [
        {
          "output_type": "execute_result",
          "data": {
            "text/plain": [
              "{'key1': 'value1', 'key2': 'value2'}"
            ]
          },
          "metadata": {},
          "execution_count": 114
        }
      ],
      "source": [
        "my_dict"
      ]
    },
    {
      "cell_type": "code",
      "execution_count": 115,
      "metadata": {
        "id": "4Gc4X0JMja4y",
        "colab": {
          "base_uri": "https://localhost:8080/",
          "height": 36
        },
        "outputId": "0a1f80a6-dc73-4a45-d129-8d31cdd7b7ad"
      },
      "outputs": [
        {
          "output_type": "execute_result",
          "data": {
            "text/plain": [
              "'value1'"
            ],
            "application/vnd.google.colaboratory.intrinsic+json": {
              "type": "string"
            }
          },
          "metadata": {},
          "execution_count": 115
        }
      ],
      "source": [
        "my_dict[\"key1\"]"
      ]
    },
    {
      "cell_type": "code",
      "execution_count": 116,
      "metadata": {
        "id": "LBNmQHILjhQm"
      },
      "outputs": [],
      "source": [
        "price_lookup = {\"apple\" : 2.99, \"oranges\" : 1.99, \"milk\" : 5.80}"
      ]
    },
    {
      "cell_type": "code",
      "execution_count": 117,
      "metadata": {
        "id": "GmKHgBhZkFTy",
        "colab": {
          "base_uri": "https://localhost:8080/"
        },
        "outputId": "2b695c92-32f7-4601-e383-1a6dcb2dd6f5"
      },
      "outputs": [
        {
          "output_type": "execute_result",
          "data": {
            "text/plain": [
              "2.99"
            ]
          },
          "metadata": {},
          "execution_count": 117
        }
      ],
      "source": [
        "price_lookup[\"apple\"]"
      ]
    },
    {
      "cell_type": "code",
      "execution_count": 118,
      "metadata": {
        "id": "Od9x_LwdkI6R"
      },
      "outputs": [],
      "source": [
        "d = {\"k1\":123, \"k2\":[1,2,3], \"k3\":{\"insideKey\":100}}"
      ]
    },
    {
      "cell_type": "code",
      "execution_count": 119,
      "metadata": {
        "id": "qsFlt9tQkpDB",
        "colab": {
          "base_uri": "https://localhost:8080/"
        },
        "outputId": "84d90073-733d-4df5-a0dc-3c6f8d0c93b0"
      },
      "outputs": [
        {
          "output_type": "execute_result",
          "data": {
            "text/plain": [
              "[1, 2, 3]"
            ]
          },
          "metadata": {},
          "execution_count": 119
        }
      ],
      "source": [
        "d[\"k2\"]"
      ]
    },
    {
      "cell_type": "code",
      "execution_count": 120,
      "metadata": {
        "id": "BqxHB9folP06",
        "colab": {
          "base_uri": "https://localhost:8080/"
        },
        "outputId": "9711303c-29f5-44b1-ee77-f675a1d7f352"
      },
      "outputs": [
        {
          "output_type": "execute_result",
          "data": {
            "text/plain": [
              "{'insideKey': 100}"
            ]
          },
          "metadata": {},
          "execution_count": 120
        }
      ],
      "source": [
        "d[\"k3\"]"
      ]
    },
    {
      "cell_type": "code",
      "execution_count": 121,
      "metadata": {
        "id": "1tFLUJkflRvD",
        "colab": {
          "base_uri": "https://localhost:8080/"
        },
        "outputId": "527b58e2-a5cf-4650-86e8-15843d9193d2"
      },
      "outputs": [
        {
          "output_type": "execute_result",
          "data": {
            "text/plain": [
              "100"
            ]
          },
          "metadata": {},
          "execution_count": 121
        }
      ],
      "source": [
        "d[\"k3\"][\"insideKey\"]"
      ]
    },
    {
      "cell_type": "code",
      "execution_count": 122,
      "metadata": {
        "id": "SvlU_x82lVwl",
        "colab": {
          "base_uri": "https://localhost:8080/"
        },
        "outputId": "9e580cf8-28ae-45d7-cf7a-beca9a386f3d"
      },
      "outputs": [
        {
          "output_type": "execute_result",
          "data": {
            "text/plain": [
              "3"
            ]
          },
          "metadata": {},
          "execution_count": 122
        }
      ],
      "source": [
        "d[\"k2\"][2]"
      ]
    },
    {
      "cell_type": "code",
      "execution_count": 123,
      "metadata": {
        "id": "yrEaSKD7ldrm"
      },
      "outputs": [],
      "source": [
        "d = {\"key1\" : [\"a\",\"b\",\"c\"]}"
      ]
    },
    {
      "cell_type": "code",
      "execution_count": 124,
      "metadata": {
        "id": "kxuP89vIlr2z",
        "colab": {
          "base_uri": "https://localhost:8080/"
        },
        "outputId": "e592f576-2af0-4945-a471-5ad9e0763fd6"
      },
      "outputs": [
        {
          "output_type": "execute_result",
          "data": {
            "text/plain": [
              "{'key1': ['a', 'b', 'c']}"
            ]
          },
          "metadata": {},
          "execution_count": 124
        }
      ],
      "source": [
        "d"
      ]
    },
    {
      "cell_type": "code",
      "execution_count": 125,
      "metadata": {
        "id": "I6Mw-qGDltXE"
      },
      "outputs": [],
      "source": [
        "mylist = d[\"key1\"]"
      ]
    },
    {
      "cell_type": "code",
      "execution_count": 126,
      "metadata": {
        "id": "o1jTgcaOlyb_",
        "colab": {
          "base_uri": "https://localhost:8080/"
        },
        "outputId": "e0b12927-f0d6-4f2e-cfd5-f374153645e9"
      },
      "outputs": [
        {
          "output_type": "execute_result",
          "data": {
            "text/plain": [
              "['a', 'b', 'c']"
            ]
          },
          "metadata": {},
          "execution_count": 126
        }
      ],
      "source": [
        "mylist"
      ]
    },
    {
      "cell_type": "code",
      "execution_count": 127,
      "metadata": {
        "id": "won1zODRlzSu"
      },
      "outputs": [],
      "source": [
        "letter = mylist[2]"
      ]
    },
    {
      "cell_type": "code",
      "execution_count": 128,
      "metadata": {
        "id": "1-eV2aJ-l58L",
        "colab": {
          "base_uri": "https://localhost:8080/",
          "height": 36
        },
        "outputId": "67aae516-2c87-44b5-c93d-ab6f178fed22"
      },
      "outputs": [
        {
          "output_type": "execute_result",
          "data": {
            "text/plain": [
              "'c'"
            ],
            "application/vnd.google.colaboratory.intrinsic+json": {
              "type": "string"
            }
          },
          "metadata": {},
          "execution_count": 128
        }
      ],
      "source": [
        "letter"
      ]
    },
    {
      "cell_type": "code",
      "execution_count": 129,
      "metadata": {
        "id": "uZyPJMdKl6sJ",
        "colab": {
          "base_uri": "https://localhost:8080/",
          "height": 36
        },
        "outputId": "74c5c582-b7b1-4a07-ec28-763dd8140e46"
      },
      "outputs": [
        {
          "output_type": "execute_result",
          "data": {
            "text/plain": [
              "'C'"
            ],
            "application/vnd.google.colaboratory.intrinsic+json": {
              "type": "string"
            }
          },
          "metadata": {},
          "execution_count": 129
        }
      ],
      "source": [
        "letter.upper()"
      ]
    },
    {
      "cell_type": "code",
      "execution_count": 130,
      "metadata": {
        "id": "iwbOPs9Sl9k-",
        "colab": {
          "base_uri": "https://localhost:8080/",
          "height": 36
        },
        "outputId": "dd94eebb-dd4c-43d8-c6b0-8d80e2037708"
      },
      "outputs": [
        {
          "output_type": "execute_result",
          "data": {
            "text/plain": [
              "'C'"
            ],
            "application/vnd.google.colaboratory.intrinsic+json": {
              "type": "string"
            }
          },
          "metadata": {},
          "execution_count": 130
        }
      ],
      "source": [
        "d[\"key1\"][2].upper()"
      ]
    },
    {
      "cell_type": "code",
      "execution_count": 131,
      "metadata": {
        "id": "kwPZV-EMmL-q"
      },
      "outputs": [],
      "source": [
        "d = {\"k1\":100, \"k2\":200}"
      ]
    },
    {
      "cell_type": "code",
      "execution_count": 132,
      "metadata": {
        "id": "vilBEdkSmcSZ",
        "colab": {
          "base_uri": "https://localhost:8080/"
        },
        "outputId": "b9ee2029-629c-49d3-e291-235df1f5fb77"
      },
      "outputs": [
        {
          "output_type": "execute_result",
          "data": {
            "text/plain": [
              "{'k1': 100, 'k2': 200}"
            ]
          },
          "metadata": {},
          "execution_count": 132
        }
      ],
      "source": [
        "d"
      ]
    },
    {
      "cell_type": "code",
      "execution_count": 133,
      "metadata": {
        "id": "MCW22kFymeeY"
      },
      "outputs": [],
      "source": [
        "d[\"k3\"] = 300"
      ]
    },
    {
      "cell_type": "code",
      "execution_count": 134,
      "metadata": {
        "id": "ZrMjjPQAmi_4",
        "colab": {
          "base_uri": "https://localhost:8080/"
        },
        "outputId": "c2f28e71-dc87-4153-f7ac-af6d1189127d"
      },
      "outputs": [
        {
          "output_type": "execute_result",
          "data": {
            "text/plain": [
              "{'k1': 100, 'k2': 200, 'k3': 300}"
            ]
          },
          "metadata": {},
          "execution_count": 134
        }
      ],
      "source": [
        "d"
      ]
    },
    {
      "cell_type": "code",
      "execution_count": 135,
      "metadata": {
        "id": "OgA9-77_mn1N"
      },
      "outputs": [],
      "source": [
        "d[\"k1\"] = \"NEW VALUE\""
      ]
    },
    {
      "cell_type": "code",
      "execution_count": 136,
      "metadata": {
        "id": "gVSyenR7nmZ8",
        "colab": {
          "base_uri": "https://localhost:8080/"
        },
        "outputId": "d9dce75d-0727-4c08-d550-bd842022be2f"
      },
      "outputs": [
        {
          "output_type": "execute_result",
          "data": {
            "text/plain": [
              "{'k1': 'NEW VALUE', 'k2': 200, 'k3': 300}"
            ]
          },
          "metadata": {},
          "execution_count": 136
        }
      ],
      "source": [
        "d"
      ]
    },
    {
      "cell_type": "code",
      "execution_count": 137,
      "metadata": {
        "id": "n_H_3zVynmvc"
      },
      "outputs": [],
      "source": [
        "d = {'k1': 100, 'k2': 200, 'k3': 300}"
      ]
    },
    {
      "cell_type": "code",
      "execution_count": 138,
      "metadata": {
        "id": "cHwgXT_P4ROt",
        "colab": {
          "base_uri": "https://localhost:8080/"
        },
        "outputId": "df3580df-01ca-4f7e-fb3c-b1404f07704d"
      },
      "outputs": [
        {
          "output_type": "execute_result",
          "data": {
            "text/plain": [
              "dict_keys(['k1', 'k2', 'k3'])"
            ]
          },
          "metadata": {},
          "execution_count": 138
        }
      ],
      "source": [
        "d.keys()"
      ]
    },
    {
      "cell_type": "code",
      "execution_count": 139,
      "metadata": {
        "id": "Rp4HtgLv4UWi",
        "colab": {
          "base_uri": "https://localhost:8080/"
        },
        "outputId": "4f33461c-0bb4-43a3-d819-66848c6fb51e"
      },
      "outputs": [
        {
          "output_type": "execute_result",
          "data": {
            "text/plain": [
              "dict_values([100, 200, 300])"
            ]
          },
          "metadata": {},
          "execution_count": 139
        }
      ],
      "source": [
        "d.values()"
      ]
    },
    {
      "cell_type": "code",
      "execution_count": 140,
      "metadata": {
        "id": "_zZPj1Lq4Xz6",
        "colab": {
          "base_uri": "https://localhost:8080/"
        },
        "outputId": "82070ff8-1e74-460e-bb05-f1d1be201c8f"
      },
      "outputs": [
        {
          "output_type": "execute_result",
          "data": {
            "text/plain": [
              "dict_items([('k1', 100), ('k2', 200), ('k3', 300)])"
            ]
          },
          "metadata": {},
          "execution_count": 140
        }
      ],
      "source": [
        "d.items()"
      ]
    },
    {
      "cell_type": "markdown",
      "metadata": {
        "id": "KMI1UBn-4w-q"
      },
      "source": [
        "# Tuples"
      ]
    },
    {
      "cell_type": "code",
      "execution_count": 141,
      "metadata": {
        "id": "l8_59TaE4zpB"
      },
      "outputs": [],
      "source": [
        "t = (1,2,3)"
      ]
    },
    {
      "cell_type": "code",
      "execution_count": 142,
      "metadata": {
        "id": "_QdtUYnI5Gfw"
      },
      "outputs": [],
      "source": [
        "mylist = [1,2,3]"
      ]
    },
    {
      "cell_type": "code",
      "execution_count": 143,
      "metadata": {
        "id": "-z7zqSPi5JaR",
        "colab": {
          "base_uri": "https://localhost:8080/"
        },
        "outputId": "a57e64ff-da95-4982-bbce-e0ed8d0c51cf"
      },
      "outputs": [
        {
          "output_type": "execute_result",
          "data": {
            "text/plain": [
              "tuple"
            ]
          },
          "metadata": {},
          "execution_count": 143
        }
      ],
      "source": [
        "type(t)"
      ]
    },
    {
      "cell_type": "code",
      "execution_count": 144,
      "metadata": {
        "id": "aNkemZ5h5LC6",
        "colab": {
          "base_uri": "https://localhost:8080/"
        },
        "outputId": "2e950bc5-132b-4502-8e42-71a6dccd3d99"
      },
      "outputs": [
        {
          "output_type": "execute_result",
          "data": {
            "text/plain": [
              "list"
            ]
          },
          "metadata": {},
          "execution_count": 144
        }
      ],
      "source": [
        "type(mylist)"
      ]
    },
    {
      "cell_type": "code",
      "execution_count": 145,
      "metadata": {
        "id": "F4lm5Hxy5NNZ",
        "colab": {
          "base_uri": "https://localhost:8080/"
        },
        "outputId": "02ee5324-3e8c-45ae-8095-f27b2e4e2f31"
      },
      "outputs": [
        {
          "output_type": "execute_result",
          "data": {
            "text/plain": [
              "3"
            ]
          },
          "metadata": {},
          "execution_count": 145
        }
      ],
      "source": [
        "len(t)"
      ]
    },
    {
      "cell_type": "code",
      "execution_count": 146,
      "metadata": {
        "id": "PtqDjT1B5VTW"
      },
      "outputs": [],
      "source": [
        "t = (\"one\", 2)"
      ]
    },
    {
      "cell_type": "code",
      "execution_count": 147,
      "metadata": {
        "id": "buGF4yFN5aL0",
        "colab": {
          "base_uri": "https://localhost:8080/",
          "height": 36
        },
        "outputId": "0d2d73e3-ada9-4b05-f2af-b1a1c9810275"
      },
      "outputs": [
        {
          "output_type": "execute_result",
          "data": {
            "text/plain": [
              "'one'"
            ],
            "application/vnd.google.colaboratory.intrinsic+json": {
              "type": "string"
            }
          },
          "metadata": {},
          "execution_count": 147
        }
      ],
      "source": [
        "t[0]"
      ]
    },
    {
      "cell_type": "code",
      "execution_count": 148,
      "metadata": {
        "id": "ZZYkIcV15guQ",
        "colab": {
          "base_uri": "https://localhost:8080/"
        },
        "outputId": "a1eefb01-c2be-4936-e82e-46ca7d32ecc0"
      },
      "outputs": [
        {
          "output_type": "execute_result",
          "data": {
            "text/plain": [
              "2"
            ]
          },
          "metadata": {},
          "execution_count": 148
        }
      ],
      "source": [
        "t[-1]"
      ]
    },
    {
      "cell_type": "code",
      "execution_count": 149,
      "metadata": {
        "id": "Fp7ZIBtT5iCf"
      },
      "outputs": [],
      "source": [
        "t = (\"a\", \"a\", \"b\")"
      ]
    },
    {
      "cell_type": "code",
      "execution_count": 150,
      "metadata": {
        "id": "y3m5q78i55kE",
        "colab": {
          "base_uri": "https://localhost:8080/"
        },
        "outputId": "e53892af-4317-475d-8fcc-a44e32d50e63"
      },
      "outputs": [
        {
          "output_type": "execute_result",
          "data": {
            "text/plain": [
              "2"
            ]
          },
          "metadata": {},
          "execution_count": 150
        }
      ],
      "source": [
        "t.count(\"a\")"
      ]
    },
    {
      "cell_type": "code",
      "execution_count": 151,
      "metadata": {
        "id": "EFSoTEDP57vf",
        "colab": {
          "base_uri": "https://localhost:8080/"
        },
        "outputId": "2d38290b-83ff-4789-ac1a-72fb7dd11c2f"
      },
      "outputs": [
        {
          "output_type": "execute_result",
          "data": {
            "text/plain": [
              "0"
            ]
          },
          "metadata": {},
          "execution_count": 151
        }
      ],
      "source": [
        "t.index(\"a\")"
      ]
    },
    {
      "cell_type": "code",
      "execution_count": 152,
      "metadata": {
        "id": "2-v0RhUA5_EY",
        "colab": {
          "base_uri": "https://localhost:8080/",
          "height": 165
        },
        "outputId": "3cddcd31-bf75-429a-ccc4-a2a9ff45c35d"
      },
      "outputs": [
        {
          "output_type": "error",
          "ename": "TypeError",
          "evalue": "ignored",
          "traceback": [
            "\u001b[0;31m---------------------------------------------------------------------------\u001b[0m",
            "\u001b[0;31mTypeError\u001b[0m                                 Traceback (most recent call last)",
            "\u001b[0;32m<ipython-input-152-f97ddc837ffd>\u001b[0m in \u001b[0;36m<module>\u001b[0;34m\u001b[0m\n\u001b[0;32m----> 1\u001b[0;31m \u001b[0mt\u001b[0m\u001b[0;34m[\u001b[0m\u001b[0;36m0\u001b[0m\u001b[0;34m]\u001b[0m \u001b[0;34m=\u001b[0m \u001b[0;34m\"NEW\"\u001b[0m\u001b[0;34m\u001b[0m\u001b[0;34m\u001b[0m\u001b[0m\n\u001b[0m",
            "\u001b[0;31mTypeError\u001b[0m: 'tuple' object does not support item assignment"
          ]
        }
      ],
      "source": [
        "t[0] = \"NEW\""
      ]
    },
    {
      "cell_type": "markdown",
      "metadata": {
        "id": "abs3HnIO68bQ"
      },
      "source": [
        "# Sets"
      ]
    },
    {
      "cell_type": "code",
      "execution_count": 153,
      "metadata": {
        "id": "00yqduIQ7ANS"
      },
      "outputs": [],
      "source": [
        "myset = set()"
      ]
    },
    {
      "cell_type": "code",
      "execution_count": 154,
      "metadata": {
        "id": "Zwuex_7C7cPK",
        "colab": {
          "base_uri": "https://localhost:8080/"
        },
        "outputId": "3da3121c-5305-41d4-8d84-7e694c7e7f16"
      },
      "outputs": [
        {
          "output_type": "execute_result",
          "data": {
            "text/plain": [
              "set()"
            ]
          },
          "metadata": {},
          "execution_count": 154
        }
      ],
      "source": [
        "myset"
      ]
    },
    {
      "cell_type": "code",
      "execution_count": 155,
      "metadata": {
        "id": "ZRg-3GNc7eRo"
      },
      "outputs": [],
      "source": [
        "myset.add(1)"
      ]
    },
    {
      "cell_type": "code",
      "execution_count": 156,
      "metadata": {
        "id": "H_2zURD07iRn",
        "colab": {
          "base_uri": "https://localhost:8080/"
        },
        "outputId": "1d791229-7fdb-444d-9cbb-26eefad08f07"
      },
      "outputs": [
        {
          "output_type": "execute_result",
          "data": {
            "text/plain": [
              "{1}"
            ]
          },
          "metadata": {},
          "execution_count": 156
        }
      ],
      "source": [
        "myset"
      ]
    },
    {
      "cell_type": "code",
      "execution_count": 157,
      "metadata": {
        "id": "ipstq4yC7lKk"
      },
      "outputs": [],
      "source": [
        "myset.add(2)"
      ]
    },
    {
      "cell_type": "code",
      "execution_count": 158,
      "metadata": {
        "id": "uvM-IA6B7w0q",
        "colab": {
          "base_uri": "https://localhost:8080/"
        },
        "outputId": "4bdff850-1a00-4fd4-804f-84c05d3e3355"
      },
      "outputs": [
        {
          "output_type": "execute_result",
          "data": {
            "text/plain": [
              "{1, 2}"
            ]
          },
          "metadata": {},
          "execution_count": 158
        }
      ],
      "source": [
        "myset"
      ]
    },
    {
      "cell_type": "code",
      "execution_count": 159,
      "metadata": {
        "id": "hJvyEXXQ7zow"
      },
      "outputs": [],
      "source": [
        "myset.add(2)"
      ]
    },
    {
      "cell_type": "code",
      "execution_count": 160,
      "metadata": {
        "id": "JdIAZAis71pT",
        "colab": {
          "base_uri": "https://localhost:8080/"
        },
        "outputId": "bd3a1015-6b33-4fca-f052-c833978f8236"
      },
      "outputs": [
        {
          "output_type": "execute_result",
          "data": {
            "text/plain": [
              "{1, 2}"
            ]
          },
          "metadata": {},
          "execution_count": 160
        }
      ],
      "source": [
        "myset"
      ]
    },
    {
      "cell_type": "code",
      "execution_count": 161,
      "metadata": {
        "id": "VE88F6he73A8"
      },
      "outputs": [],
      "source": [
        "mylist = [1,1,1,1,2,2,2,3,3,3]"
      ]
    },
    {
      "cell_type": "code",
      "execution_count": 162,
      "metadata": {
        "id": "y6YsEOSO8JXg",
        "colab": {
          "base_uri": "https://localhost:8080/"
        },
        "outputId": "e9fd541e-11bb-414c-ccb6-6f5f9270442b"
      },
      "outputs": [
        {
          "output_type": "execute_result",
          "data": {
            "text/plain": [
              "{1, 2, 3}"
            ]
          },
          "metadata": {},
          "execution_count": 162
        }
      ],
      "source": [
        "set(mylist)"
      ]
    },
    {
      "cell_type": "markdown",
      "metadata": {
        "id": "7Ko9GixV8cxb"
      },
      "source": [
        "# Booleans"
      ]
    },
    {
      "cell_type": "code",
      "execution_count": 163,
      "metadata": {
        "id": "mMxsaHae8gaF",
        "colab": {
          "base_uri": "https://localhost:8080/"
        },
        "outputId": "f999a337-2fd3-4027-a7d7-0cffc3d9ae9f"
      },
      "outputs": [
        {
          "output_type": "execute_result",
          "data": {
            "text/plain": [
              "True"
            ]
          },
          "metadata": {},
          "execution_count": 163
        }
      ],
      "source": [
        "True"
      ]
    },
    {
      "cell_type": "code",
      "execution_count": 164,
      "metadata": {
        "id": "c9-3WktP-TX9",
        "colab": {
          "base_uri": "https://localhost:8080/"
        },
        "outputId": "63cb6266-ca96-4245-a7f7-ef9e4f2eb24f"
      },
      "outputs": [
        {
          "output_type": "execute_result",
          "data": {
            "text/plain": [
              "False"
            ]
          },
          "metadata": {},
          "execution_count": 164
        }
      ],
      "source": [
        "False"
      ]
    },
    {
      "cell_type": "code",
      "execution_count": 165,
      "metadata": {
        "id": "NUhkdUSM-UVi",
        "colab": {
          "base_uri": "https://localhost:8080/"
        },
        "outputId": "61ca0bc3-d9ed-4eba-ef38-3fbc88361a52"
      },
      "outputs": [
        {
          "output_type": "execute_result",
          "data": {
            "text/plain": [
              "bool"
            ]
          },
          "metadata": {},
          "execution_count": 165
        }
      ],
      "source": [
        "type(False)"
      ]
    },
    {
      "cell_type": "code",
      "execution_count": 166,
      "metadata": {
        "id": "rNm2drxy-Wgw",
        "colab": {
          "base_uri": "https://localhost:8080/"
        },
        "outputId": "f17534c8-b221-43df-95ce-8ecb71d23a6f"
      },
      "outputs": [
        {
          "output_type": "execute_result",
          "data": {
            "text/plain": [
              "False"
            ]
          },
          "metadata": {},
          "execution_count": 166
        }
      ],
      "source": [
        "1 > 2"
      ]
    },
    {
      "cell_type": "code",
      "execution_count": 167,
      "metadata": {
        "id": "bU6FdZPY-qK-",
        "colab": {
          "base_uri": "https://localhost:8080/"
        },
        "outputId": "9f7b7755-25a3-4cad-a3d2-b4f93dcc9d3f"
      },
      "outputs": [
        {
          "output_type": "execute_result",
          "data": {
            "text/plain": [
              "True"
            ]
          },
          "metadata": {},
          "execution_count": 167
        }
      ],
      "source": [
        "1 == 1"
      ]
    },
    {
      "cell_type": "code",
      "execution_count": 168,
      "metadata": {
        "id": "pYUOzEJx-rr-"
      },
      "outputs": [],
      "source": [
        "b = None"
      ]
    },
    {
      "cell_type": "code",
      "execution_count": 169,
      "metadata": {
        "id": "QaAZ517e-4ek"
      },
      "outputs": [],
      "source": [
        "b"
      ]
    },
    {
      "cell_type": "markdown",
      "metadata": {
        "id": "phNCMGsMNVO9"
      },
      "source": [
        "# Files"
      ]
    },
    {
      "cell_type": "code",
      "execution_count": 170,
      "metadata": {
        "id": "AJSH4pMzPap1"
      },
      "outputs": [],
      "source": [
        "#working Directory"
      ]
    },
    {
      "cell_type": "code",
      "execution_count": 171,
      "metadata": {
        "id": "e2En9zvkNXj3",
        "colab": {
          "base_uri": "https://localhost:8080/",
          "height": 36
        },
        "outputId": "7c91080d-bfbb-45dc-fe45-92a8eb282df4"
      },
      "outputs": [
        {
          "output_type": "execute_result",
          "data": {
            "text/plain": [
              "'/content'"
            ],
            "application/vnd.google.colaboratory.intrinsic+json": {
              "type": "string"
            }
          },
          "metadata": {},
          "execution_count": 171
        }
      ],
      "source": [
        "pwd"
      ]
    },
    {
      "cell_type": "code",
      "execution_count": 172,
      "metadata": {
        "id": "OG8xMWqVPD29",
        "colab": {
          "base_uri": "https://localhost:8080/"
        },
        "outputId": "931a0d8a-b8f4-483a-e9a6-81ec556fe867"
      },
      "outputs": [
        {
          "output_type": "stream",
          "name": "stdout",
          "text": [
            "Overwriting myfile.txt\n"
          ]
        }
      ],
      "source": [
        "%%writefile myfile.txt\n",
        "Hello this is a text file.\n",
        "This is the First line.\n",
        "This is the Secind Line."
      ]
    },
    {
      "cell_type": "code",
      "execution_count": 173,
      "metadata": {
        "id": "sEuYlpigPr5Y"
      },
      "outputs": [],
      "source": [
        "myfile = open(\"myfile.txt\")"
      ]
    },
    {
      "cell_type": "code",
      "execution_count": 174,
      "metadata": {
        "id": "s1JMQ9EMPwDW",
        "colab": {
          "base_uri": "https://localhost:8080/",
          "height": 165
        },
        "outputId": "8a8c2a68-e6c1-46a8-df0b-37e7a499fc5a"
      },
      "outputs": [
        {
          "output_type": "error",
          "ename": "FileNotFoundError",
          "evalue": "ignored",
          "traceback": [
            "\u001b[0;31m---------------------------------------------------------------------------\u001b[0m",
            "\u001b[0;31mFileNotFoundError\u001b[0m                         Traceback (most recent call last)",
            "\u001b[0;32m<ipython-input-174-b70c9c1be0ff>\u001b[0m in \u001b[0;36m<module>\u001b[0;34m\u001b[0m\n\u001b[0;32m----> 1\u001b[0;31m \u001b[0mmyfile\u001b[0m \u001b[0;34m=\u001b[0m \u001b[0mopen\u001b[0m\u001b[0;34m(\u001b[0m\u001b[0;34m\"opps.txt\"\u001b[0m\u001b[0;34m)\u001b[0m\u001b[0;34m\u001b[0m\u001b[0;34m\u001b[0m\u001b[0m\n\u001b[0m",
            "\u001b[0;31mFileNotFoundError\u001b[0m: [Errno 2] No such file or directory: 'opps.txt'"
          ]
        }
      ],
      "source": [
        "myfile = open(\"opps.txt\")"
      ]
    },
    {
      "cell_type": "code",
      "execution_count": 175,
      "metadata": {
        "id": "EM4P5DkcQEcC",
        "colab": {
          "base_uri": "https://localhost:8080/",
          "height": 36
        },
        "outputId": "493850e4-83b5-47a5-dbb6-56a0b8159d8f"
      },
      "outputs": [
        {
          "output_type": "execute_result",
          "data": {
            "text/plain": [
              "'/content'"
            ],
            "application/vnd.google.colaboratory.intrinsic+json": {
              "type": "string"
            }
          },
          "metadata": {},
          "execution_count": 175
        }
      ],
      "source": [
        "pwd"
      ]
    },
    {
      "cell_type": "code",
      "execution_count": 176,
      "metadata": {
        "id": "V3a80um7QY0x",
        "colab": {
          "base_uri": "https://localhost:8080/",
          "height": 36
        },
        "outputId": "17281ee3-ed6a-441f-adbb-a10dcb208fec"
      },
      "outputs": [
        {
          "output_type": "execute_result",
          "data": {
            "text/plain": [
              "'Hello this is a text file.\\nThis is the First line.\\nThis is the Secind Line.\\n'"
            ],
            "application/vnd.google.colaboratory.intrinsic+json": {
              "type": "string"
            }
          },
          "metadata": {},
          "execution_count": 176
        }
      ],
      "source": [
        "myfile.read()"
      ]
    },
    {
      "cell_type": "code",
      "execution_count": 177,
      "metadata": {
        "id": "UIAXlsXUQ4YY",
        "colab": {
          "base_uri": "https://localhost:8080/",
          "height": 36
        },
        "outputId": "c14e6ad2-7497-463a-ff45-e09554872286"
      },
      "outputs": [
        {
          "output_type": "execute_result",
          "data": {
            "text/plain": [
              "''"
            ],
            "application/vnd.google.colaboratory.intrinsic+json": {
              "type": "string"
            }
          },
          "metadata": {},
          "execution_count": 177
        }
      ],
      "source": [
        "myfile.read()"
      ]
    },
    {
      "cell_type": "code",
      "execution_count": 178,
      "metadata": {
        "id": "jOnDpSvURLYb",
        "colab": {
          "base_uri": "https://localhost:8080/"
        },
        "outputId": "e076ed22-1ae2-46c3-d200-e082655901cf"
      },
      "outputs": [
        {
          "output_type": "execute_result",
          "data": {
            "text/plain": [
              "0"
            ]
          },
          "metadata": {},
          "execution_count": 178
        }
      ],
      "source": [
        "myfile.seek(0) #reset cursor"
      ]
    },
    {
      "cell_type": "code",
      "execution_count": 179,
      "metadata": {
        "id": "umqnNo1aROn7",
        "colab": {
          "base_uri": "https://localhost:8080/",
          "height": 36
        },
        "outputId": "2446809a-8766-43cc-8199-8617555cf0eb"
      },
      "outputs": [
        {
          "output_type": "execute_result",
          "data": {
            "text/plain": [
              "'Hello this is a text file.\\nThis is the First line.\\nThis is the Secind Line.\\n'"
            ],
            "application/vnd.google.colaboratory.intrinsic+json": {
              "type": "string"
            }
          },
          "metadata": {},
          "execution_count": 179
        }
      ],
      "source": [
        "myfile.read()"
      ]
    },
    {
      "cell_type": "code",
      "execution_count": 180,
      "metadata": {
        "id": "Ddp_Y7s2RQdY",
        "colab": {
          "base_uri": "https://localhost:8080/"
        },
        "outputId": "d9461095-dbc9-48ac-9471-2c7cfab22181"
      },
      "outputs": [
        {
          "output_type": "execute_result",
          "data": {
            "text/plain": [
              "0"
            ]
          },
          "metadata": {},
          "execution_count": 180
        }
      ],
      "source": [
        "myfile.seek(0)"
      ]
    },
    {
      "cell_type": "code",
      "execution_count": 181,
      "metadata": {
        "id": "53XMWWGUReO8",
        "colab": {
          "base_uri": "https://localhost:8080/"
        },
        "outputId": "3cbb2335-1ef2-4760-8416-e186dcf2384f"
      },
      "outputs": [
        {
          "output_type": "execute_result",
          "data": {
            "text/plain": [
              "['Hello this is a text file.\\n',\n",
              " 'This is the First line.\\n',\n",
              " 'This is the Secind Line.\\n']"
            ]
          },
          "metadata": {},
          "execution_count": 181
        }
      ],
      "source": [
        "myfile.readlines()"
      ]
    },
    {
      "cell_type": "code",
      "execution_count": 182,
      "metadata": {
        "id": "t28zzh4rRix1"
      },
      "outputs": [],
      "source": [
        "myfile.close()"
      ]
    },
    {
      "cell_type": "code",
      "execution_count": 183,
      "metadata": {
        "id": "Z0aKJIGjSPh0"
      },
      "outputs": [],
      "source": [
        "with open(\"myfile.txt\") as my_new_file:\n",
        "  contents = my_new_file.read()"
      ]
    },
    {
      "cell_type": "code",
      "execution_count": 184,
      "metadata": {
        "id": "PG70EPMPSxwk",
        "colab": {
          "base_uri": "https://localhost:8080/",
          "height": 36
        },
        "outputId": "47ac5b09-8939-422a-e045-760bf93abe0a"
      },
      "outputs": [
        {
          "output_type": "execute_result",
          "data": {
            "text/plain": [
              "'Hello this is a text file.\\nThis is the First line.\\nThis is the Secind Line.\\n'"
            ],
            "application/vnd.google.colaboratory.intrinsic+json": {
              "type": "string"
            }
          },
          "metadata": {},
          "execution_count": 184
        }
      ],
      "source": [
        "contents"
      ]
    },
    {
      "cell_type": "code",
      "execution_count": 185,
      "metadata": {
        "id": "BuLuGpcsSzzV"
      },
      "outputs": [],
      "source": [
        "with open(\"myfile.txt\", mode=\"r\") as myfile:\n",
        "  contents = myfile.read()"
      ]
    },
    {
      "cell_type": "code",
      "execution_count": 186,
      "metadata": {
        "id": "NYdeBqZXTtJb",
        "colab": {
          "base_uri": "https://localhost:8080/",
          "height": 36
        },
        "outputId": "7340431c-b4cb-423d-a51e-9b081381ddf6"
      },
      "outputs": [
        {
          "output_type": "execute_result",
          "data": {
            "text/plain": [
              "'Hello this is a text file.\\nThis is the First line.\\nThis is the Secind Line.\\n'"
            ],
            "application/vnd.google.colaboratory.intrinsic+json": {
              "type": "string"
            }
          },
          "metadata": {},
          "execution_count": 186
        }
      ],
      "source": [
        "contents"
      ]
    },
    {
      "cell_type": "code",
      "execution_count": 187,
      "metadata": {
        "id": "RGMZNqLhTugl",
        "colab": {
          "base_uri": "https://localhost:8080/",
          "height": 182
        },
        "outputId": "9d6164b2-54af-4e66-dcad-8217ce5f4da7"
      },
      "outputs": [
        {
          "output_type": "error",
          "ename": "UnsupportedOperation",
          "evalue": "ignored",
          "traceback": [
            "\u001b[0;31m---------------------------------------------------------------------------\u001b[0m",
            "\u001b[0;31mUnsupportedOperation\u001b[0m                      Traceback (most recent call last)",
            "\u001b[0;32m<ipython-input-187-7646b6263723>\u001b[0m in \u001b[0;36m<module>\u001b[0;34m\u001b[0m\n\u001b[1;32m      1\u001b[0m \u001b[0;32mwith\u001b[0m \u001b[0mopen\u001b[0m\u001b[0;34m(\u001b[0m\u001b[0;34m\"myfile.txt\"\u001b[0m\u001b[0;34m,\u001b[0m \u001b[0mmode\u001b[0m\u001b[0;34m=\u001b[0m\u001b[0;34m\"w\"\u001b[0m\u001b[0;34m)\u001b[0m \u001b[0;32mas\u001b[0m \u001b[0mmyfile\u001b[0m\u001b[0;34m:\u001b[0m\u001b[0;34m\u001b[0m\u001b[0;34m\u001b[0m\u001b[0m\n\u001b[0;32m----> 2\u001b[0;31m   \u001b[0mcontents\u001b[0m \u001b[0;34m=\u001b[0m \u001b[0mmyfile\u001b[0m\u001b[0;34m.\u001b[0m\u001b[0mread\u001b[0m\u001b[0;34m(\u001b[0m\u001b[0;34m)\u001b[0m\u001b[0;34m\u001b[0m\u001b[0;34m\u001b[0m\u001b[0m\n\u001b[0m",
            "\u001b[0;31mUnsupportedOperation\u001b[0m: not readable"
          ]
        }
      ],
      "source": [
        "with open(\"myfile.txt\", mode=\"w\") as myfile:\n",
        "  contents = myfile.read()"
      ]
    },
    {
      "cell_type": "code",
      "execution_count": null,
      "metadata": {
        "id": "D751E-PtTwH7"
      },
      "outputs": [],
      "source": [
        "%%writefile my_new_file.txt\n",
        "ONE ON First\n",
        "TWO ON SECOND\n",
        "THREE ON THIRD"
      ]
    },
    {
      "cell_type": "code",
      "execution_count": 188,
      "metadata": {
        "id": "BxxF04PQUZ8I",
        "colab": {
          "base_uri": "https://localhost:8080/"
        },
        "outputId": "00e7ade7-8b49-42de-ec88-68e6d088757c"
      },
      "outputs": [
        {
          "output_type": "stream",
          "name": "stdout",
          "text": [
            "ONE ON First\n",
            "TWO ON SECOND\n",
            "THREE ON THIRD\n",
            "\n",
            " FOUR ON FOURTH\n"
          ]
        }
      ],
      "source": [
        "with open(\"my_new_file.txt\", mode=\"r\") as f:\n",
        "  print(f.read())"
      ]
    },
    {
      "cell_type": "code",
      "execution_count": 189,
      "metadata": {
        "id": "8z3ljoCAtd4K"
      },
      "outputs": [],
      "source": [
        "with open(\"my_new_file.txt\", mode=\"a\") as f:\n",
        "  f.write(\"\\n FOUR ON FOURTH\")"
      ]
    },
    {
      "cell_type": "code",
      "execution_count": 190,
      "metadata": {
        "id": "Pk-WpiL1t90l",
        "colab": {
          "base_uri": "https://localhost:8080/"
        },
        "outputId": "3aa6107c-12c3-484e-bd43-9ba19c092c03"
      },
      "outputs": [
        {
          "output_type": "stream",
          "name": "stdout",
          "text": [
            "ONE ON First\n",
            "TWO ON SECOND\n",
            "THREE ON THIRD\n",
            "\n",
            " FOUR ON FOURTH\n",
            " FOUR ON FOURTH\n"
          ]
        }
      ],
      "source": [
        "with open(\"my_new_file.txt\", mode=\"r\") as f:\n",
        "  print(f.read())"
      ]
    },
    {
      "cell_type": "code",
      "execution_count": 191,
      "metadata": {
        "id": "XPHcNUJuuTKN"
      },
      "outputs": [],
      "source": [
        "with open(\"abcdefghijk.txt\", mode=\"w\") as f:\n",
        "  f.write(\"I CREATED THIS FILE!\")"
      ]
    },
    {
      "cell_type": "code",
      "execution_count": 192,
      "metadata": {
        "id": "454sz0kLutET",
        "colab": {
          "base_uri": "https://localhost:8080/"
        },
        "outputId": "36caf09f-2957-4668-d187-75a564d4bd1c"
      },
      "outputs": [
        {
          "output_type": "stream",
          "name": "stdout",
          "text": [
            "I CREATED THIS FILE!\n"
          ]
        }
      ],
      "source": [
        "with open(\"abcdefghijk.txt\", mode=\"r\") as f:\n",
        "  print(f.read())"
      ]
    },
    {
      "cell_type": "code",
      "execution_count": 193,
      "metadata": {
        "id": "CnYtMJIC2Dqt"
      },
      "outputs": [],
      "source": [
        "#End Of Code"
      ]
    }
  ],
  "metadata": {
    "colab": {
      "collapsed_sections": [],
      "name": "3. Python Object and Data Structure Basics.ipynb",
      "provenance": [],
      "authorship_tag": "ABX9TyPWTmon71dw8b3cYPDP+rIq"
    },
    "kernelspec": {
      "display_name": "Python 3",
      "name": "python3"
    },
    "language_info": {
      "name": "python"
    }
  },
  "nbformat": 4,
  "nbformat_minor": 0
}
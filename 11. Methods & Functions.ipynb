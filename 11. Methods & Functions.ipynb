{
  "nbformat": 4,
  "nbformat_minor": 0,
  "metadata": {
    "colab": {
      "name": "11. Methods & Functions.ipynb",
      "provenance": [],
      "authorship_tag": "ABX9TyPymVStSy3QiQ4ELp7gvaKa"
    },
    "kernelspec": {
      "name": "python3",
      "display_name": "Python 3"
    },
    "language_info": {
      "name": "python"
    }
  },
  "cells": [
    {
      "cell_type": "markdown",
      "source": [
        "# **Methods**"
      ],
      "metadata": {
        "id": "SoyNV_tegp_w"
      }
    },
    {
      "cell_type": "code",
      "execution_count": 1,
      "metadata": {
        "id": "u_J0fWl-gof4"
      },
      "outputs": [],
      "source": [
        "mylist = [1,2,3]"
      ]
    },
    {
      "cell_type": "code",
      "source": [
        "mylist.append(4)"
      ],
      "metadata": {
        "id": "VgobxswNg_AW"
      },
      "execution_count": 2,
      "outputs": []
    },
    {
      "cell_type": "code",
      "source": [
        "mylist"
      ],
      "metadata": {
        "colab": {
          "base_uri": "https://localhost:8080/"
        },
        "id": "QXyBmYgWhCUJ",
        "outputId": "87d3fa52-9a38-4bb1-d4e7-0dcb5e126ddb"
      },
      "execution_count": 3,
      "outputs": [
        {
          "output_type": "execute_result",
          "data": {
            "text/plain": [
              "[1, 2, 3, 4]"
            ]
          },
          "metadata": {},
          "execution_count": 3
        }
      ]
    },
    {
      "cell_type": "code",
      "source": [
        "mylist.pop()"
      ],
      "metadata": {
        "colab": {
          "base_uri": "https://localhost:8080/"
        },
        "id": "XdAK5YIlhDON",
        "outputId": "40f3717e-200b-4af5-abd0-56ac03143bfd"
      },
      "execution_count": 4,
      "outputs": [
        {
          "output_type": "execute_result",
          "data": {
            "text/plain": [
              "4"
            ]
          },
          "metadata": {},
          "execution_count": 4
        }
      ]
    },
    {
      "cell_type": "code",
      "source": [
        "mylist"
      ],
      "metadata": {
        "colab": {
          "base_uri": "https://localhost:8080/"
        },
        "id": "dmcLU7VAhNz5",
        "outputId": "05e1b0f7-a977-4462-ab80-888955a46747"
      },
      "execution_count": 5,
      "outputs": [
        {
          "output_type": "execute_result",
          "data": {
            "text/plain": [
              "[1, 2, 3]"
            ]
          },
          "metadata": {},
          "execution_count": 5
        }
      ]
    },
    {
      "cell_type": "code",
      "source": [
        "help(mylist.insert)"
      ],
      "metadata": {
        "colab": {
          "base_uri": "https://localhost:8080/"
        },
        "id": "j3Fe6hOyhP_o",
        "outputId": "13c2201a-0ec5-4354-a0cd-de4b09a7de8a"
      },
      "execution_count": 6,
      "outputs": [
        {
          "output_type": "stream",
          "name": "stdout",
          "text": [
            "Help on built-in function insert:\n",
            "\n",
            "insert(index, object, /) method of builtins.list instance\n",
            "    Insert object before index.\n",
            "\n"
          ]
        }
      ]
    },
    {
      "cell_type": "markdown",
      "source": [
        "# **Functions**"
      ],
      "metadata": {
        "id": "0jl5FqP-Axpz"
      }
    },
    {
      "cell_type": "markdown",
      "source": [
        "## def keyword"
      ],
      "metadata": {
        "id": "_28tRV4jBu51"
      }
    },
    {
      "cell_type": "code",
      "source": [
        "def say_hello():\n",
        "  print(\"Hello !\")\n",
        "  print(\"How\")\n",
        "  print(\"are\")\n",
        "  print(\"you ?\")"
      ],
      "metadata": {
        "id": "-OWNKFMThlzS"
      },
      "execution_count": 7,
      "outputs": []
    },
    {
      "cell_type": "code",
      "source": [
        "say_hello()"
      ],
      "metadata": {
        "colab": {
          "base_uri": "https://localhost:8080/"
        },
        "id": "BYW9C0MUHD8M",
        "outputId": "1a302a83-3614-4765-a192-7f49f38b25f0"
      },
      "execution_count": 8,
      "outputs": [
        {
          "output_type": "stream",
          "name": "stdout",
          "text": [
            "Hello !\n",
            "How\n",
            "are\n",
            "you ?\n"
          ]
        }
      ]
    },
    {
      "cell_type": "code",
      "source": [
        "say_hello"
      ],
      "metadata": {
        "colab": {
          "base_uri": "https://localhost:8080/"
        },
        "id": "6PA9Bx95HFbz",
        "outputId": "e05fdb5f-3979-4040-9ba0-a9ad261325f5"
      },
      "execution_count": 9,
      "outputs": [
        {
          "output_type": "execute_result",
          "data": {
            "text/plain": [
              "<function __main__.say_hello()>"
            ]
          },
          "metadata": {},
          "execution_count": 9
        }
      ]
    },
    {
      "cell_type": "code",
      "source": [
        "def say_hello(name):\n",
        "  print(f\"Hello{name}\")"
      ],
      "metadata": {
        "id": "vvqjpj7sHLN5"
      },
      "execution_count": 10,
      "outputs": []
    },
    {
      "cell_type": "code",
      "source": [
        "say_hello()"
      ],
      "metadata": {
        "colab": {
          "base_uri": "https://localhost:8080/",
          "height": 165
        },
        "id": "FTxrEDViLe3-",
        "outputId": "681cf880-06e5-4606-87bb-7a717dbd13f1"
      },
      "execution_count": 11,
      "outputs": [
        {
          "output_type": "error",
          "ename": "TypeError",
          "evalue": "ignored",
          "traceback": [
            "\u001b[0;31m---------------------------------------------------------------------------\u001b[0m",
            "\u001b[0;31mTypeError\u001b[0m                                 Traceback (most recent call last)",
            "\u001b[0;32m<ipython-input-11-faa5fc24272a>\u001b[0m in \u001b[0;36m<module>\u001b[0;34m\u001b[0m\n\u001b[0;32m----> 1\u001b[0;31m \u001b[0msay_hello\u001b[0m\u001b[0;34m(\u001b[0m\u001b[0;34m)\u001b[0m\u001b[0;34m\u001b[0m\u001b[0;34m\u001b[0m\u001b[0m\n\u001b[0m",
            "\u001b[0;31mTypeError\u001b[0m: say_hello() missing 1 required positional argument: 'name'"
          ]
        }
      ]
    },
    {
      "cell_type": "code",
      "source": [
        "say_hello(\"Vijay\")"
      ],
      "metadata": {
        "colab": {
          "base_uri": "https://localhost:8080/"
        },
        "id": "ofUsPnPyLioT",
        "outputId": "5243a472-1170-42ba-c779-517dafc3a32e"
      },
      "execution_count": 12,
      "outputs": [
        {
          "output_type": "stream",
          "name": "stdout",
          "text": [
            "HelloVijay\n"
          ]
        }
      ]
    },
    {
      "cell_type": "code",
      "source": [
        "def say_hello(name=\"Default\"):\n",
        "  print(f\"Hello {name}\")"
      ],
      "metadata": {
        "id": "a_lb2rTrMtvm"
      },
      "execution_count": 13,
      "outputs": []
    },
    {
      "cell_type": "code",
      "source": [
        "say_hello()"
      ],
      "metadata": {
        "colab": {
          "base_uri": "https://localhost:8080/"
        },
        "id": "yHKvPLMKNN_3",
        "outputId": "ffbfb14a-d435-44e9-c1bc-aa351a153748"
      },
      "execution_count": 14,
      "outputs": [
        {
          "output_type": "stream",
          "name": "stdout",
          "text": [
            "Hello Default\n"
          ]
        }
      ]
    },
    {
      "cell_type": "code",
      "source": [
        "def add_num(num1, num2):\n",
        "  return num1 + num2"
      ],
      "metadata": {
        "id": "xLfIsxlCNQyv"
      },
      "execution_count": 15,
      "outputs": []
    },
    {
      "cell_type": "code",
      "source": [
        "add_num(10, 20)"
      ],
      "metadata": {
        "colab": {
          "base_uri": "https://localhost:8080/"
        },
        "id": "KgYkjOJ1PndP",
        "outputId": "03ec469b-b47b-438d-9030-63af85c5cac0"
      },
      "execution_count": 16,
      "outputs": [
        {
          "output_type": "execute_result",
          "data": {
            "text/plain": [
              "30"
            ]
          },
          "metadata": {},
          "execution_count": 16
        }
      ]
    },
    {
      "cell_type": "code",
      "source": [
        "result = add_num(10, 12)"
      ],
      "metadata": {
        "id": "3dsq3rwRPrnB"
      },
      "execution_count": 17,
      "outputs": []
    },
    {
      "cell_type": "code",
      "source": [
        "result"
      ],
      "metadata": {
        "colab": {
          "base_uri": "https://localhost:8080/"
        },
        "id": "K18jatEQPwzL",
        "outputId": "574d25cc-90a6-4bbc-d535-aab2f44c3e5e"
      },
      "execution_count": 18,
      "outputs": [
        {
          "output_type": "execute_result",
          "data": {
            "text/plain": [
              "22"
            ]
          },
          "metadata": {},
          "execution_count": 18
        }
      ]
    },
    {
      "cell_type": "code",
      "source": [
        "def print_result(a,b):\n",
        "  print(a+b)"
      ],
      "metadata": {
        "id": "ZHHcoxp8P1bZ"
      },
      "execution_count": 19,
      "outputs": []
    },
    {
      "cell_type": "code",
      "source": [
        "def return_result(a,b):\n",
        "  return a+b"
      ],
      "metadata": {
        "id": "K2XavgD4WjgD"
      },
      "execution_count": 20,
      "outputs": []
    },
    {
      "cell_type": "code",
      "source": [
        "print_result(10,20)"
      ],
      "metadata": {
        "colab": {
          "base_uri": "https://localhost:8080/"
        },
        "id": "c_5SXw_wWp54",
        "outputId": "87b79143-a08b-4b44-b3d8-ec2d6380fb38"
      },
      "execution_count": 21,
      "outputs": [
        {
          "output_type": "stream",
          "name": "stdout",
          "text": [
            "30\n"
          ]
        }
      ]
    },
    {
      "cell_type": "code",
      "source": [
        "result = print_result(10,20)"
      ],
      "metadata": {
        "colab": {
          "base_uri": "https://localhost:8080/"
        },
        "id": "QO8Sg867WwER",
        "outputId": "5ce168de-6fba-4d4d-f5e6-3d8da2b39931"
      },
      "execution_count": 22,
      "outputs": [
        {
          "output_type": "stream",
          "name": "stdout",
          "text": [
            "30\n"
          ]
        }
      ]
    },
    {
      "cell_type": "code",
      "source": [
        "result"
      ],
      "metadata": {
        "id": "VZIEzADlW0UV"
      },
      "execution_count": 23,
      "outputs": []
    },
    {
      "cell_type": "code",
      "source": [
        "type(result)"
      ],
      "metadata": {
        "colab": {
          "base_uri": "https://localhost:8080/"
        },
        "id": "3bz97SJ7W1d8",
        "outputId": "14f74017-ff6b-4233-d8ff-4ce78245eb9b"
      },
      "execution_count": 24,
      "outputs": [
        {
          "output_type": "execute_result",
          "data": {
            "text/plain": [
              "NoneType"
            ]
          },
          "metadata": {},
          "execution_count": 24
        }
      ]
    },
    {
      "cell_type": "code",
      "source": [
        "return_result(10,20)"
      ],
      "metadata": {
        "colab": {
          "base_uri": "https://localhost:8080/"
        },
        "id": "HFKkI5DPW3MX",
        "outputId": "910befc4-edd1-423f-e4b8-c6271b96f383"
      },
      "execution_count": 25,
      "outputs": [
        {
          "output_type": "execute_result",
          "data": {
            "text/plain": [
              "30"
            ]
          },
          "metadata": {},
          "execution_count": 25
        }
      ]
    },
    {
      "cell_type": "code",
      "source": [
        "result = return_result(10,20)"
      ],
      "metadata": {
        "id": "Iywa_A7KXG-D"
      },
      "execution_count": 26,
      "outputs": []
    },
    {
      "cell_type": "code",
      "source": [
        "result"
      ],
      "metadata": {
        "colab": {
          "base_uri": "https://localhost:8080/"
        },
        "id": "WdtKJG23XMgU",
        "outputId": "bdef3cfb-9da9-463a-f201-8c338ea794d6"
      },
      "execution_count": 27,
      "outputs": [
        {
          "output_type": "execute_result",
          "data": {
            "text/plain": [
              "30"
            ]
          },
          "metadata": {},
          "execution_count": 27
        }
      ]
    },
    {
      "cell_type": "code",
      "source": [
        "type(result)"
      ],
      "metadata": {
        "colab": {
          "base_uri": "https://localhost:8080/"
        },
        "id": "lA5I2JStXOMx",
        "outputId": "e80b7ac8-d41c-4ca9-bf33-d39bb1b1226b"
      },
      "execution_count": 28,
      "outputs": [
        {
          "output_type": "execute_result",
          "data": {
            "text/plain": [
              "int"
            ]
          },
          "metadata": {},
          "execution_count": 28
        }
      ]
    },
    {
      "cell_type": "code",
      "source": [
        "def my_func(a,b):\n",
        "  print(a+b)\n",
        "  return a+b"
      ],
      "metadata": {
        "id": "6qtZNqnmXPo6"
      },
      "execution_count": 29,
      "outputs": []
    },
    {
      "cell_type": "code",
      "source": [
        "my_func(10,20)"
      ],
      "metadata": {
        "colab": {
          "base_uri": "https://localhost:8080/"
        },
        "id": "TOu4x3osXqeB",
        "outputId": "57bbcdbe-34e1-488b-eae1-ac02788d5986"
      },
      "execution_count": 30,
      "outputs": [
        {
          "output_type": "stream",
          "name": "stdout",
          "text": [
            "30\n"
          ]
        },
        {
          "output_type": "execute_result",
          "data": {
            "text/plain": [
              "30"
            ]
          },
          "metadata": {},
          "execution_count": 30
        }
      ]
    },
    {
      "cell_type": "code",
      "source": [
        "result = my_func(10,20)"
      ],
      "metadata": {
        "colab": {
          "base_uri": "https://localhost:8080/"
        },
        "id": "fDgs4mo8XtTK",
        "outputId": "6d5b7ee5-c66b-48e7-fdd0-bf4b3956564d"
      },
      "execution_count": 31,
      "outputs": [
        {
          "output_type": "stream",
          "name": "stdout",
          "text": [
            "30\n"
          ]
        }
      ]
    },
    {
      "cell_type": "code",
      "source": [
        "def sum_num(a,b):\n",
        "  return a+b"
      ],
      "metadata": {
        "id": "wLg9F918X0bx"
      },
      "execution_count": 32,
      "outputs": []
    },
    {
      "cell_type": "code",
      "source": [
        "sum_num(10,20)"
      ],
      "metadata": {
        "colab": {
          "base_uri": "https://localhost:8080/"
        },
        "id": "pAEcVPrJYWWL",
        "outputId": "05a3ae5f-8024-447d-ce31-926b4c368cd6"
      },
      "execution_count": 33,
      "outputs": [
        {
          "output_type": "execute_result",
          "data": {
            "text/plain": [
              "30"
            ]
          },
          "metadata": {},
          "execution_count": 33
        }
      ]
    },
    {
      "cell_type": "code",
      "source": [
        "sum_num(\"10\",\"20\")"
      ],
      "metadata": {
        "colab": {
          "base_uri": "https://localhost:8080/",
          "height": 36
        },
        "id": "eyfYd7chYYQV",
        "outputId": "4a4fac20-237c-4638-c691-bb75274907fa"
      },
      "execution_count": 34,
      "outputs": [
        {
          "output_type": "execute_result",
          "data": {
            "text/plain": [
              "'1020'"
            ],
            "application/vnd.google.colaboratory.intrinsic+json": {
              "type": "string"
            }
          },
          "metadata": {},
          "execution_count": 34
        }
      ]
    },
    {
      "cell_type": "markdown",
      "source": [
        "# **Logic with Functions**"
      ],
      "metadata": {
        "id": "quHjfFEwZGgo"
      }
    },
    {
      "cell_type": "code",
      "source": [
        "2 % 2"
      ],
      "metadata": {
        "colab": {
          "base_uri": "https://localhost:8080/"
        },
        "id": "w9d8oKcmYbzb",
        "outputId": "ce7816f4-c3f7-4db4-83ca-3ddd4d86bdff"
      },
      "execution_count": 35,
      "outputs": [
        {
          "output_type": "execute_result",
          "data": {
            "text/plain": [
              "0"
            ]
          },
          "metadata": {},
          "execution_count": 35
        }
      ]
    },
    {
      "cell_type": "code",
      "source": [
        "3 % 2"
      ],
      "metadata": {
        "colab": {
          "base_uri": "https://localhost:8080/"
        },
        "id": "GosGkjAuZNSG",
        "outputId": "6de36dcd-1fb3-4f90-f750-9641bed642e6"
      },
      "execution_count": 36,
      "outputs": [
        {
          "output_type": "execute_result",
          "data": {
            "text/plain": [
              "1"
            ]
          },
          "metadata": {},
          "execution_count": 36
        }
      ]
    },
    {
      "cell_type": "code",
      "source": [
        "def even_check(number):\n",
        "  number % 2 == 0\n",
        "  return(number)"
      ],
      "metadata": {
        "id": "jDfQDOgkZOKX"
      },
      "execution_count": 37,
      "outputs": []
    },
    {
      "cell_type": "code",
      "source": [
        "even_check(20)"
      ],
      "metadata": {
        "colab": {
          "base_uri": "https://localhost:8080/"
        },
        "id": "uhJsWXabZ3rG",
        "outputId": "729bc6b6-306a-4e5d-ee3b-b3574ecae1f1"
      },
      "execution_count": 38,
      "outputs": [
        {
          "output_type": "execute_result",
          "data": {
            "text/plain": [
              "20"
            ]
          },
          "metadata": {},
          "execution_count": 38
        }
      ]
    },
    {
      "cell_type": "code",
      "source": [
        "even_check(21)"
      ],
      "metadata": {
        "colab": {
          "base_uri": "https://localhost:8080/"
        },
        "id": "ajQPrl2SZ55-",
        "outputId": "db700710-9cb0-45c5-d38c-0324fcd2f2e2"
      },
      "execution_count": 39,
      "outputs": [
        {
          "output_type": "execute_result",
          "data": {
            "text/plain": [
              "21"
            ]
          },
          "metadata": {},
          "execution_count": 39
        }
      ]
    },
    {
      "cell_type": "code",
      "source": [
        "def even_check(number):\n",
        "  return number % 2 == 0"
      ],
      "metadata": {
        "id": "xDsk9N14Z72m"
      },
      "execution_count": 40,
      "outputs": []
    },
    {
      "cell_type": "code",
      "source": [
        "even_check(20)"
      ],
      "metadata": {
        "colab": {
          "base_uri": "https://localhost:8080/"
        },
        "id": "4QpDdHr4aCVI",
        "outputId": "e8fb3dcc-ac64-4df8-b1d5-11b9082ccdc5"
      },
      "execution_count": 41,
      "outputs": [
        {
          "output_type": "execute_result",
          "data": {
            "text/plain": [
              "True"
            ]
          },
          "metadata": {},
          "execution_count": 41
        }
      ]
    },
    {
      "cell_type": "code",
      "source": [
        "even_check(21)"
      ],
      "metadata": {
        "colab": {
          "base_uri": "https://localhost:8080/"
        },
        "id": "AL3aVMImaEOg",
        "outputId": "bc300325-beb6-4538-8161-5ee3efe75290"
      },
      "execution_count": 42,
      "outputs": [
        {
          "output_type": "execute_result",
          "data": {
            "text/plain": [
              "False"
            ]
          },
          "metadata": {},
          "execution_count": 42
        }
      ]
    },
    {
      "cell_type": "code",
      "source": [
        "#Return True if any number is Even inside a list"
      ],
      "metadata": {
        "id": "zjPrI_ExaGPx"
      },
      "execution_count": 43,
      "outputs": []
    },
    {
      "cell_type": "code",
      "source": [
        "def check_even_list(num_list):\n",
        "  for number in num_list:\n",
        "    if number % 2 == 0:\n",
        "      return True\n",
        "    else:\n",
        "      pass"
      ],
      "metadata": {
        "id": "iQg0BrgrBn9F"
      },
      "execution_count": 44,
      "outputs": []
    },
    {
      "cell_type": "code",
      "source": [
        "check_even_list([1,3,5])"
      ],
      "metadata": {
        "id": "DK7uQql4CPz_"
      },
      "execution_count": 45,
      "outputs": []
    },
    {
      "cell_type": "code",
      "source": [
        "check_even_list([2,5,7])"
      ],
      "metadata": {
        "colab": {
          "base_uri": "https://localhost:8080/"
        },
        "id": "ppKAG-iUCcUg",
        "outputId": "87e97b37-3907-4b10-fc8a-abce749c16d6"
      },
      "execution_count": 46,
      "outputs": [
        {
          "output_type": "execute_result",
          "data": {
            "text/plain": [
              "True"
            ]
          },
          "metadata": {},
          "execution_count": 46
        }
      ]
    },
    {
      "cell_type": "code",
      "source": [
        "check_even_list([1,1,1,2])"
      ],
      "metadata": {
        "colab": {
          "base_uri": "https://localhost:8080/"
        },
        "id": "tXrHIfQDClRa",
        "outputId": "d12e4360-b664-4e5b-9d64-78232ae4b803"
      },
      "execution_count": 47,
      "outputs": [
        {
          "output_type": "execute_result",
          "data": {
            "text/plain": [
              "True"
            ]
          },
          "metadata": {},
          "execution_count": 47
        }
      ]
    },
    {
      "cell_type": "code",
      "source": [
        "def check_even_list(num_list):\n",
        "  for number in num_list:\n",
        "    if number % 2 == 0:\n",
        "      return True\n",
        "    else:\n",
        "      return False #WRONG !!!"
      ],
      "metadata": {
        "id": "V7NgMjP8Cpl6"
      },
      "execution_count": 48,
      "outputs": []
    },
    {
      "cell_type": "code",
      "source": [
        "check_even_list([1,3,5])"
      ],
      "metadata": {
        "colab": {
          "base_uri": "https://localhost:8080/"
        },
        "id": "TX8HsdMqDRfF",
        "outputId": "9f3b33b2-3184-4dc7-ec09-6f8365fd1388"
      },
      "execution_count": 49,
      "outputs": [
        {
          "output_type": "execute_result",
          "data": {
            "text/plain": [
              "False"
            ]
          },
          "metadata": {},
          "execution_count": 49
        }
      ]
    },
    {
      "cell_type": "code",
      "source": [
        "check_even_list([1,1,1,2])"
      ],
      "metadata": {
        "colab": {
          "base_uri": "https://localhost:8080/"
        },
        "id": "3JegMy_TDT_q",
        "outputId": "4ffd44db-0421-4399-836d-a376cc4952df"
      },
      "execution_count": 50,
      "outputs": [
        {
          "output_type": "execute_result",
          "data": {
            "text/plain": [
              "False"
            ]
          },
          "metadata": {},
          "execution_count": 50
        }
      ]
    },
    {
      "cell_type": "code",
      "source": [
        "def check_even_list(num_list):\n",
        "  for number in num_list:\n",
        "    if number % 2 == 0:\n",
        "      return True\n",
        "    else:\n",
        "      pass\n",
        "  return False"
      ],
      "metadata": {
        "id": "ATggJyg7DbUB"
      },
      "execution_count": 51,
      "outputs": []
    },
    {
      "cell_type": "code",
      "source": [
        "check_even_list([1,3,5])"
      ],
      "metadata": {
        "colab": {
          "base_uri": "https://localhost:8080/"
        },
        "id": "cNli3qV_DieH",
        "outputId": "041691e3-7f8b-487f-d58d-79f1884aeddc"
      },
      "execution_count": 52,
      "outputs": [
        {
          "output_type": "execute_result",
          "data": {
            "text/plain": [
              "False"
            ]
          },
          "metadata": {},
          "execution_count": 52
        }
      ]
    },
    {
      "cell_type": "code",
      "source": [
        "check_even_list([1,1,1,2])"
      ],
      "metadata": {
        "colab": {
          "base_uri": "https://localhost:8080/"
        },
        "id": "sDoEwAW5Dko2",
        "outputId": "0194dd1c-c815-40b6-c3d8-10d67fe45868"
      },
      "execution_count": 53,
      "outputs": [
        {
          "output_type": "execute_result",
          "data": {
            "text/plain": [
              "True"
            ]
          },
          "metadata": {},
          "execution_count": 53
        }
      ]
    },
    {
      "cell_type": "code",
      "source": [
        "#Return all the even number in the list\n",
        "\n",
        "def return_even_num(num_list):\n",
        "\n",
        "  #Placeholder variable\n",
        "  even_numbers = []\n",
        "\n",
        "  for number in num_list:\n",
        "    if number % 2 == 0:\n",
        "      even_numbers.append(number)\n",
        "    else:\n",
        "      pass\n",
        "  return even_numbers"
      ],
      "metadata": {
        "id": "DdDtA3IYDm5d"
      },
      "execution_count": 54,
      "outputs": []
    },
    {
      "cell_type": "code",
      "source": [
        "return_even_num([1,2,3,4,5,6,7])"
      ],
      "metadata": {
        "colab": {
          "base_uri": "https://localhost:8080/"
        },
        "id": "bl6K2oNfOp1x",
        "outputId": "5b74b4fa-5408-4c01-e8f6-5641fbeaff74"
      },
      "execution_count": 55,
      "outputs": [
        {
          "output_type": "execute_result",
          "data": {
            "text/plain": [
              "[2, 4, 6]"
            ]
          },
          "metadata": {},
          "execution_count": 55
        }
      ]
    },
    {
      "cell_type": "markdown",
      "source": [
        "# **Functions and Tuple Unpacking**"
      ],
      "metadata": {
        "id": "yjJ1O8mNsCUm"
      }
    },
    {
      "cell_type": "code",
      "source": [
        "stock_prices = [(\"appl\",200),(\"goog\", 400), (\"msft\", 800)]"
      ],
      "metadata": {
        "id": "ygHJlTycU8GH"
      },
      "execution_count": 56,
      "outputs": []
    },
    {
      "cell_type": "code",
      "source": [
        "for item in stock_prices:\n",
        "  print(item)"
      ],
      "metadata": {
        "colab": {
          "base_uri": "https://localhost:8080/"
        },
        "id": "82WdUSOeuPHU",
        "outputId": "817ce631-f787-41f8-93c9-43f43cf478db"
      },
      "execution_count": 57,
      "outputs": [
        {
          "output_type": "stream",
          "name": "stdout",
          "text": [
            "('appl', 200)\n",
            "('goog', 400)\n",
            "('msft', 800)\n"
          ]
        }
      ]
    },
    {
      "cell_type": "code",
      "source": [
        "for name, price in stock_prices:\n",
        "  print(name)"
      ],
      "metadata": {
        "colab": {
          "base_uri": "https://localhost:8080/"
        },
        "id": "bEluBuXpuVqN",
        "outputId": "ed73542c-5a48-48e8-b142-8ad53add59e1"
      },
      "execution_count": 58,
      "outputs": [
        {
          "output_type": "stream",
          "name": "stdout",
          "text": [
            "appl\n",
            "goog\n",
            "msft\n"
          ]
        }
      ]
    },
    {
      "cell_type": "code",
      "source": [
        "for name, price in stock_prices:\n",
        "  print(price+(price*0.1))"
      ],
      "metadata": {
        "colab": {
          "base_uri": "https://localhost:8080/"
        },
        "id": "OnVm5YCjuejn",
        "outputId": "fdf80481-b169-474a-f411-75f8b107968a"
      },
      "execution_count": 59,
      "outputs": [
        {
          "output_type": "stream",
          "name": "stdout",
          "text": [
            "220.0\n",
            "440.0\n",
            "880.0\n"
          ]
        }
      ]
    },
    {
      "cell_type": "code",
      "source": [
        "work_hours = [(\"Abby\", 100), (\"Billy\", 400), (\"Cassie\", 800)]"
      ],
      "metadata": {
        "id": "FBNbXI0SulGL"
      },
      "execution_count": 60,
      "outputs": []
    },
    {
      "cell_type": "code",
      "source": [
        "def employee_check(work_hours):\n",
        "\n",
        "  employee_of_month = \"\"\n",
        "  hours_max = 0\n",
        "\n",
        "  for employee, hours in work_hours:\n",
        "    if hours > hours_max:\n",
        "      hours_max = hours\n",
        "      employee_of_month = employee\n",
        "    else:\n",
        "      pass\n",
        "  return(employee_of_month, hours_max)"
      ],
      "metadata": {
        "id": "LLbLCluz2PbM"
      },
      "execution_count": 61,
      "outputs": []
    },
    {
      "cell_type": "code",
      "source": [
        "employee_check(work_hours)"
      ],
      "metadata": {
        "colab": {
          "base_uri": "https://localhost:8080/"
        },
        "id": "VPcJQy3b2gtQ",
        "outputId": "eb12a97d-2936-410a-e4df-dd72945b2499"
      },
      "execution_count": 62,
      "outputs": [
        {
          "output_type": "execute_result",
          "data": {
            "text/plain": [
              "('Cassie', 800)"
            ]
          },
          "metadata": {},
          "execution_count": 62
        }
      ]
    },
    {
      "cell_type": "code",
      "source": [
        "work_hours = [(\"Abby\", 100), (\"Billy\", 4000), (\"Cassie\", 800)]"
      ],
      "metadata": {
        "id": "RvX-w3Gq3eYj"
      },
      "execution_count": 63,
      "outputs": []
    },
    {
      "cell_type": "code",
      "source": [
        "def employee_check(work_hours):\n",
        "\n",
        "  employee_of_month = \"\"\n",
        "  hours_max = 0\n",
        "\n",
        "  for employee, hours in work_hours:\n",
        "    if hours > hours_max:\n",
        "      hours_max = hours\n",
        "      employee_of_month = employee\n",
        "    else:\n",
        "      pass\n",
        "  return(employee_of_month, hours_max)"
      ],
      "metadata": {
        "id": "f2BJ-JbGwLEC"
      },
      "execution_count": 64,
      "outputs": []
    },
    {
      "cell_type": "code",
      "source": [
        "employee_check(work_hours)"
      ],
      "metadata": {
        "colab": {
          "base_uri": "https://localhost:8080/"
        },
        "id": "rbQ2VdCIwesY",
        "outputId": "ec86b3e3-f049-4c40-bd4f-6c14ea2701a6"
      },
      "execution_count": 65,
      "outputs": [
        {
          "output_type": "execute_result",
          "data": {
            "text/plain": [
              "('Billy', 4000)"
            ]
          },
          "metadata": {},
          "execution_count": 65
        }
      ]
    },
    {
      "cell_type": "code",
      "source": [
        "result = employee_check(work_hours)"
      ],
      "metadata": {
        "id": "y0tJfruCxIH0"
      },
      "execution_count": 66,
      "outputs": []
    },
    {
      "cell_type": "code",
      "source": [
        "result"
      ],
      "metadata": {
        "colab": {
          "base_uri": "https://localhost:8080/"
        },
        "id": "19Uhiw9IxuNl",
        "outputId": "b76dd039-85c7-4414-be56-5b6bcdb80d08"
      },
      "execution_count": 67,
      "outputs": [
        {
          "output_type": "execute_result",
          "data": {
            "text/plain": [
              "('Billy', 4000)"
            ]
          },
          "metadata": {},
          "execution_count": 67
        }
      ]
    },
    {
      "cell_type": "code",
      "source": [
        "name,hour = employee_check(work_hours)"
      ],
      "metadata": {
        "id": "xb7nsTQpxuun"
      },
      "execution_count": 68,
      "outputs": []
    },
    {
      "cell_type": "code",
      "source": [
        "name"
      ],
      "metadata": {
        "colab": {
          "base_uri": "https://localhost:8080/",
          "height": 36
        },
        "id": "s_ZdvjVaxygf",
        "outputId": "619af9c6-5dce-4240-e76b-28d197434a60"
      },
      "execution_count": 69,
      "outputs": [
        {
          "output_type": "execute_result",
          "data": {
            "text/plain": [
              "'Billy'"
            ],
            "application/vnd.google.colaboratory.intrinsic+json": {
              "type": "string"
            }
          },
          "metadata": {},
          "execution_count": 69
        }
      ]
    },
    {
      "cell_type": "code",
      "source": [
        "hour"
      ],
      "metadata": {
        "colab": {
          "base_uri": "https://localhost:8080/"
        },
        "id": "EJgcnPy9xzD3",
        "outputId": "48cc2396-e206-4689-f1d7-65e783a68825"
      },
      "execution_count": 70,
      "outputs": [
        {
          "output_type": "execute_result",
          "data": {
            "text/plain": [
              "4000"
            ]
          },
          "metadata": {},
          "execution_count": 70
        }
      ]
    },
    {
      "cell_type": "code",
      "source": [
        "name,hour,location = employee_check(work_hours)"
      ],
      "metadata": {
        "colab": {
          "base_uri": "https://localhost:8080/",
          "height": 165
        },
        "id": "OexnUiQfxzbu",
        "outputId": "82bb8aba-253d-4f59-d338-0ee49e16a6ac"
      },
      "execution_count": 71,
      "outputs": [
        {
          "output_type": "error",
          "ename": "ValueError",
          "evalue": "ignored",
          "traceback": [
            "\u001b[0;31m---------------------------------------------------------------------------\u001b[0m",
            "\u001b[0;31mValueError\u001b[0m                                Traceback (most recent call last)",
            "\u001b[0;32m<ipython-input-71-c35093088052>\u001b[0m in \u001b[0;36m<module>\u001b[0;34m\u001b[0m\n\u001b[0;32m----> 1\u001b[0;31m \u001b[0mname\u001b[0m\u001b[0;34m,\u001b[0m\u001b[0mhour\u001b[0m\u001b[0;34m,\u001b[0m\u001b[0mlocation\u001b[0m \u001b[0;34m=\u001b[0m \u001b[0memployee_check\u001b[0m\u001b[0;34m(\u001b[0m\u001b[0mwork_hours\u001b[0m\u001b[0;34m)\u001b[0m\u001b[0;34m\u001b[0m\u001b[0;34m\u001b[0m\u001b[0m\n\u001b[0m",
            "\u001b[0;31mValueError\u001b[0m: not enough values to unpack (expected 3, got 2)"
          ]
        }
      ]
    },
    {
      "cell_type": "code",
      "source": [
        "#End Of Code"
      ],
      "metadata": {
        "id": "8d2-UWvZzdUc"
      },
      "execution_count": 72,
      "outputs": []
    }
  ]
}
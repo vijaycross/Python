{
  "nbformat": 4,
  "nbformat_minor": 0,
  "metadata": {
    "colab": {
      "name": "12. Interaction Between Functions.ipynb",
      "provenance": [],
      "collapsed_sections": [],
      "authorship_tag": "ABX9TyN0ur7VkPDopfATz3modqSc"
    },
    "kernelspec": {
      "name": "python3",
      "display_name": "Python 3"
    },
    "language_info": {
      "name": "python"
    }
  },
  "cells": [
    {
      "cell_type": "code",
      "execution_count": 30,
      "metadata": {
        "id": "j6JNwRFlVAB8"
      },
      "outputs": [],
      "source": [
        "example = [1,2,3,4,5,6,7,8,9]"
      ]
    },
    {
      "cell_type": "code",
      "source": [
        "from random import shuffle"
      ],
      "metadata": {
        "id": "cEG2OdOUV-cF"
      },
      "execution_count": 31,
      "outputs": []
    },
    {
      "cell_type": "code",
      "source": [
        "shuffle(example)"
      ],
      "metadata": {
        "id": "ZE9Lmdi7WAkY"
      },
      "execution_count": 32,
      "outputs": []
    },
    {
      "cell_type": "code",
      "source": [
        "example"
      ],
      "metadata": {
        "colab": {
          "base_uri": "https://localhost:8080/"
        },
        "id": "UjyfmBPpWDBP",
        "outputId": "b5020c19-fdea-455b-a48c-ab45789458cb"
      },
      "execution_count": 33,
      "outputs": [
        {
          "output_type": "execute_result",
          "data": {
            "text/plain": [
              "[2, 7, 6, 4, 9, 3, 1, 8, 5]"
            ]
          },
          "metadata": {},
          "execution_count": 33
        }
      ]
    },
    {
      "cell_type": "code",
      "source": [
        "result = shuffle(example)"
      ],
      "metadata": {
        "id": "QDMgC_baWDop"
      },
      "execution_count": 34,
      "outputs": []
    },
    {
      "cell_type": "code",
      "source": [
        "result"
      ],
      "metadata": {
        "id": "t0zsVCzyWVWY"
      },
      "execution_count": 35,
      "outputs": []
    },
    {
      "cell_type": "code",
      "source": [
        "type(result)"
      ],
      "metadata": {
        "colab": {
          "base_uri": "https://localhost:8080/"
        },
        "id": "LMsAaHE6WWu-",
        "outputId": "acb873da-521a-432e-fd30-b4202a010ae1"
      },
      "execution_count": 36,
      "outputs": [
        {
          "output_type": "execute_result",
          "data": {
            "text/plain": [
              "NoneType"
            ]
          },
          "metadata": {},
          "execution_count": 36
        }
      ]
    },
    {
      "cell_type": "markdown",
      "source": [
        "# **Three Cup Monte Game**"
      ],
      "metadata": {
        "id": "_Be2qRk2bVKV"
      }
    },
    {
      "cell_type": "code",
      "source": [
        "def shuffle_list(mylist):\n",
        "  shuffle(mylist)\n",
        "  return mylist"
      ],
      "metadata": {
        "id": "TcjkAk2zWaD_"
      },
      "execution_count": 37,
      "outputs": []
    },
    {
      "cell_type": "code",
      "source": [
        "result = shuffle_list(example)"
      ],
      "metadata": {
        "id": "T80JquSBWktZ"
      },
      "execution_count": 38,
      "outputs": []
    },
    {
      "cell_type": "code",
      "source": [
        "result"
      ],
      "metadata": {
        "colab": {
          "base_uri": "https://localhost:8080/"
        },
        "id": "2_75OuVMW96b",
        "outputId": "7c9d0d51-f4f5-4e18-9b09-a6b1abbf2f30"
      },
      "execution_count": 39,
      "outputs": [
        {
          "output_type": "execute_result",
          "data": {
            "text/plain": [
              "[3, 1, 2, 6, 5, 4, 9, 7, 8]"
            ]
          },
          "metadata": {},
          "execution_count": 39
        }
      ]
    },
    {
      "cell_type": "code",
      "source": [
        "mylist = [\" \", \"O\", \" \"]"
      ],
      "metadata": {
        "id": "8U7hMTUmW-X5"
      },
      "execution_count": 40,
      "outputs": []
    },
    {
      "cell_type": "code",
      "source": [
        "shuffle_list(mylist)"
      ],
      "metadata": {
        "colab": {
          "base_uri": "https://localhost:8080/"
        },
        "id": "9xmKNXQdXU6o",
        "outputId": "10639f6f-e687-471e-d919-2bea7c36af5a"
      },
      "execution_count": 41,
      "outputs": [
        {
          "output_type": "execute_result",
          "data": {
            "text/plain": [
              "[' ', 'O', ' ']"
            ]
          },
          "metadata": {},
          "execution_count": 41
        }
      ]
    },
    {
      "cell_type": "code",
      "source": [
        "def player_guess():\n",
        "  guess = \"\"\n",
        "\n",
        "  while guess not in [\"0\", \"1\", \"2\"]:\n",
        "    guess = input(\"Pick a number : 0, 1 or 2\")\n",
        "\n",
        "  return int(guess)"
      ],
      "metadata": {
        "id": "aeyGAHikXZ6T"
      },
      "execution_count": 42,
      "outputs": []
    },
    {
      "cell_type": "code",
      "source": [
        "player_guess()"
      ],
      "metadata": {
        "colab": {
          "base_uri": "https://localhost:8080/"
        },
        "id": "sgiVwC6wYU3z",
        "outputId": "dc0cea97-285c-47f3-df34-0035838581af"
      },
      "execution_count": 43,
      "outputs": [
        {
          "name": "stdout",
          "output_type": "stream",
          "text": [
            "Pick a number : 0, 1 or 2\n",
            "Pick a number : 0, 1 or 20\n"
          ]
        },
        {
          "output_type": "execute_result",
          "data": {
            "text/plain": [
              "0"
            ]
          },
          "metadata": {},
          "execution_count": 43
        }
      ]
    },
    {
      "cell_type": "code",
      "source": [
        "myindex = player_guess()"
      ],
      "metadata": {
        "colab": {
          "base_uri": "https://localhost:8080/"
        },
        "id": "NrU5I6wJYbTS",
        "outputId": "32e8f1d7-7302-422f-e3ff-20dbdae4f26e"
      },
      "execution_count": 44,
      "outputs": [
        {
          "name": "stdout",
          "output_type": "stream",
          "text": [
            "Pick a number : 0, 1 or 20\n"
          ]
        }
      ]
    },
    {
      "cell_type": "code",
      "source": [
        "myindex"
      ],
      "metadata": {
        "colab": {
          "base_uri": "https://localhost:8080/"
        },
        "id": "qhMfdW42Y0NX",
        "outputId": "66cb31dc-94ff-4c19-cc7f-68a4f3566eb9"
      },
      "execution_count": 45,
      "outputs": [
        {
          "output_type": "execute_result",
          "data": {
            "text/plain": [
              "0"
            ]
          },
          "metadata": {},
          "execution_count": 45
        }
      ]
    },
    {
      "cell_type": "code",
      "source": [
        "def check_guess(mylist, guess):\n",
        "  if mylist[guess] == \"O\":\n",
        "    print(\"Correct !\")\n",
        "  else:\n",
        "    print(\"Wrong Guess !\")\n",
        "    print(mylist)"
      ],
      "metadata": {
        "id": "Kun4BiMeY2Eg"
      },
      "execution_count": 46,
      "outputs": []
    },
    {
      "cell_type": "code",
      "source": [
        "#INTITAL LIST\n",
        "\n",
        "#SHUFFLE LIST\n",
        "\n",
        "#USER GUESS\n",
        "\n",
        "#CHECK GUESS"
      ],
      "metadata": {
        "id": "V0toatIyZuQM"
      },
      "execution_count": 47,
      "outputs": []
    },
    {
      "cell_type": "code",
      "source": [
        "#INTITAL LIST\n",
        "mylist = [\" \", \"O\", \" \"]\n",
        "\n",
        "#SHUFFLE LIST\n",
        "mixed_list = shuffle_list(mylist)\n",
        "\n",
        "#USER GUESS\n",
        "guess = player_guess()\n",
        "\n",
        "#CHECK GUESS\n",
        "check_guess(mixed_list, guess)"
      ],
      "metadata": {
        "colab": {
          "base_uri": "https://localhost:8080/"
        },
        "id": "3f9wFSFvZ7rt",
        "outputId": "346c57f4-d05b-4a9d-d1c8-1b6258ff7edd"
      },
      "execution_count": 48,
      "outputs": [
        {
          "output_type": "stream",
          "name": "stdout",
          "text": [
            "Pick a number : 0, 1 or 20\n",
            "Wrong Guess !\n",
            "[' ', ' ', 'O']\n"
          ]
        }
      ]
    },
    {
      "cell_type": "markdown",
      "source": [
        "# **Entire game in one cell**"
      ],
      "metadata": {
        "id": "VPCFI4Qlbc0v"
      }
    },
    {
      "cell_type": "code",
      "source": [
        "#SHUFFLE LIST Function\n",
        "def shuffle_list(mylist):\n",
        "  shuffle(mylist)\n",
        "  return mylist\n",
        "\n",
        "#USER GUESS FUNCTION\n",
        "def player_guess():\n",
        "  guess = \"\"\n",
        "\n",
        "  while guess not in [\"0\", \"1\", \"2\"]:\n",
        "    guess = input(\"Pick a number : 0, 1 or 2\")\n",
        "\n",
        "  return int(guess)\n",
        "\n",
        "#USER GUESS\n",
        "def check_guess(mylist, guess):\n",
        "  if mylist[guess] == \"O\":\n",
        "    print(\"Correct !\")\n",
        "  else:\n",
        "    print(\"Wrong Guess !\")\n",
        "    print(mylist)\n",
        "  \n",
        "#INTITAL LIST\n",
        "mylist = [\" \", \"O\", \" \"]\n",
        "\n",
        "#SHUFFLE LIST\n",
        "mixed_list = shuffle_list(mylist)\n",
        "\n",
        "#USER GUESS\n",
        "guess = player_guess()\n",
        "\n",
        "#CHECK GUESS\n",
        "check_guess(mixed_list, guess)"
      ],
      "metadata": {
        "colab": {
          "base_uri": "https://localhost:8080/"
        },
        "id": "HniZSgKcaq1n",
        "outputId": "d2c54efc-392d-48a4-9810-3def6ba5f28f"
      },
      "execution_count": 49,
      "outputs": [
        {
          "output_type": "stream",
          "name": "stdout",
          "text": [
            "Pick a number : 0, 1 or 20\n",
            "Correct !\n"
          ]
        }
      ]
    },
    {
      "cell_type": "code",
      "source": [
        "#End Of Code"
      ],
      "metadata": {
        "id": "0285yBXkb7B4"
      },
      "execution_count": null,
      "outputs": []
    }
  ]
}
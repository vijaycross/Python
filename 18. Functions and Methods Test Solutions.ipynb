{
  "cells": [
    {
      "cell_type": "markdown",
      "metadata": {
        "id": "RZYxVqz0hRAA"
      },
      "source": [
        "# Functions and Methods Homework \n",
        "\n",
        "Complete the following questions:\n",
        "____\n",
        "**Write a function that computes the volume of a sphere given its radius.**\n",
        "<p>The volume of a sphere is given as $$\\frac{4}{3} πr^3$$</p>"
      ]
    },
    {
      "cell_type": "code",
      "execution_count": 1,
      "metadata": {
        "collapsed": true,
        "id": "w0R6ZCvghRAB"
      },
      "outputs": [],
      "source": [
        "def vol(rad):\n",
        "  return (4/3) * 3.14 * (rad**3)"
      ]
    },
    {
      "cell_type": "code",
      "execution_count": 2,
      "metadata": {
        "colab": {
          "base_uri": "https://localhost:8080/"
        },
        "id": "Tu5kXrLRhRAC",
        "outputId": "3c83e4c0-58c0-43db-92ea-ba691ce5d426"
      },
      "outputs": [
        {
          "output_type": "execute_result",
          "data": {
            "text/plain": [
              "33.49333333333333"
            ]
          },
          "metadata": {},
          "execution_count": 2
        }
      ],
      "source": [
        "# Check\n",
        "vol(2)"
      ]
    },
    {
      "cell_type": "markdown",
      "metadata": {
        "id": "VCpslU_yhRAD"
      },
      "source": [
        "___\n",
        "**Write a function that checks whether a number is in a given range (inclusive of high and low)**"
      ]
    },
    {
      "cell_type": "code",
      "execution_count": 3,
      "metadata": {
        "collapsed": true,
        "id": "BJC6-lEvhRAE"
      },
      "outputs": [],
      "source": [
        "def ran_check(num,low,high):\n",
        "  if num >= low and num <= high:\n",
        "    print(f\"{num} is in the range between {low} and {high}\")\n",
        "  else:\n",
        "    print(f\"{num} is not in the range between {low} and {high}\")"
      ]
    },
    {
      "cell_type": "code",
      "execution_count": 4,
      "metadata": {
        "colab": {
          "base_uri": "https://localhost:8080/"
        },
        "id": "rkGQgg8AhRAE",
        "outputId": "e46baf24-a032-4071-a991-1dc59586d9d3"
      },
      "outputs": [
        {
          "output_type": "stream",
          "name": "stdout",
          "text": [
            "9 is not in the range between 2 and 7\n"
          ]
        }
      ],
      "source": [
        "# Check\n",
        "ran_check(9,2,7)"
      ]
    },
    {
      "cell_type": "code",
      "source": [
        "# Check\n",
        "ran_check(5,2,7)"
      ],
      "metadata": {
        "colab": {
          "base_uri": "https://localhost:8080/"
        },
        "id": "ncUsNXA4sros",
        "outputId": "f7556734-ecad-48f2-bc44-63ebca823f3d"
      },
      "execution_count": 5,
      "outputs": [
        {
          "output_type": "stream",
          "name": "stdout",
          "text": [
            "5 is in the range between 2 and 7\n"
          ]
        }
      ]
    },
    {
      "cell_type": "code",
      "source": [
        "def ran_check(num,low,high):\n",
        "  if num in range(low,high):\n",
        "    print(f\"{num} is in the range between {low} and {high}\")\n",
        "  else:\n",
        "    print(f\"{num} is not in the range between {low} and {high}\")"
      ],
      "metadata": {
        "id": "CMlnm5w9tCOL"
      },
      "execution_count": 6,
      "outputs": []
    },
    {
      "cell_type": "code",
      "source": [
        "# Check\n",
        "ran_check(9,2,7)"
      ],
      "metadata": {
        "colab": {
          "base_uri": "https://localhost:8080/"
        },
        "id": "ZE9dg7dctKHt",
        "outputId": "5061d72b-68f4-4b09-8abc-7b68b3178658"
      },
      "execution_count": 7,
      "outputs": [
        {
          "output_type": "stream",
          "name": "stdout",
          "text": [
            "9 is not in the range between 2 and 7\n"
          ]
        }
      ]
    },
    {
      "cell_type": "code",
      "source": [
        "# Check\n",
        "ran_check(5,2,7)"
      ],
      "metadata": {
        "colab": {
          "base_uri": "https://localhost:8080/"
        },
        "id": "xwa62Xp2tLT-",
        "outputId": "e2656138-8d9c-4a83-a80c-60ccd48c3855"
      },
      "execution_count": 8,
      "outputs": [
        {
          "output_type": "stream",
          "name": "stdout",
          "text": [
            "5 is in the range between 2 and 7\n"
          ]
        }
      ]
    },
    {
      "cell_type": "markdown",
      "metadata": {
        "id": "ScNcTw_yhRAE"
      },
      "source": [
        "If you only wanted to return a boolean:"
      ]
    },
    {
      "cell_type": "code",
      "execution_count": 9,
      "metadata": {
        "collapsed": true,
        "id": "TZOReDxXhRAE"
      },
      "outputs": [],
      "source": [
        "def ran_bool(num,low,high):\n",
        "    return num in range(low,high)"
      ]
    },
    {
      "cell_type": "code",
      "execution_count": 10,
      "metadata": {
        "colab": {
          "base_uri": "https://localhost:8080/"
        },
        "id": "aMOI1s8fhRAF",
        "outputId": "cc9ff7a6-aaa6-496d-b115-21baa06edc71"
      },
      "outputs": [
        {
          "output_type": "execute_result",
          "data": {
            "text/plain": [
              "True"
            ]
          },
          "metadata": {},
          "execution_count": 10
        }
      ],
      "source": [
        "ran_bool(3,1,10)"
      ]
    },
    {
      "cell_type": "markdown",
      "metadata": {
        "id": "Vh4uG3v8hRAF"
      },
      "source": [
        "____\n",
        "**Write a Python function that accepts a string and calculates the number of upper case letters and lower case letters.**\n",
        "\n",
        "    Sample String : 'Hello Mr. Rogers, how are you this fine Tuesday?'\n",
        "    Expected Output : \n",
        "    No. of Upper case characters : 4\n",
        "    No. of Lower case Characters : 33\n",
        "\n",
        "HINT: Two string methods that might prove useful: **.isupper()** and **.islower()**\n",
        "\n",
        "If you feel ambitious, explore the Collections module to solve this problem!"
      ]
    },
    {
      "cell_type": "code",
      "execution_count": 11,
      "metadata": {
        "collapsed": true,
        "id": "sFgiMLtmhRAG"
      },
      "outputs": [],
      "source": [
        "def up_low(s):\n",
        "\n",
        "  uppercase = 0\n",
        "  lowercase = 0\n",
        "\n",
        "  for char in s:\n",
        "    if char.isupper():\n",
        "      uppercase += 1\n",
        "\n",
        "    elif char.islower():\n",
        "      lowercase += 1\n",
        "    \n",
        "    else:\n",
        "      pass\n",
        "\n",
        "  print(f\"Original String : {s}\")\n",
        "  print(f\"No. of Upper case characters : {uppercase}\")\n",
        "  print(f\"No. of Lower case Characters : {lowercase}\")"
      ]
    },
    {
      "cell_type": "code",
      "execution_count": 12,
      "metadata": {
        "colab": {
          "base_uri": "https://localhost:8080/"
        },
        "id": "lt2hwbe1hRAG",
        "outputId": "50700c03-58cf-450b-e352-9881e7a59fc1"
      },
      "outputs": [
        {
          "output_type": "stream",
          "name": "stdout",
          "text": [
            "Original String : Hello Mr. Rogers, how are you this fine Tuesday?\n",
            "No. of Upper case characters : 4\n",
            "No. of Lower case Characters : 33\n"
          ]
        }
      ],
      "source": [
        "s = 'Hello Mr. Rogers, how are you this fine Tuesday?'\n",
        "up_low(s)"
      ]
    },
    {
      "cell_type": "code",
      "source": [
        "def up_low(s):\n",
        "\n",
        "  d = {\"upper\": 0, \"lower\" : 0}\n",
        "\n",
        "  for char in s:\n",
        "    if char.isupper():\n",
        "      d[\"upper\"] += 1\n",
        "\n",
        "    elif char.islower():\n",
        "      d[\"lower\"] += 1\n",
        "    \n",
        "    else:\n",
        "      pass\n",
        "\n",
        "  print(f\"Original String : {s}\")\n",
        "  print(f\"No. of Upper case characters : {d['upper']}\")\n",
        "  print(f\"No. of Lower case Characters : {d['lower']}\")"
      ],
      "metadata": {
        "id": "Kj76X8tWGYG6"
      },
      "execution_count": 13,
      "outputs": []
    },
    {
      "cell_type": "code",
      "source": [
        "s = 'Hello Mr. Rogers, how are you this fine Tuesday?'\n",
        "up_low(s)"
      ],
      "metadata": {
        "colab": {
          "base_uri": "https://localhost:8080/"
        },
        "id": "vvWlcQE7HBqX",
        "outputId": "d175a4c3-0af0-49b4-f41e-f999aaacb579"
      },
      "execution_count": 14,
      "outputs": [
        {
          "output_type": "stream",
          "name": "stdout",
          "text": [
            "Original String : Hello Mr. Rogers, how are you this fine Tuesday?\n",
            "No. of Upper case characters : 4\n",
            "No. of Lower case Characters : 33\n"
          ]
        }
      ]
    },
    {
      "cell_type": "markdown",
      "metadata": {
        "id": "CwKBwOFShRAG"
      },
      "source": [
        "____\n",
        "**Write a Python function that takes a list and returns a new list with unique elements of the first list.**\n",
        "\n",
        "    Sample List : [1,1,1,1,2,2,3,3,3,3,4,5]\n",
        "    Unique List : [1, 2, 3, 4, 5]"
      ]
    },
    {
      "cell_type": "code",
      "execution_count": 15,
      "metadata": {
        "collapsed": true,
        "id": "3UJmVVKihRAG"
      },
      "outputs": [],
      "source": [
        "def unique_list(lst):\n",
        "  return list(set(lst))"
      ]
    },
    {
      "cell_type": "code",
      "execution_count": 16,
      "metadata": {
        "colab": {
          "base_uri": "https://localhost:8080/"
        },
        "id": "6JF4chtrhRAH",
        "outputId": "9edc9d10-8d0a-4e8f-f750-f712713766d7"
      },
      "outputs": [
        {
          "output_type": "execute_result",
          "data": {
            "text/plain": [
              "[1, 2, 3, 4, 5]"
            ]
          },
          "metadata": {},
          "execution_count": 16
        }
      ],
      "source": [
        "unique_list([1,1,1,1,2,2,3,3,3,3,4,5])"
      ]
    },
    {
      "cell_type": "code",
      "source": [
        "def unique_list(lst):\n",
        "\n",
        "  seen_numbers = []\n",
        "\n",
        "  for num in lst:\n",
        "    if num not in seen_numbers:\n",
        "      seen_numbers.append(num)\n",
        "  \n",
        "  return seen_numbers"
      ],
      "metadata": {
        "id": "iqHc7ijoHXNV"
      },
      "execution_count": 17,
      "outputs": []
    },
    {
      "cell_type": "code",
      "source": [
        "unique_list([1,1,1,1,2,2,3,3,3,3,4,5])"
      ],
      "metadata": {
        "colab": {
          "base_uri": "https://localhost:8080/"
        },
        "id": "NUt9RYS9H7Fi",
        "outputId": "1c473d40-a3df-401f-f6ff-268f9738f625"
      },
      "execution_count": 18,
      "outputs": [
        {
          "output_type": "execute_result",
          "data": {
            "text/plain": [
              "[1, 2, 3, 4, 5]"
            ]
          },
          "metadata": {},
          "execution_count": 18
        }
      ]
    },
    {
      "cell_type": "markdown",
      "metadata": {
        "id": "qJzN1fsAhRAH"
      },
      "source": [
        "____\n",
        "**Write a Python function to multiply all the numbers in a list.**\n",
        "\n",
        "    Sample List : [1, 2, 3, -4]\n",
        "    Expected Output : -24"
      ]
    },
    {
      "cell_type": "code",
      "execution_count": 19,
      "metadata": {
        "collapsed": true,
        "id": "IV61dBGXhRAH"
      },
      "outputs": [],
      "source": [
        "def multiply(numbers):\n",
        "\n",
        "  total = 1\n",
        "\n",
        "  for num in numbers:\n",
        "    total = total * num\n",
        "  return total"
      ]
    },
    {
      "cell_type": "code",
      "execution_count": 20,
      "metadata": {
        "colab": {
          "base_uri": "https://localhost:8080/"
        },
        "id": "nNPk1UmLhRAI",
        "outputId": "47557779-cb18-4754-9f74-da4dfa085731"
      },
      "outputs": [
        {
          "output_type": "execute_result",
          "data": {
            "text/plain": [
              "-24"
            ]
          },
          "metadata": {},
          "execution_count": 20
        }
      ],
      "source": [
        "multiply([1,2,3,-4])"
      ]
    },
    {
      "cell_type": "markdown",
      "metadata": {
        "id": "tQLnfpmPhRAI"
      },
      "source": [
        "____\n",
        "**Write a Python function that checks whether a word or phrase is palindrome or not.**\n",
        "\n",
        "Note: A palindrome is word, phrase, or sequence that reads the same backward as forward, e.g., madam,kayak,racecar, or a phrase \"nurses run\". Hint: You may want to check out the .replace() method in a string to help out with dealing with spaces. Also google search how to reverse a string in Python, there are some clever ways to do it with slicing notation."
      ]
    },
    {
      "cell_type": "code",
      "execution_count": 21,
      "metadata": {
        "collapsed": true,
        "id": "IjZZpyRahRAJ"
      },
      "outputs": [],
      "source": [
        "def palindrome(s):\n",
        "\n",
        "  #Remove Space\n",
        "  s = s.replace(\" \", \"\")\n",
        "\n",
        "  #Reverse\n",
        "  return s == s[::-1]"
      ]
    },
    {
      "cell_type": "code",
      "execution_count": 22,
      "metadata": {
        "colab": {
          "base_uri": "https://localhost:8080/"
        },
        "id": "EjuvHOCRhRAJ",
        "outputId": "a4b54371-5cb4-4d58-9dcb-4adc64cf2830"
      },
      "outputs": [
        {
          "output_type": "execute_result",
          "data": {
            "text/plain": [
              "True"
            ]
          },
          "metadata": {},
          "execution_count": 22
        }
      ],
      "source": [
        "palindrome('helleh')"
      ]
    },
    {
      "cell_type": "markdown",
      "metadata": {
        "id": "IMQIh_CNhRAJ"
      },
      "source": [
        "____\n",
        "#### Hard:\n",
        "\n",
        "**Write a Python function to check whether a string is pangram or not. (Assume the string passed in does not have any punctuation)**\n",
        "\n",
        "    Note : Pangrams are words or sentences containing every letter of the alphabet at least once.\n",
        "    For example : \"The quick brown fox jumps over the lazy dog\"\n",
        "\n",
        "Hint: You may want to use .replace() method to get rid of spaces.\n",
        "\n",
        "Hint: Look at the [string module](https://stackoverflow.com/questions/16060899/alphabet-range-in-python)\n",
        "\n",
        "Hint: In case you want to use [set comparisons](https://medium.com/better-programming/a-visual-guide-to-set-comparisons-in-python-6ab7edb9ec41)"
      ]
    },
    {
      "cell_type": "code",
      "execution_count": 23,
      "metadata": {
        "collapsed": true,
        "id": "9g1PD5KDhRAK"
      },
      "outputs": [],
      "source": [
        "import string\n",
        "\n",
        "def ispangram(str1, alphabet=string.ascii_lowercase):\n",
        "\n",
        "  #Create a set of Alphabet\n",
        "  alphaset = set(alphabet)\n",
        "  print(alphaset)\n",
        "  \n",
        "  #Remove spaces from input string\n",
        "  str1 = str1.replace(\" \",\"\")\n",
        "  print(str1)\n",
        "\n",
        "  #Convert string into lowercase\n",
        "  str1 = str1.lower()\n",
        "  print(str1)\n",
        "\n",
        "  #Grab all unique letter from string set\n",
        "  str1 = set(str1)\n",
        "  print(str1)\n",
        "\n",
        "  #Albhabet set == string set input\n",
        "  return str1 == alphaset"
      ]
    },
    {
      "cell_type": "code",
      "execution_count": 24,
      "metadata": {
        "colab": {
          "base_uri": "https://localhost:8080/"
        },
        "id": "tFuu4p5ihRAK",
        "outputId": "a1d81d7a-b8b7-470e-96a8-a3df32c609a9"
      },
      "outputs": [
        {
          "output_type": "stream",
          "name": "stdout",
          "text": [
            "{'g', 's', 'u', 'v', 'e', 'd', 'k', 'h', 'l', 'p', 'z', 'b', 't', 'y', 'q', 'm', 'a', 'i', 'o', 'c', 'w', 'n', 'r', 'f', 'j', 'x'}\n",
            "Thequickbrownfoxjumpsoverthelazydog\n",
            "thequickbrownfoxjumpsoverthelazydog\n",
            "{'g', 's', 'u', 'v', 'e', 'd', 'k', 'h', 'l', 'p', 'z', 'b', 't', 'y', 'q', 'm', 'a', 'i', 'o', 'c', 'w', 'n', 'r', 'f', 'j', 'x'}\n"
          ]
        },
        {
          "output_type": "execute_result",
          "data": {
            "text/plain": [
              "True"
            ]
          },
          "metadata": {},
          "execution_count": 24
        }
      ],
      "source": [
        "ispangram(\"The quick brown fox jumps over the lazy dog\")"
      ]
    },
    {
      "cell_type": "code",
      "execution_count": 25,
      "metadata": {
        "colab": {
          "base_uri": "https://localhost:8080/",
          "height": 36
        },
        "id": "LKpwlZmuhRAK",
        "outputId": "90c1a1f9-3877-4b61-f558-6033c9174374"
      },
      "outputs": [
        {
          "output_type": "execute_result",
          "data": {
            "text/plain": [
              "'abcdefghijklmnopqrstuvwxyz'"
            ],
            "application/vnd.google.colaboratory.intrinsic+json": {
              "type": "string"
            }
          },
          "metadata": {},
          "execution_count": 25
        }
      ],
      "source": [
        "string.ascii_lowercase"
      ]
    },
    {
      "cell_type": "markdown",
      "metadata": {
        "collapsed": true,
        "id": "rEH58Ma6hRAL"
      },
      "source": [
        "#### Great Job!"
      ]
    }
  ],
  "metadata": {
    "kernelspec": {
      "display_name": "Python 3",
      "language": "python",
      "name": "python3"
    },
    "language_info": {
      "codemirror_mode": {
        "name": "ipython",
        "version": 3
      },
      "file_extension": ".py",
      "mimetype": "text/x-python",
      "name": "python",
      "nbconvert_exporter": "python",
      "pygments_lexer": "ipython3",
      "version": "3.6.6"
    },
    "colab": {
      "provenance": [],
      "collapsed_sections": []
    }
  },
  "nbformat": 4,
  "nbformat_minor": 0
}
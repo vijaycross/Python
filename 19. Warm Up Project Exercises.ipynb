{
  "nbformat": 4,
  "nbformat_minor": 0,
  "metadata": {
    "colab": {
      "provenance": [],
      "collapsed_sections": [],
      "authorship_tag": "ABX9TyPyDZslN6XoTovkw4/ZnJX8"
    },
    "kernelspec": {
      "name": "python3",
      "display_name": "Python 3"
    },
    "language_info": {
      "name": "python"
    }
  },
  "cells": [
    {
      "cell_type": "markdown",
      "source": [
        "# **Displaying Information**"
      ],
      "metadata": {
        "id": "Ewk1GblkKeJQ"
      }
    },
    {
      "cell_type": "code",
      "source": [
        "print([1,2,3])"
      ],
      "metadata": {
        "id": "QtNRioHgKj0r",
        "colab": {
          "base_uri": "https://localhost:8080/"
        },
        "outputId": "d84c4b33-129f-4c49-aa2f-b2ba81cd1eb1"
      },
      "execution_count": 1,
      "outputs": [
        {
          "output_type": "stream",
          "name": "stdout",
          "text": [
            "[1, 2, 3]\n"
          ]
        }
      ]
    },
    {
      "cell_type": "code",
      "source": [
        "print([1,2,3])\n",
        "print([4,5,6])\n",
        "print([7,8,9])"
      ],
      "metadata": {
        "id": "EJJly7QQsEjo",
        "colab": {
          "base_uri": "https://localhost:8080/"
        },
        "outputId": "23499181-619f-44f0-cf12-79d7d525165e"
      },
      "execution_count": 2,
      "outputs": [
        {
          "output_type": "stream",
          "name": "stdout",
          "text": [
            "[1, 2, 3]\n",
            "[4, 5, 6]\n",
            "[7, 8, 9]\n"
          ]
        }
      ]
    },
    {
      "cell_type": "code",
      "source": [
        "def display(row1, row2, row3):\n",
        "  print(row1)\n",
        "  print(row2)\n",
        "  print(row3)"
      ],
      "metadata": {
        "id": "BtH-kAjssL3H"
      },
      "execution_count": 3,
      "outputs": []
    },
    {
      "cell_type": "code",
      "source": [
        "example_row = [1,2,3]\n",
        "\n",
        "display(example_row, example_row, example_row)"
      ],
      "metadata": {
        "id": "s05qqb1WsZHP",
        "colab": {
          "base_uri": "https://localhost:8080/"
        },
        "outputId": "b6014c1d-430a-4256-ea94-61b704b93da2"
      },
      "execution_count": 4,
      "outputs": [
        {
          "output_type": "stream",
          "name": "stdout",
          "text": [
            "[1, 2, 3]\n",
            "[1, 2, 3]\n",
            "[1, 2, 3]\n"
          ]
        }
      ]
    },
    {
      "cell_type": "code",
      "source": [
        "row1 = [\" \", \" \", \" \"]\n",
        "row2 = [\" \", \" \", \" \"]\n",
        "row3 = [\" \", \" \", \" \"]"
      ],
      "metadata": {
        "id": "NghVMMApsrfw"
      },
      "execution_count": 5,
      "outputs": []
    },
    {
      "cell_type": "code",
      "source": [
        "display(row1, row2, row3)"
      ],
      "metadata": {
        "id": "3pzZctHis95H",
        "colab": {
          "base_uri": "https://localhost:8080/"
        },
        "outputId": "5a027638-8345-4595-aa77-7f1261b20d0b"
      },
      "execution_count": 6,
      "outputs": [
        {
          "output_type": "stream",
          "name": "stdout",
          "text": [
            "[' ', ' ', ' ']\n",
            "[' ', ' ', ' ']\n",
            "[' ', ' ', ' ']\n"
          ]
        }
      ]
    },
    {
      "cell_type": "code",
      "source": [
        "row2[1] = \"X\""
      ],
      "metadata": {
        "id": "3RjrxAeptFg8"
      },
      "execution_count": 7,
      "outputs": []
    },
    {
      "cell_type": "code",
      "source": [
        "display(row1, row2, row3)"
      ],
      "metadata": {
        "id": "e0Pjmf2ftKCc",
        "colab": {
          "base_uri": "https://localhost:8080/"
        },
        "outputId": "2e6b9e17-360d-4fe9-d6ea-65d6fd5f2c7e"
      },
      "execution_count": 8,
      "outputs": [
        {
          "output_type": "stream",
          "name": "stdout",
          "text": [
            "[' ', ' ', ' ']\n",
            "[' ', 'X', ' ']\n",
            "[' ', ' ', ' ']\n"
          ]
        }
      ]
    },
    {
      "cell_type": "markdown",
      "source": [
        "# **Accepting User Input**"
      ],
      "metadata": {
        "id": "0YTDppBZBe1T"
      }
    },
    {
      "cell_type": "code",
      "source": [
        "input(\"Please enter a value: \")"
      ],
      "metadata": {
        "id": "6etDoeystOud",
        "colab": {
          "base_uri": "https://localhost:8080/",
          "height": 53
        },
        "outputId": "28027ccb-2e09-4acf-d08a-f927a1fa57cb"
      },
      "execution_count": 9,
      "outputs": [
        {
          "name": "stdout",
          "output_type": "stream",
          "text": [
            "Please enter a value: Vijay\n"
          ]
        },
        {
          "output_type": "execute_result",
          "data": {
            "text/plain": [
              "'Vijay'"
            ],
            "application/vnd.google.colaboratory.intrinsic+json": {
              "type": "string"
            }
          },
          "metadata": {},
          "execution_count": 9
        }
      ]
    },
    {
      "cell_type": "code",
      "source": [
        "result = input(\"Please enter a value: \")"
      ],
      "metadata": {
        "id": "91bm-Nt5Xr5a",
        "colab": {
          "base_uri": "https://localhost:8080/"
        },
        "outputId": "e019e828-196a-4b6d-8bb1-df6ea8c33441"
      },
      "execution_count": 10,
      "outputs": [
        {
          "name": "stdout",
          "output_type": "stream",
          "text": [
            "Please enter a value: vijay\n"
          ]
        }
      ]
    },
    {
      "cell_type": "code",
      "source": [
        "type(result)"
      ],
      "metadata": {
        "id": "YNnay0RzXz8v",
        "colab": {
          "base_uri": "https://localhost:8080/"
        },
        "outputId": "32a6ddbf-fd42-40d1-c21b-d455b95f5fd8"
      },
      "execution_count": 11,
      "outputs": [
        {
          "output_type": "execute_result",
          "data": {
            "text/plain": [
              "str"
            ]
          },
          "metadata": {},
          "execution_count": 11
        }
      ]
    },
    {
      "cell_type": "code",
      "source": [
        "result = input(\"Enter Value : \")"
      ],
      "metadata": {
        "id": "K8X6zRFlX9I9",
        "colab": {
          "base_uri": "https://localhost:8080/"
        },
        "outputId": "d4102061-e98d-4808-e34b-69a76a4b889e"
      },
      "execution_count": 12,
      "outputs": [
        {
          "name": "stdout",
          "output_type": "stream",
          "text": [
            "Enter Value : 100\n"
          ]
        }
      ]
    },
    {
      "cell_type": "code",
      "source": [
        "result_int = int(result)"
      ],
      "metadata": {
        "id": "7FbHd-yUYPg5"
      },
      "execution_count": 13,
      "outputs": []
    },
    {
      "cell_type": "code",
      "source": [
        "type(result_int)"
      ],
      "metadata": {
        "id": "yebzaqF2YTAR",
        "colab": {
          "base_uri": "https://localhost:8080/"
        },
        "outputId": "a1ede661-77b5-4b62-9a7b-87fa32f03a9a"
      },
      "execution_count": 14,
      "outputs": [
        {
          "output_type": "execute_result",
          "data": {
            "text/plain": [
              "int"
            ]
          },
          "metadata": {},
          "execution_count": 14
        }
      ]
    },
    {
      "cell_type": "code",
      "source": [
        "type(2.3)"
      ],
      "metadata": {
        "id": "d9I2NhXzYV5x",
        "colab": {
          "base_uri": "https://localhost:8080/"
        },
        "outputId": "61557fb0-fe7b-4a0e-9ff9-4d561633f688"
      },
      "execution_count": 15,
      "outputs": [
        {
          "output_type": "execute_result",
          "data": {
            "text/plain": [
              "float"
            ]
          },
          "metadata": {},
          "execution_count": 15
        }
      ]
    },
    {
      "cell_type": "code",
      "source": [
        "float(\"3.14\")"
      ],
      "metadata": {
        "id": "-brszejvp5_3",
        "colab": {
          "base_uri": "https://localhost:8080/"
        },
        "outputId": "cbf4484b-cc07-4286-d3dd-5571d73e4edd"
      },
      "execution_count": 16,
      "outputs": [
        {
          "output_type": "execute_result",
          "data": {
            "text/plain": [
              "3.14"
            ]
          },
          "metadata": {},
          "execution_count": 16
        }
      ]
    },
    {
      "cell_type": "code",
      "source": [
        "position_index = int(input(\"Choose and Index Position :  \"))"
      ],
      "metadata": {
        "id": "qZan4Yvyp7_c",
        "colab": {
          "base_uri": "https://localhost:8080/"
        },
        "outputId": "7a542243-9006-466a-ee53-75edcbe52375"
      },
      "execution_count": 17,
      "outputs": [
        {
          "name": "stdout",
          "output_type": "stream",
          "text": [
            "Choose and Index Position :  1\n"
          ]
        }
      ]
    },
    {
      "cell_type": "code",
      "source": [
        "type(position_index)"
      ],
      "metadata": {
        "id": "dgQtWD00qW4Y",
        "colab": {
          "base_uri": "https://localhost:8080/"
        },
        "outputId": "ce565ca9-f8ff-4703-ac1b-ebaf4fa066a1"
      },
      "execution_count": 18,
      "outputs": [
        {
          "output_type": "execute_result",
          "data": {
            "text/plain": [
              "int"
            ]
          },
          "metadata": {},
          "execution_count": 18
        }
      ]
    },
    {
      "cell_type": "code",
      "source": [
        "row2[position_index]"
      ],
      "metadata": {
        "id": "xAYYzAG-qgg5",
        "colab": {
          "base_uri": "https://localhost:8080/",
          "height": 36
        },
        "outputId": "8aa862f1-b8f3-44cc-f412-f1937b31a085"
      },
      "execution_count": 19,
      "outputs": [
        {
          "output_type": "execute_result",
          "data": {
            "text/plain": [
              "'X'"
            ],
            "application/vnd.google.colaboratory.intrinsic+json": {
              "type": "string"
            }
          },
          "metadata": {},
          "execution_count": 19
        }
      ]
    },
    {
      "cell_type": "markdown",
      "source": [
        "# **Validating User Input**"
      ],
      "metadata": {
        "id": "PRBBeTjcs1CN"
      }
    },
    {
      "cell_type": "code",
      "source": [
        "def user_choice():\n",
        "\n",
        "  choice = input(\"Please enter a number (0-10): \")\n",
        "\n",
        "  return int(choice)"
      ],
      "metadata": {
        "id": "BqjFt-9wqkKT"
      },
      "execution_count": 20,
      "outputs": []
    },
    {
      "cell_type": "code",
      "source": [
        "user_choice()"
      ],
      "metadata": {
        "id": "GoSr_0fbtqu0",
        "colab": {
          "base_uri": "https://localhost:8080/"
        },
        "outputId": "13718110-71d7-44f7-817b-9ac2c5eeef91"
      },
      "execution_count": 21,
      "outputs": [
        {
          "name": "stdout",
          "output_type": "stream",
          "text": [
            "Please enter a number (0-10): 5\n"
          ]
        },
        {
          "output_type": "execute_result",
          "data": {
            "text/plain": [
              "5"
            ]
          },
          "metadata": {},
          "execution_count": 21
        }
      ]
    },
    {
      "cell_type": "code",
      "source": [
        "some_value = \"100\""
      ],
      "metadata": {
        "id": "nG5O_hptu06H"
      },
      "execution_count": 22,
      "outputs": []
    },
    {
      "cell_type": "code",
      "source": [
        "some_value.isdigit()"
      ],
      "metadata": {
        "id": "yp4KI8ITu2qh",
        "colab": {
          "base_uri": "https://localhost:8080/"
        },
        "outputId": "b97f65cc-d6e7-4936-8eaf-4301144a895f"
      },
      "execution_count": 23,
      "outputs": [
        {
          "output_type": "execute_result",
          "data": {
            "text/plain": [
              "True"
            ]
          },
          "metadata": {},
          "execution_count": 23
        }
      ]
    },
    {
      "cell_type": "code",
      "source": [
        "int(some_value)"
      ],
      "metadata": {
        "id": "taxLyhkxu5pq",
        "colab": {
          "base_uri": "https://localhost:8080/"
        },
        "outputId": "8b61a4df-c5fa-4f5f-85d0-a80e31de9b20"
      },
      "execution_count": 24,
      "outputs": [
        {
          "output_type": "execute_result",
          "data": {
            "text/plain": [
              "100"
            ]
          },
          "metadata": {},
          "execution_count": 24
        }
      ]
    },
    {
      "cell_type": "code",
      "source": [
        "def user_choice():\n",
        "\n",
        "  choice = \"WRONG\"\n",
        "\n",
        "  while choice.isdigit() == False:\n",
        "    \n",
        "    choice = input(\"Please enter a number (0-10): \")\n",
        "\n",
        "  return int(choice)"
      ],
      "metadata": {
        "id": "t3fxIADXu866"
      },
      "execution_count": 25,
      "outputs": []
    },
    {
      "cell_type": "code",
      "source": [
        "user_choice()"
      ],
      "metadata": {
        "id": "sWRvxzqBvtg5",
        "colab": {
          "base_uri": "https://localhost:8080/"
        },
        "outputId": "b7c638fb-a1a8-48d2-81bf-4487ac6d791e"
      },
      "execution_count": 26,
      "outputs": [
        {
          "name": "stdout",
          "output_type": "stream",
          "text": [
            "Please enter a number (0-10): Yes\n",
            "Please enter a number (0-10): 5\n"
          ]
        },
        {
          "output_type": "execute_result",
          "data": {
            "text/plain": [
              "5"
            ]
          },
          "metadata": {},
          "execution_count": 26
        }
      ]
    },
    {
      "cell_type": "code",
      "source": [
        "def user_choice():\n",
        "\n",
        "  choice = \"WRONG\"\n",
        "\n",
        "  while choice.isdigit() == False:\n",
        "    \n",
        "    choice = input(\"Please enter a number (0-10): \")\n",
        "\n",
        "    if choice.isdigit() == False:\n",
        "      print(\"Sorry that is not a digit!\")\n",
        "\n",
        "  return int(choice)"
      ],
      "metadata": {
        "id": "4EigrByhvvf9"
      },
      "execution_count": 27,
      "outputs": []
    },
    {
      "cell_type": "code",
      "source": [
        "user_choice()"
      ],
      "metadata": {
        "id": "DD5R9YzCwSRL",
        "colab": {
          "base_uri": "https://localhost:8080/"
        },
        "outputId": "ce1898a4-1cda-4aea-8129-6b3504fa521a"
      },
      "execution_count": 28,
      "outputs": [
        {
          "name": "stdout",
          "output_type": "stream",
          "text": [
            "Please enter a number (0-10): Yes\n",
            "Sorry that is not a digit!\n",
            "Please enter a number (0-10): 10\n"
          ]
        },
        {
          "output_type": "execute_result",
          "data": {
            "text/plain": [
              "10"
            ]
          },
          "metadata": {},
          "execution_count": 28
        }
      ]
    },
    {
      "cell_type": "code",
      "source": [
        "result = \"Wrong Value\""
      ],
      "metadata": {
        "id": "md7CBoKswUFo"
      },
      "execution_count": 29,
      "outputs": []
    },
    {
      "cell_type": "code",
      "source": [
        "acceptable_values = [0,1,2]"
      ],
      "metadata": {
        "id": "GouTANlH1YNP"
      },
      "execution_count": 30,
      "outputs": []
    },
    {
      "cell_type": "code",
      "source": [
        "result in acceptable_values"
      ],
      "metadata": {
        "id": "2qbYEmM81cRO",
        "colab": {
          "base_uri": "https://localhost:8080/"
        },
        "outputId": "3ab1dec1-360b-4b8c-b198-c3cc1d2d9b48"
      },
      "execution_count": 31,
      "outputs": [
        {
          "output_type": "execute_result",
          "data": {
            "text/plain": [
              "False"
            ]
          },
          "metadata": {},
          "execution_count": 31
        }
      ]
    },
    {
      "cell_type": "code",
      "source": [
        "result not in acceptable_values"
      ],
      "metadata": {
        "id": "3qQWGckg1exj",
        "colab": {
          "base_uri": "https://localhost:8080/"
        },
        "outputId": "0a8450d7-6a1e-42be-f879-a4f9e241e73f"
      },
      "execution_count": 32,
      "outputs": [
        {
          "output_type": "execute_result",
          "data": {
            "text/plain": [
              "True"
            ]
          },
          "metadata": {},
          "execution_count": 32
        }
      ]
    },
    {
      "cell_type": "code",
      "source": [
        "def user_choice():\n",
        "\n",
        "  #Initial\n",
        "  choice = \"WRONG\"\n",
        "  acceptable_range = range(0,10)\n",
        "  within_range = False\n",
        "\n",
        "  while choice.isdigit() == False or within_range == False:\n",
        "    \n",
        "    choice = input(\"Please enter a number (0-10): \")\n",
        "\n",
        "    #DIGIT Check\n",
        "    if choice.isdigit() == False:\n",
        "      print(\"Sorry that is not a digit!\")\n",
        "    \n",
        "    #Range Check\n",
        "    if choice.isdigit() == True:\n",
        "      if int(choice) in acceptable_range:\n",
        "        within_range = True\n",
        "      else:\n",
        "        print(\"Sorry you are out of acceptable range (0-10)\")\n",
        "        within_range = False\n",
        "\n",
        "  return int(choice)"
      ],
      "metadata": {
        "id": "ODsFZn0E1iVE"
      },
      "execution_count": 33,
      "outputs": []
    },
    {
      "cell_type": "code",
      "source": [
        "user_choice()"
      ],
      "metadata": {
        "id": "sr1_MgkKS8Xq",
        "colab": {
          "base_uri": "https://localhost:8080/"
        },
        "outputId": "318f107a-2893-4071-e081-2002c3821e5b"
      },
      "execution_count": 34,
      "outputs": [
        {
          "name": "stdout",
          "output_type": "stream",
          "text": [
            "Please enter a number (0-10): Yes\n",
            "Sorry that is not a digit!\n",
            "Please enter a number (0-10): 100\n",
            "Sorry you are out of acceptable range (0-10)\n",
            "Please enter a number (0-10): 9\n"
          ]
        },
        {
          "output_type": "execute_result",
          "data": {
            "text/plain": [
              "9"
            ]
          },
          "metadata": {},
          "execution_count": 34
        }
      ]
    },
    {
      "cell_type": "markdown",
      "source": [
        "## **Simple User Interaction**"
      ],
      "metadata": {
        "id": "HaMSULlPTfLT"
      }
    },
    {
      "cell_type": "code",
      "source": [
        "game_list = [0,1,2]"
      ],
      "metadata": {
        "id": "pnDYHEd3TSfE"
      },
      "execution_count": 35,
      "outputs": []
    },
    {
      "cell_type": "code",
      "source": [
        "def display_game(game_list):\n",
        "  print(\"Here is the current list: \")\n",
        "  print(game_list)"
      ],
      "metadata": {
        "id": "0kZQJAPZMEp-"
      },
      "execution_count": 36,
      "outputs": []
    },
    {
      "cell_type": "code",
      "source": [
        "display_game(game_list)"
      ],
      "metadata": {
        "colab": {
          "base_uri": "https://localhost:8080/"
        },
        "id": "3q_QOw-fMQi1",
        "outputId": "bb23c2c2-a247-44c2-f8df-8d986f790699"
      },
      "execution_count": 37,
      "outputs": [
        {
          "output_type": "stream",
          "name": "stdout",
          "text": [
            "Here is the current list: \n",
            "[0, 1, 2]\n"
          ]
        }
      ]
    },
    {
      "cell_type": "code",
      "source": [
        "def position_choice():\n",
        "\n",
        "  choice = \"wrong\"\n",
        "\n",
        "  while choice not in [\"0\", \"1\", \"2\"]:\n",
        "\n",
        "    choice = input(\"Pick position (0,1,2): \")\n",
        "\n",
        "    if choice not in [\"0\", \"1\", \"2\"]:\n",
        "      print(\"Sorry, Invalid choice!\")\n",
        "  \n",
        "  return int(choice)"
      ],
      "metadata": {
        "id": "1QaKNtAtMSeS"
      },
      "execution_count": 38,
      "outputs": []
    },
    {
      "cell_type": "code",
      "source": [
        "position_choice()"
      ],
      "metadata": {
        "colab": {
          "base_uri": "https://localhost:8080/"
        },
        "id": "eZEO98K5O8tJ",
        "outputId": "a2d21c18-0197-45c0-ed63-1d5671b56562"
      },
      "execution_count": 39,
      "outputs": [
        {
          "name": "stdout",
          "output_type": "stream",
          "text": [
            "Pick position (0,1,2): 1\n"
          ]
        },
        {
          "output_type": "execute_result",
          "data": {
            "text/plain": [
              "1"
            ]
          },
          "metadata": {},
          "execution_count": 39
        }
      ]
    },
    {
      "cell_type": "code",
      "source": [
        "def replacement_choice(game_list, position):\n",
        "\n",
        "  user_placement = input(\"Type a string to place at position: \")\n",
        "\n",
        "  game_list[position] = user_placement\n",
        "\n",
        "  return game_list"
      ],
      "metadata": {
        "id": "wVC2r8E6PDID"
      },
      "execution_count": 40,
      "outputs": []
    },
    {
      "cell_type": "code",
      "source": [
        "replacement_choice(game_list, 1)"
      ],
      "metadata": {
        "colab": {
          "base_uri": "https://localhost:8080/"
        },
        "id": "WXODF-v6Pw5Q",
        "outputId": "e6b9bc77-ef0a-4cbf-f929-c78d3698510d"
      },
      "execution_count": 41,
      "outputs": [
        {
          "name": "stdout",
          "output_type": "stream",
          "text": [
            "Type a string to place at position: 1\n"
          ]
        },
        {
          "output_type": "execute_result",
          "data": {
            "text/plain": [
              "[0, '1', 2]"
            ]
          },
          "metadata": {},
          "execution_count": 41
        }
      ]
    },
    {
      "cell_type": "code",
      "source": [
        "def gameon_choice():\n",
        "\n",
        "  choice = \"wrong\"\n",
        "\n",
        "  while choice not in [\"Y\", \"N\"]:\n",
        "\n",
        "    choice = input(\"Keep playing? (Y or N)\" )\n",
        "\n",
        "    if choice not in [\"Y\", \"N\"]:\n",
        "      print(\"Sorry, I don't understand, please choose Y or N\")\n",
        "\n",
        "  if choice == \"Y\":\n",
        "    return True\n",
        "  else:\n",
        "    return False"
      ],
      "metadata": {
        "id": "aBF773RqP5Sv"
      },
      "execution_count": 42,
      "outputs": []
    },
    {
      "cell_type": "code",
      "source": [
        "gameon_choice()"
      ],
      "metadata": {
        "colab": {
          "base_uri": "https://localhost:8080/"
        },
        "id": "NjbScrkyRiPq",
        "outputId": "dd341a0f-ae84-4d7c-8b59-b67922bac143"
      },
      "execution_count": 43,
      "outputs": [
        {
          "name": "stdout",
          "output_type": "stream",
          "text": [
            "Keep playing? (Y or N)Y\n"
          ]
        },
        {
          "output_type": "execute_result",
          "data": {
            "text/plain": [
              "True"
            ]
          },
          "metadata": {},
          "execution_count": 43
        }
      ]
    },
    {
      "cell_type": "code",
      "source": [
        "game_on = True\n",
        "game_list = [0,1,2]\n",
        "\n",
        "while game_on:\n",
        "\n",
        "  display_game(game_list)\n",
        "\n",
        "  position = position_choice()\n",
        "\n",
        "  game_list = replacement_choice(game_list, position)\n",
        "\n",
        "  display_game(game_list)\n",
        "\n",
        "  game_on = gameon_choice()"
      ],
      "metadata": {
        "colab": {
          "base_uri": "https://localhost:8080/"
        },
        "id": "KSfPWnXdRocC",
        "outputId": "137609ee-546f-4a99-8ef2-d28c6e8548cb"
      },
      "execution_count": 44,
      "outputs": [
        {
          "name": "stdout",
          "output_type": "stream",
          "text": [
            "Here is the current list: \n",
            "[0, 1, 2]\n",
            "Pick position (0,1,2): 1\n",
            "Type a string to place at position: Test\n",
            "Here is the current list: \n",
            "[0, 'Test', 2]\n",
            "Keep playing? (Y or N)N\n"
          ]
        }
      ]
    },
    {
      "cell_type": "code",
      "source": [
        "#End Of Code"
      ],
      "metadata": {
        "id": "3F2GA1fctH2B"
      },
      "execution_count": 45,
      "outputs": []
    }
  ]
}
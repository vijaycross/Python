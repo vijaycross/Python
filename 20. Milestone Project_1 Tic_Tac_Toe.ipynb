{
  "cells": [
    {
      "cell_type": "markdown",
      "metadata": {
        "id": "-Vo0c3TOJuwk"
      },
      "source": [
        "# Milestone Project 1: Walkthrough Steps Workbook\n",
        "\n",
        "Below is a set of steps for you to follow to try to create the Tic Tac Toe Milestone Project game!"
      ]
    },
    {
      "cell_type": "markdown",
      "metadata": {
        "id": "0R0s4wiWJuwl"
      },
      "source": [
        "#### Some suggested tools before you get started:\n",
        "To take input from a user:\n",
        "\n",
        "    player1 = input(\"Please pick a marker 'X' or 'O'\")\n",
        "    \n",
        "Note that input() takes in a string. If you need an integer value, use\n",
        "\n",
        "    position = int(input('Please enter a number'))\n",
        "    \n",
        "<br>To clear the screen between moves:\n",
        "\n",
        "    from IPython.display import clear_output\n",
        "    clear_output()\n",
        "    \n",
        "Note that clear_output() will only work in jupyter. To clear the screen in other IDEs, consider:\n",
        "\n",
        "    print('\\n'*100)\n",
        "    \n",
        "This scrolls the previous board up out of view. Now on to the program!"
      ]
    },
    {
      "cell_type": "markdown",
      "metadata": {
        "id": "66MMdvt6Juwm"
      },
      "source": [
        "**Step 1: Write a function that can print out a board. Set up your board as a list, where each index 1-9 corresponds with a number on a number pad, so you get a 3 by 3 board representation.**"
      ]
    },
    {
      "cell_type": "code",
      "execution_count": 1,
      "metadata": {
        "collapsed": true,
        "id": "s8x34ZdeJuwn"
      },
      "outputs": [],
      "source": [
        "from IPython.display import clear_output\n",
        "\n",
        "def display_board(board):\n",
        "\n",
        "  clear_output()\n",
        "  print(\"   |   |\")\n",
        "  print(\" \" + board[7] + \" | \" + board[8] + \" | \" + board[9])\n",
        "  print(\"   |   |\")\n",
        "  print(\" \" + board[4] + \" | \" + board[5] + \" | \" + board[6])\n",
        "  print(\"   |   |\")\n",
        "  print(\" \" + board[1] + \" | \" + board[2] + \" | \" + board[3])\n",
        "  print(\"   |   |\")"
      ]
    },
    {
      "cell_type": "markdown",
      "metadata": {
        "id": "c7lppE2UJuwo"
      },
      "source": [
        "**TEST Step 1:** run your function on a test version of the board list, and make adjustments as necessary"
      ]
    },
    {
      "cell_type": "code",
      "execution_count": 2,
      "metadata": {
        "collapsed": true,
        "colab": {
          "base_uri": "https://localhost:8080/"
        },
        "id": "xiBCM38OJuwp",
        "outputId": "c642c21c-bef4-4bd9-ffe5-4dfe7e29162f"
      },
      "outputs": [
        {
          "output_type": "stream",
          "name": "stdout",
          "text": [
            "   |   |\n",
            " X | O | X\n",
            "   |   |\n",
            " O | X | O\n",
            "   |   |\n",
            " X | O | X\n",
            "   |   |\n"
          ]
        }
      ],
      "source": [
        "test_board = ['#','X','O','X','O','X','O','X','O','X']\n",
        "display_board(test_board)"
      ]
    },
    {
      "cell_type": "markdown",
      "metadata": {
        "id": "NVXFDfSOJuwp"
      },
      "source": [
        "**Step 2: Write a function that can take in a player input and assign their marker as 'X' or 'O'. Think about using *while* loops to continually ask until you get a correct answer.**"
      ]
    },
    {
      "cell_type": "code",
      "execution_count": 3,
      "metadata": {
        "collapsed": true,
        "id": "BnLc39LpJuwp"
      },
      "outputs": [],
      "source": [
        "def player_input():\n",
        "\n",
        "  marker = \"\"\n",
        "\n",
        "  #Keep asking player 1 to choose X or O\n",
        "\n",
        "  while marker != \"X\" and marker != \"O\":\n",
        "\n",
        "  #while not (marker == \"X\" or marker == \"O\"):  \n",
        "\n",
        "    marker = input(\"Player1 : Choose X or O: \").upper()\n",
        "\n",
        "  #Assign Player 2, the opposite marker\n",
        "\n",
        "  if marker == \"X\":\n",
        "\n",
        "    return (\"X\", \"O\")\n",
        "\n",
        "  else:\n",
        "\n",
        "    return (\"O\", \"X\")\n",
        "\n",
        " # player1 = marker\n",
        "\n",
        "  #if player1 == \"X\":\n",
        "   # player2 = \"O\"\n",
        "  #else:\n",
        "   # palyer2 = \"X\"\n",
        "  #return (player1, player2)"
      ]
    },
    {
      "cell_type": "markdown",
      "metadata": {
        "id": "KZXTR5AyJuwq"
      },
      "source": [
        "**TEST Step 2:** run the function to make sure it returns the desired output"
      ]
    },
    {
      "cell_type": "code",
      "execution_count": 4,
      "metadata": {
        "collapsed": true,
        "colab": {
          "base_uri": "https://localhost:8080/"
        },
        "id": "guUG4KkbJuwq",
        "outputId": "13d570e5-b246-411b-9350-46b96b950eb1"
      },
      "outputs": [
        {
          "name": "stdout",
          "output_type": "stream",
          "text": [
            "Player1 : Choose X or O: X\n"
          ]
        }
      ],
      "source": [
        "player1_marker, player2_marker = player_input()"
      ]
    },
    {
      "cell_type": "code",
      "source": [
        "player1_marker"
      ],
      "metadata": {
        "colab": {
          "base_uri": "https://localhost:8080/",
          "height": 36
        },
        "id": "D6WYp74FstNO",
        "outputId": "b03632e7-8bc4-43dc-e825-2ac7df5cda3d"
      },
      "execution_count": 5,
      "outputs": [
        {
          "output_type": "execute_result",
          "data": {
            "text/plain": [
              "'X'"
            ],
            "application/vnd.google.colaboratory.intrinsic+json": {
              "type": "string"
            }
          },
          "metadata": {},
          "execution_count": 5
        }
      ]
    },
    {
      "cell_type": "markdown",
      "metadata": {
        "id": "PauZcidvJuws"
      },
      "source": [
        "**Step 3: Write a function that takes in the board list object, a marker ('X' or 'O'), and a desired position (number 1-9) and assigns it to the board.**"
      ]
    },
    {
      "cell_type": "code",
      "execution_count": 6,
      "metadata": {
        "collapsed": true,
        "id": "_Cbr6ZDvJuws"
      },
      "outputs": [],
      "source": [
        "def place_marker(board, marker, position):\n",
        "\n",
        "  board[position] = marker"
      ]
    },
    {
      "cell_type": "markdown",
      "metadata": {
        "id": "DaCvKrPgJuws"
      },
      "source": [
        "**TEST Step 3:** run the place marker function using test parameters and display the modified board"
      ]
    },
    {
      "cell_type": "code",
      "source": [
        "test_board"
      ],
      "metadata": {
        "colab": {
          "base_uri": "https://localhost:8080/"
        },
        "id": "0K9H-tl8DIna",
        "outputId": "48cf8b89-03d2-45ef-af06-fdc48e4aace8"
      },
      "execution_count": 7,
      "outputs": [
        {
          "output_type": "execute_result",
          "data": {
            "text/plain": [
              "['#', 'X', 'O', 'X', 'O', 'X', 'O', 'X', 'O', 'X']"
            ]
          },
          "metadata": {},
          "execution_count": 7
        }
      ]
    },
    {
      "cell_type": "code",
      "execution_count": 8,
      "metadata": {
        "collapsed": true,
        "colab": {
          "base_uri": "https://localhost:8080/"
        },
        "id": "yNowcUW_Juwt",
        "outputId": "a2cd7d5d-a6bc-409d-f7e3-7cf93797a06b"
      },
      "outputs": [
        {
          "output_type": "stream",
          "name": "stdout",
          "text": [
            "   |   |\n",
            " X | $ | X\n",
            "   |   |\n",
            " O | X | O\n",
            "   |   |\n",
            " X | O | X\n",
            "   |   |\n"
          ]
        }
      ],
      "source": [
        "place_marker(test_board,'$',8)\n",
        "display_board(test_board)"
      ]
    },
    {
      "cell_type": "markdown",
      "metadata": {
        "id": "EEqX2ZqyJuwt"
      },
      "source": [
        "**Step 4: Write a function that takes in a board and a mark (X or O) and then checks to see if that mark has won. **"
      ]
    },
    {
      "cell_type": "code",
      "execution_count": 9,
      "metadata": {
        "collapsed": true,
        "id": "ALkuMxwQJuwt"
      },
      "outputs": [],
      "source": [
        "def win_check(board, mark):\n",
        "\n",
        "  #WIN TIC TAC TOE?\n",
        "  #All Rows, and check to see if they all share the same marker?\n",
        "  #All columns, check to see if marker matches\n",
        "  #2 diagonals, check to see match\n",
        "  return ((board[1] == board[2] == board[3] == mark) or\n",
        "  (board[4] == board[5] == board[6] == mark) or\n",
        "  (board[7] == board[8] == board[9] == mark) or\n",
        "  (board[1] == board[4] == board[7] == mark) or\n",
        "  (board[2] == board[5] == board[8] == mark) or\n",
        "  (board[3] == board[6] == board[9] == mark) or\n",
        "  (board[1] == board[5] == board[9] == mark) or\n",
        "  (board[3] == board[5] == board[7] == mark))"
      ]
    },
    {
      "cell_type": "markdown",
      "metadata": {
        "id": "t8UBnGbuJuwt"
      },
      "source": [
        "**TEST Step 4:** run the win_check function against our test_board - it should return True"
      ]
    },
    {
      "cell_type": "code",
      "execution_count": 10,
      "metadata": {
        "collapsed": true,
        "colab": {
          "base_uri": "https://localhost:8080/"
        },
        "id": "7Ac2gFIuJuwt",
        "outputId": "f414dfde-c7af-472d-e3d3-f00735574948"
      },
      "outputs": [
        {
          "output_type": "stream",
          "name": "stdout",
          "text": [
            "   |   |\n",
            " X | $ | X\n",
            "   |   |\n",
            " O | X | O\n",
            "   |   |\n",
            " X | O | X\n",
            "   |   |\n"
          ]
        },
        {
          "output_type": "execute_result",
          "data": {
            "text/plain": [
              "True"
            ]
          },
          "metadata": {},
          "execution_count": 10
        }
      ],
      "source": [
        "display_board(test_board)\n",
        "win_check(test_board,'X')"
      ]
    },
    {
      "cell_type": "markdown",
      "metadata": {
        "id": "LSxvtNkAJuwu"
      },
      "source": [
        "**Step 5: Write a function that uses the random module to randomly decide which player goes first. You may want to lookup random.randint() Return a string of which player went first.**"
      ]
    },
    {
      "cell_type": "code",
      "execution_count": 11,
      "metadata": {
        "collapsed": true,
        "id": "2BFzIkLhJuwu"
      },
      "outputs": [],
      "source": [
        "import random\n",
        "\n",
        "def choose_first():\n",
        "\n",
        "  flip = random.randint(0,1)\n",
        "\n",
        "  if flip == 0:\n",
        "    return \"Player 1\"\n",
        "  else:\n",
        "    return \"Player 2\""
      ]
    },
    {
      "cell_type": "markdown",
      "metadata": {
        "id": "2VzgP8fHJuwu"
      },
      "source": [
        "**Step 6: Write a function that returns a boolean indicating whether a space on the board is freely available.**"
      ]
    },
    {
      "cell_type": "code",
      "execution_count": 12,
      "metadata": {
        "collapsed": true,
        "id": "3hm30ahCJuwu"
      },
      "outputs": [],
      "source": [
        "def space_check(board, position):\n",
        "\n",
        "  return board[position] == \" \""
      ]
    },
    {
      "cell_type": "markdown",
      "metadata": {
        "id": "S-JTHQeXJuwv"
      },
      "source": [
        "**Step 7: Write a function that checks if the board is full and returns a boolean value. True if full, False otherwise.**"
      ]
    },
    {
      "cell_type": "code",
      "execution_count": 13,
      "metadata": {
        "collapsed": true,
        "id": "O53iLunuJuwv"
      },
      "outputs": [],
      "source": [
        "def full_board_check(board):\n",
        "\n",
        "  for i in range(1,10):\n",
        "    if space_check(board,i):\n",
        "      return False\n",
        "  \n",
        "  #Board is Full is we Return True\n",
        "  return True"
      ]
    },
    {
      "cell_type": "markdown",
      "metadata": {
        "id": "ZTqxAUvyJuwv"
      },
      "source": [
        "**Step 8: Write a function that asks for a player's next position (as a number 1-9) and then uses the function from step 6 to check if it's a free position. If it is, then return the position for later use.**"
      ]
    },
    {
      "cell_type": "code",
      "execution_count": 14,
      "metadata": {
        "collapsed": true,
        "id": "k4AwhYqtJuwv"
      },
      "outputs": [],
      "source": [
        "def player_choice(board):\n",
        "\n",
        "  position = 0\n",
        "\n",
        "  while position not in [1,2,3,4,5,6,7,8,9] or not space_check(board,poistion):\n",
        "    position = int(input(\"Choose a position: (1-9) \"))\n",
        "\n",
        "    return position"
      ]
    },
    {
      "cell_type": "markdown",
      "metadata": {
        "id": "yPRvQhh2Juwv"
      },
      "source": [
        "**Step 9: Write a function that asks the player if they want to play again and returns a boolean True if they do want to play again.**"
      ]
    },
    {
      "cell_type": "code",
      "execution_count": 15,
      "metadata": {
        "collapsed": true,
        "id": "VBOoj0WKJuww"
      },
      "outputs": [],
      "source": [
        "def replay():\n",
        "\n",
        "  choice = input(\"Play again? Enter Yes or No\")\n",
        "\n",
        "  return choice == \"Yes\""
      ]
    },
    {
      "cell_type": "markdown",
      "metadata": {
        "collapsed": true,
        "id": "00h2qv91Juww"
      },
      "source": [
        "**Step 10: Here comes the hard part! Use while loops and the functions you've made to run the game!**"
      ]
    },
    {
      "cell_type": "code",
      "source": [
        "# While loop to keep running the game\n",
        "print('Welcome to Tic Tac Toe!')\n",
        "\n",
        "while True:\n",
        "\n",
        "  #Play the Game\n",
        "\n",
        "  #Set Everything up (Board, Who's First, Choose Markers X,O)\n",
        "  the_board = [\" \"]*10\n",
        "  player1_marker,player2_marker = player_input()\n",
        "\n",
        "  turn = choose_first()\n",
        "  print(turn + \"Will go first\")\n",
        "\n",
        "  play_game = input(\"Ready to play? Y or N\")\n",
        "\n",
        "  if play_game == \"Y\":\n",
        "    game_on = True\n",
        "  else:\n",
        "    game_on = False\n",
        "\n",
        "  #Game Play\n",
        "\n",
        "  while game_on:\n",
        "\n",
        "    if turn == \"Player 1\":\n",
        "\n",
        "      #Show the board\n",
        "      display_board(the_board)\n",
        "      \n",
        "      #Choose a position\n",
        "      position = player_choice(the_board)\n",
        "      \n",
        "      #Place the marker on the position\n",
        "      place_marker(the_board,player1_marker,position)\n",
        "\n",
        "      #Check if they won\n",
        "      if win_check(the_board,player1_marker):\n",
        "        display_board(the_board)\n",
        "        print(\"Player 1 Has Won!!\")\n",
        "        game_on = False\n",
        "      else:\n",
        "        if full_board_check(the_board):\n",
        "          display_board(the_board)\n",
        "          print(\"TIE GAME!\")\n",
        "          game_on = False\n",
        "        else:\n",
        "          turn = \"Player 2\"\n",
        "     \n",
        "    else:\n",
        "        #Show the board\n",
        "      display_board(the_board)\n",
        "      \n",
        "      #Choose a position\n",
        "      position = player_choice(the_board)\n",
        "      \n",
        "      #Place the marker on the position\n",
        "      place_marker(the_board,player2_marker,position)\n",
        "\n",
        "      #Check if they won\n",
        "      if win_check(the_board,player2_marker):\n",
        "        display_board(the_board)\n",
        "        print(\"Player 2 Has Won!!\")\n",
        "        game_on = False\n",
        "      else:\n",
        "        if full_board_check(the_board):\n",
        "          display_board(the_board)\n",
        "          print(\"TIE GAME!\")\n",
        "          game_on = False\n",
        "        else:\n",
        "          turn = \"Player 1\"\n",
        "\n",
        "  if not replay():\n",
        "    break\n",
        "\n",
        "\n",
        "# Break out of the while loop ON Replay()"
      ],
      "metadata": {
        "id": "cDEl51MpSivP",
        "colab": {
          "base_uri": "https://localhost:8080/"
        },
        "outputId": "4d237771-7edd-4233-aff8-9f7114c6856e"
      },
      "execution_count": 18,
      "outputs": [
        {
          "name": "stdout",
          "output_type": "stream",
          "text": [
            "   |   |\n",
            " X | O | O\n",
            "   |   |\n",
            " O |   | O\n",
            "   |   |\n",
            " X | X | X\n",
            "   |   |\n",
            "Player 2 Has Won!!\n",
            "Play again? Enter Yes or NoNo\n"
          ]
        }
      ]
    },
    {
      "cell_type": "markdown",
      "metadata": {
        "collapsed": true,
        "id": "THlBFt3MJuww"
      },
      "source": [
        "## Good Job!"
      ]
    }
  ],
  "metadata": {
    "kernelspec": {
      "display_name": "Python 3",
      "language": "python",
      "name": "python3"
    },
    "language_info": {
      "codemirror_mode": {
        "name": "ipython",
        "version": 3
      },
      "file_extension": ".py",
      "mimetype": "text/x-python",
      "name": "python",
      "nbconvert_exporter": "python",
      "pygments_lexer": "ipython3",
      "version": "3.6.6"
    },
    "colab": {
      "provenance": []
    }
  },
  "nbformat": 4,
  "nbformat_minor": 0
}
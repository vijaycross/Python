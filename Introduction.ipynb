{
 "cells": [
  {
   "cell_type": "code",
   "execution_count": 1,
   "id": "0d61c1ef",
   "metadata": {},
   "outputs": [
    {
     "data": {
      "text/plain": [
       "11"
      ]
     },
     "execution_count": 1,
     "metadata": {},
     "output_type": "execute_result"
    }
   ],
   "source": [
    "5+6   # Run"
   ]
  },
  {
   "cell_type": "code",
   "execution_count": 2,
   "id": "d3811a11",
   "metadata": {},
   "outputs": [
    {
     "data": {
      "text/plain": [
       "30"
      ]
     },
     "execution_count": 2,
     "metadata": {},
     "output_type": "execute_result"
    }
   ],
   "source": [
    "5*6   # shift + enter"
   ]
  },
  {
   "cell_type": "code",
   "execution_count": 3,
   "id": "2774f8ba",
   "metadata": {},
   "outputs": [
    {
     "data": {
      "text/plain": [
       "-1"
      ]
     },
     "execution_count": 3,
     "metadata": {},
     "output_type": "execute_result"
    }
   ],
   "source": [
    "5-6   # ctrl + enter"
   ]
  },
  {
   "cell_type": "markdown",
   "id": "3fb0a5c3",
   "metadata": {},
   "source": [
    "# Comments"
   ]
  },
  {
   "cell_type": "code",
   "execution_count": 4,
   "id": "4f9f15ce",
   "metadata": {},
   "outputs": [
    {
     "data": {
      "text/plain": [
       "30"
      ]
     },
     "execution_count": 4,
     "metadata": {},
     "output_type": "execute_result"
    }
   ],
   "source": [
    "# Single line comment\n",
    "\n",
    "# is used for commenting a line \n",
    "\n",
    "#add two numbers\n",
    "10+20"
   ]
  },
  {
   "cell_type": "code",
   "execution_count": 5,
   "id": "1be0540c",
   "metadata": {},
   "outputs": [
    {
     "data": {
      "text/plain": [
       "30"
      ]
     },
     "execution_count": 5,
     "metadata": {},
     "output_type": "execute_result"
    }
   ],
   "source": [
    "\"\"\"\n",
    "Line1\n",
    "Line2\n",
    ".\n",
    ".\n",
    ".\n",
    "LineN\n",
    "\"\"\"\n",
    "\n",
    "5*6"
   ]
  },
  {
   "cell_type": "markdown",
   "id": "db113d99",
   "metadata": {},
   "source": [
    "# QUOTES"
   ]
  },
  {
   "cell_type": "code",
   "execution_count": 23,
   "id": "04c07483",
   "metadata": {},
   "outputs": [
    {
     "ename": "SyntaxError",
     "evalue": "EOL while scanning string literal (Temp/ipykernel_9064/1447838680.py, line 1)",
     "output_type": "error",
     "traceback": [
      "\u001b[1;36m  File \u001b[1;32m\"C:\\Users\\Vijay\\AppData\\Local\\Temp/ipykernel_9064/1447838680.py\"\u001b[1;36m, line \u001b[1;32m1\u001b[0m\n\u001b[1;33m    '\u001b[0m\n\u001b[1;37m     ^\u001b[0m\n\u001b[1;31mSyntaxError\u001b[0m\u001b[1;31m:\u001b[0m EOL while scanning string literal\n"
     ]
    }
   ],
   "source": [
    "'\n",
    "\"\n",
    "'''  | \"\"\" "
   ]
  },
  {
   "cell_type": "code",
   "execution_count": 8,
   "id": "5b047e4b",
   "metadata": {},
   "outputs": [
    {
     "name": "stdout",
     "output_type": "stream",
     "text": [
      "Raghul Ramesh\n"
     ]
    }
   ],
   "source": [
    "name='Raghul Ramesh'\n",
    "print(name)"
   ]
  },
  {
   "cell_type": "code",
   "execution_count": 9,
   "id": "dfc525ca",
   "metadata": {},
   "outputs": [
    {
     "name": "stdout",
     "output_type": "stream",
     "text": [
      "Raghul Ramesh\n"
     ]
    }
   ],
   "source": [
    "name=\"Raghul Ramesh\"\n",
    "print(name)"
   ]
  },
  {
   "cell_type": "code",
   "execution_count": 10,
   "id": "4be1695b",
   "metadata": {},
   "outputs": [],
   "source": [
    "college=\"st's joseph engg college\""
   ]
  },
  {
   "cell_type": "code",
   "execution_count": 11,
   "id": "3057befa",
   "metadata": {},
   "outputs": [
    {
     "name": "stdout",
     "output_type": "stream",
     "text": [
      "st's joseph engg college\n"
     ]
    }
   ],
   "source": [
    "print(college)"
   ]
  },
  {
   "cell_type": "code",
   "execution_count": 12,
   "id": "bb1aee99",
   "metadata": {},
   "outputs": [],
   "source": [
    "college='st\\'s joseph engg college'"
   ]
  },
  {
   "cell_type": "code",
   "execution_count": 13,
   "id": "5b8778c6",
   "metadata": {},
   "outputs": [
    {
     "name": "stdout",
     "output_type": "stream",
     "text": [
      "st's joseph engg college\n"
     ]
    }
   ],
   "source": [
    "print(college)"
   ]
  },
  {
   "cell_type": "code",
   "execution_count": 14,
   "id": "7455994a",
   "metadata": {},
   "outputs": [],
   "source": [
    "about='Python support both \"Porcedural\" as well as \"OOPS\"'"
   ]
  },
  {
   "cell_type": "code",
   "execution_count": 15,
   "id": "1941d88f",
   "metadata": {},
   "outputs": [
    {
     "name": "stdout",
     "output_type": "stream",
     "text": [
      "Python support both \"Porcedural\" as well as \"OOPS\"\n"
     ]
    }
   ],
   "source": [
    "print(about)"
   ]
  },
  {
   "cell_type": "code",
   "execution_count": 16,
   "id": "4e2abf0c",
   "metadata": {},
   "outputs": [],
   "source": [
    "about='Python support both \\'Porcedural\\' as well as \"OOPS\"'"
   ]
  },
  {
   "cell_type": "code",
   "execution_count": 17,
   "id": "4f67441c",
   "metadata": {},
   "outputs": [
    {
     "name": "stdout",
     "output_type": "stream",
     "text": [
      "Python support both 'Porcedural' as well as \"OOPS\"\n"
     ]
    }
   ],
   "source": [
    "print(about)"
   ]
  },
  {
   "cell_type": "code",
   "execution_count": 18,
   "id": "7552c739",
   "metadata": {},
   "outputs": [],
   "source": [
    "about_python=\"\"\"Python is a high level, dynamic, procedural and object orietnted programming language\n",
    "It was developed by \"GUIDO VAN ROUSSUM\"\n",
    "He is from NETHERLAND\n",
    "It was releaed in to market on early 1990 \"\"\""
   ]
  },
  {
   "cell_type": "code",
   "execution_count": 19,
   "id": "1ed2790c",
   "metadata": {},
   "outputs": [
    {
     "name": "stdout",
     "output_type": "stream",
     "text": [
      "Python is a high level, dynamic, procedural and object orietnted programming language\n",
      "It was developed by \"GUIDO VAN ROUSSUM\"\n",
      "He is from NETHERLAND\n",
      "It was releaed in to market on early 1990 \n"
     ]
    }
   ],
   "source": [
    "print(about_python)"
   ]
  },
  {
   "cell_type": "code",
   "execution_count": 20,
   "id": "224a466f",
   "metadata": {},
   "outputs": [
    {
     "name": "stdout",
     "output_type": "stream",
     "text": [
      "You can vote\n",
      "It is valid only for indian citizen\n",
      "Please check your own contry standards if you are from other country\n",
      "Out of conditional statement\n"
     ]
    }
   ],
   "source": [
    "age=100\n",
    "if age>18 and age<=100:\n",
    "    print(\"You can vote\")\n",
    "    print(\"It is valid only for indian citizen\")\n",
    "    print(\"Please check your own contry standards if you are from other country\")\n",
    "elif age<0 or age>100:\n",
    "    print(\"Invalid age. Please check\")\n",
    "elif age==0:\n",
    "    print(\"You are a just born baby!\")\n",
    "else:\n",
    "    print(\"You cannot vote\")\n",
    "    print(\"Because you are less than 18 years old\")\n",
    "print(\"Out of conditional statement\")"
   ]
  },
  {
   "cell_type": "code",
   "execution_count": 21,
   "id": "8dbe60e8",
   "metadata": {},
   "outputs": [
    {
     "name": "stdout",
     "output_type": "stream",
     "text": [
      "can't go for voting\n"
     ]
    }
   ],
   "source": [
    "age=3\n",
    "country='India'\n",
    "\n",
    "if country == 'India':\n",
    "    if age > 18:\n",
    "        print(\"You are eligible to vote\")\n",
    "    else:\n",
    "        print(\"can't go for voting\")\n",
    "else:\n",
    "    print(\"Please follow your own contry:{} standard\".format(country))"
   ]
  },
  {
   "cell_type": "code",
   "execution_count": 22,
   "id": "31c168db",
   "metadata": {},
   "outputs": [
    {
     "name": "stdout",
     "output_type": "stream",
     "text": [
      "-2\n"
     ]
    }
   ],
   "source": [
    "age=-2\n",
    "if age>0:\n",
    "    print(\"Your age is:\",age)\n",
    "    \n",
    "elif age==100:\n",
    "    print(\"Invalid age\")\n",
    "    \n",
    "else:\n",
    "    print(age)"
   ]
  },
  {
   "cell_type": "code",
   "execution_count": null,
   "id": "511b3b0f",
   "metadata": {},
   "outputs": [],
   "source": []
  }
 ],
 "metadata": {
  "kernelspec": {
   "display_name": "Python 3 (ipykernel)",
   "language": "python",
   "name": "python3"
  },
  "language_info": {
   "codemirror_mode": {
    "name": "ipython",
    "version": 3
   },
   "file_extension": ".py",
   "mimetype": "text/x-python",
   "name": "python",
   "nbconvert_exporter": "python",
   "pygments_lexer": "ipython3",
   "version": "3.9.7"
  }
 },
 "nbformat": 4,
 "nbformat_minor": 5
}
